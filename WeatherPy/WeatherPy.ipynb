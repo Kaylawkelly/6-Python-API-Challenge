{
 "cells": [
  {
   "cell_type": "code",
   "execution_count": 1,
   "metadata": {},
   "outputs": [],
   "source": [
    "#pip install citipy"
   ]
  },
  {
   "cell_type": "markdown",
   "metadata": {},
   "source": [
    "# WeatherPy\n",
    "----\n",
    "\n",
    "#### Note\n",
    "* Instructions have been included for each segment. You do not have to follow them exactly, but they are included to help you think through the steps."
   ]
  },
  {
   "cell_type": "code",
   "execution_count": 2,
   "metadata": {
    "scrolled": true
   },
   "outputs": [],
   "source": [
    "# Dependencies and Setup\n",
    "import matplotlib.pyplot as plt\n",
    "import pandas as pd\n",
    "import numpy as np\n",
    "import requests\n",
    "import time\n",
    "from scipy.stats import linregress\n",
    "\n",
    "# Import API key\n",
    "from api_keys import weather_api_key\n",
    "\n",
    "# Incorporated citipy to determine city based on latitude and longitude\n",
    "from citipy import citipy\n",
    "\n",
    "# Output File (CSV)\n",
    "output_data_file = \"output_data/cities.csv\"\n",
    "\n",
    "# Range of latitudes and longitudes\n",
    "lat_range = (-90, 90)\n",
    "lng_range = (-180, 180)"
   ]
  },
  {
   "cell_type": "markdown",
   "metadata": {},
   "source": [
    "## Generate Cities List"
   ]
  },
  {
   "cell_type": "code",
   "execution_count": 3,
   "metadata": {},
   "outputs": [
    {
     "data": {
      "text/plain": [
       "628"
      ]
     },
     "execution_count": 3,
     "metadata": {},
     "output_type": "execute_result"
    }
   ],
   "source": [
    "# List for holding lat_lngs and cities\n",
    "lat_lngs = []\n",
    "cities = []\n",
    "\n",
    "# Create a set of random lat and lng combinations\n",
    "lats = np.random.uniform(lat_range[0], lat_range[1], size=1500)\n",
    "lngs = np.random.uniform(lng_range[0], lng_range[1], size=1500)\n",
    "lat_lngs = zip(lats, lngs)\n",
    "\n",
    "# Identify nearest city for each lat, lng combination\n",
    "for lat_lng in lat_lngs:\n",
    "    city = citipy.nearest_city(lat_lng[0], lat_lng[1]).city_name\n",
    "    \n",
    "    # If the city is unique, then add it to a our cities list\n",
    "    if city not in cities:\n",
    "        cities.append(city)\n",
    "\n",
    "# Print the city count to confirm sufficient count\n",
    "len(cities)"
   ]
  },
  {
   "cell_type": "markdown",
   "metadata": {},
   "source": [
    "### Perform API Calls\n",
    "* Perform a weather check on each city using a series of successive API calls.\n",
    "* Include a print log of each city as it'sbeing processed (with the city number and city name).\n"
   ]
  },
  {
   "cell_type": "code",
   "execution_count": 4,
   "metadata": {
    "scrolled": true
   },
   "outputs": [
    {
     "name": "stdout",
     "output_type": "stream",
     "text": [
      "http://api.openweathermap.org/data/2.5/weather?appid=999fb85742e96c699338def4a2ba44db&units=metric&q=\n"
     ]
    },
    {
     "data": {
      "text/plain": [
       "{'coord': {'lon': -74.006, 'lat': 40.7143},\n",
       " 'weather': [{'id': 801,\n",
       "   'main': 'Clouds',\n",
       "   'description': 'few clouds',\n",
       "   'icon': '02n'}],\n",
       " 'base': 'stations',\n",
       " 'main': {'temp': 6.61,\n",
       "  'feels_like': 0.88,\n",
       "  'temp_min': 6,\n",
       "  'temp_max': 7.22,\n",
       "  'pressure': 1007,\n",
       "  'humidity': 36},\n",
       " 'visibility': 10000,\n",
       " 'wind': {'speed': 4.12, 'deg': 350},\n",
       " 'clouds': {'all': 20},\n",
       " 'dt': 1614640669,\n",
       " 'sys': {'type': 1,\n",
       "  'id': 4610,\n",
       "  'country': 'US',\n",
       "  'sunrise': 1614598189,\n",
       "  'sunset': 1614638829},\n",
       " 'timezone': -18000,\n",
       " 'id': 5128581,\n",
       " 'name': 'New York',\n",
       " 'cod': 200}"
      ]
     },
     "execution_count": 4,
     "metadata": {},
     "output_type": "execute_result"
    }
   ],
   "source": [
    "url = \"http://api.openweathermap.org/data/2.5/weather?\"\n",
    "units = \"metric\"\n",
    "\n",
    "query_url=f\"{url}appid={weather_api_key}&units={units}&q=\"\n",
    "print(query_url)\n",
    "\n",
    "response = requests.get(query_url + \"New York City\").json()\n",
    "response\n",
    "\n"
   ]
  },
  {
   "cell_type": "code",
   "execution_count": 5,
   "metadata": {},
   "outputs": [
    {
     "name": "stdout",
     "output_type": "stream",
     "text": [
      "1 port alfred\n",
      "2 punta arenas\n",
      "3 avarua\n",
      "City not found.\n",
      "5 kholm\n",
      "6 walvis bay\n",
      "7 hualmay\n",
      "8 platanos\n",
      "9 hobart\n",
      "10 qaanaaq\n",
      "11 bethel\n",
      "12 saskylakh\n",
      "13 clyde river\n",
      "City not found.\n",
      "City not found.\n",
      "16 kapaa\n",
      "17 tromso\n",
      "18 albany\n",
      "19 rikitea\n",
      "20 jamestown\n",
      "21 mataura\n",
      "22 chakulia\n",
      "23 upernavik\n",
      "24 mezen\n",
      "25 flinders\n",
      "26 shimoda\n",
      "27 nanortalik\n",
      "28 busselton\n",
      "29 waverly\n",
      "30 nikolskoye\n",
      "City not found.\n",
      "City not found.\n",
      "33 aykhal\n",
      "34 tokur\n",
      "35 mongu\n",
      "36 vila franca do campo\n",
      "37 bugiri\n",
      "38 vestmannaeyjar\n",
      "39 esperance\n",
      "40 bougouni\n",
      "41 punta de piedra\n",
      "42 vaini\n",
      "43 venado tuerto\n",
      "44 suntar\n",
      "45 nabire\n",
      "46 atuona\n",
      "47 kandi\n",
      "48 barrow\n",
      "49 lorengau\n",
      "50 imbituba\n",
      "51 kaitangata\n",
      "52 rocha\n",
      "53 lebu\n",
      "54 panguna\n",
      "55 kavieng\n",
      "56 bluff\n",
      "57 saldanha\n",
      "58 awbari\n",
      "59 yacuiba\n",
      "City not found.\n",
      "61 kedrovyy\n",
      "62 hermanus\n",
      "63 cabo san lucas\n",
      "64 diego de almagro\n",
      "65 tiksi\n",
      "City not found.\n",
      "67 kawalu\n",
      "68 caravelas\n",
      "69 hilo\n",
      "70 sechura\n",
      "71 khatanga\n",
      "72 new norfolk\n",
      "73 monte alegre de minas\n",
      "City not found.\n",
      "75 beloha\n",
      "City not found.\n",
      "77 santa maria\n",
      "78 provideniya\n",
      "79 east london\n",
      "80 ponta do sol\n",
      "81 mahibadhoo\n",
      "82 port hardy\n",
      "83 jumla\n",
      "84 komsomolskiy\n",
      "85 meulaboh\n",
      "86 port elizabeth\n",
      "87 chuy\n",
      "88 nizwa\n",
      "89 olafsvik\n",
      "90 georgetown\n",
      "91 ancud\n",
      "92 victoria\n",
      "93 puerto ayora\n",
      "94 yenagoa\n",
      "95 dikson\n",
      "96 cape town\n",
      "97 castro\n",
      "98 tuktoyaktuk\n",
      "99 katsuura\n",
      "100 umm kaddadah\n",
      "101 zhengjiatun\n",
      "102 norman wells\n",
      "103 jacqueville\n",
      "104 mumford\n",
      "105 zhanakorgan\n",
      "106 mamallapuram\n",
      "City not found.\n",
      "108 issia\n",
      "109 sistranda\n",
      "110 loandjili\n",
      "111 fortuna\n",
      "112 quatre cocos\n",
      "113 gambela\n",
      "114 grootfontein\n",
      "City not found.\n",
      "116 tres lagoas\n",
      "117 bilma\n",
      "City not found.\n",
      "119 fairbanks\n",
      "120 yellowknife\n",
      "121 leningradskiy\n",
      "122 lompoc\n",
      "123 coahuayana\n",
      "124 lubao\n",
      "125 grindavik\n",
      "126 nantucket\n",
      "127 comodoro rivadavia\n",
      "128 la ronge\n",
      "129 lobau\n",
      "130 pisco\n",
      "131 richards bay\n",
      "132 talnakh\n",
      "133 solnechnyy\n",
      "134 severo-kurilsk\n",
      "135 moba\n",
      "136 mahebourg\n",
      "137 saint-philippe\n",
      "138 rudnyy\n",
      "139 panaba\n",
      "140 cabedelo\n",
      "141 chokurdakh\n",
      "142 arraial do cabo\n",
      "143 gobabis\n",
      "144 makakilo city\n",
      "145 manaus\n",
      "146 netarhat\n",
      "147 hithadhoo\n",
      "148 si bun ruang\n",
      "149 hofn\n",
      "City not found.\n",
      "151 bengkulu\n",
      "152 sola\n",
      "153 hami\n",
      "154 kumburgaz\n",
      "155 sur\n",
      "156 chissamba\n",
      "157 vaitape\n",
      "158 kukushtan\n",
      "159 codrington\n",
      "160 padang\n",
      "161 xichang\n",
      "City not found.\n",
      "163 tuatapere\n",
      "164 aasiaat\n",
      "165 bandarbeyla\n",
      "166 faya\n",
      "167 deder\n",
      "City not found.\n",
      "169 manono\n",
      "170 touros\n",
      "City not found.\n",
      "172 bloomington\n",
      "173 tasiilaq\n",
      "174 that phanom\n",
      "175 brigantine\n",
      "176 cockburn town\n",
      "177 kerrville\n",
      "178 mehamn\n",
      "179 sorland\n",
      "180 butaritari\n",
      "181 havelock\n",
      "182 kloulklubed\n",
      "City not found.\n",
      "184 marienburg\n",
      "185 marystown\n",
      "186 pavlovka\n",
      "187 vardo\n",
      "188 astana\n",
      "189 illapel\n",
      "190 bereznehuvate\n",
      "191 zalesovo\n",
      "192 mount isa\n",
      "193 ushuaia\n",
      "194 cookeville\n",
      "195 kipushi\n",
      "196 pelym\n",
      "197 santona\n",
      "City not found.\n",
      "199 mar del plata\n",
      "City not found.\n",
      "201 bredasdorp\n",
      "202 te anau\n",
      "203 ola\n",
      "204 narsaq\n",
      "205 bairnsdale\n",
      "206 krasnoselkup\n",
      "207 los llanos de aridane\n",
      "208 russell\n",
      "209 oranjestad\n",
      "210 invermere\n",
      "211 vyartsilya\n",
      "212 hastinapur\n",
      "213 iberia\n",
      "City not found.\n",
      "215 belize\n",
      "216 vermillion\n",
      "217 hambantota\n",
      "218 bowen\n",
      "219 longyearbyen\n",
      "220 vanimo\n",
      "221 geraldton\n",
      "222 portland\n",
      "City not found.\n",
      "City not found.\n",
      "City not found.\n",
      "City not found.\n",
      "227 barraute\n",
      "228 mae hong son\n",
      "229 mayo\n",
      "230 ca mau\n",
      "231 la oroya\n",
      "232 maldonado\n",
      "233 spring valley\n",
      "234 seymchan\n",
      "235 krasnyy luch\n",
      "236 husavik\n",
      "237 san patricio\n",
      "238 jiexiu\n",
      "City not found.\n",
      "240 port augusta\n",
      "241 batemans bay\n",
      "242 chapais\n",
      "243 avera\n",
      "244 thompson\n",
      "245 luanda\n",
      "246 kazachinskoye\n",
      "City not found.\n",
      "248 mazyr\n",
      "249 jalu\n",
      "250 joshimath\n",
      "251 okha\n",
      "252 qaqortoq\n",
      "253 taltal\n",
      "254 carnarvon\n",
      "255 kirakira\n",
      "256 north bend\n",
      "257 creel\n",
      "258 saint george\n",
      "259 toora-khem\n",
      "City not found.\n",
      "261 abu samrah\n",
      "262 santiago del estero\n",
      "City not found.\n",
      "264 petrolina\n",
      "265 najran\n",
      "266 osoyoos\n",
      "267 kodiak\n",
      "268 cordoba\n",
      "269 jesup\n",
      "270 zhezkazgan\n",
      "271 sangar\n",
      "272 lagoa\n",
      "273 yar-sale\n",
      "274 reitz\n",
      "275 straseni\n",
      "276 broome\n",
      "277 ilo\n",
      "278 kolosovka\n",
      "279 ibresi\n",
      "280 ulladulla\n",
      "281 la libertad\n",
      "282 sandnessjoen\n",
      "283 kyzyl\n",
      "284 jardim\n",
      "285 eyemouth\n",
      "286 humaita\n",
      "287 ahipara\n",
      "288 udachnyy\n",
      "289 wencheng\n",
      "290 pevek\n",
      "291 praia da vitoria\n",
      "292 evensk\n",
      "293 tessalit\n",
      "294 malpe\n",
      "295 acapulco\n",
      "296 novaya mayna\n",
      "297 san vicente\n",
      "298 lalmohan\n",
      "299 boyuibe\n",
      "300 pitimbu\n",
      "301 poya\n",
      "302 kuandian\n",
      "303 iqaluit\n",
      "304 ambanja\n",
      "305 moron\n",
      "306 bonthe\n",
      "307 westport\n",
      "308 korgen\n",
      "309 bosaso\n",
      "City not found.\n",
      "311 san cristobal\n",
      "312 kiszombor\n",
      "313 adrar\n",
      "314 micheweni\n",
      "315 faanui\n",
      "316 kahului\n",
      "317 buala\n",
      "318 balaipungut\n",
      "319 lavrentiya\n",
      "320 marsh harbour\n",
      "City not found.\n",
      "322 zambezi\n",
      "323 tual\n",
      "324 biak\n",
      "325 klaksvik\n",
      "326 rincon\n",
      "327 bubaque\n",
      "328 luderitz\n",
      "329 mogadishu\n",
      "330 kyra\n",
      "331 constitucion\n",
      "332 vila velha\n",
      "333 tecoanapa\n",
      "334 okato\n",
      "335 aklavik\n",
      "City not found.\n",
      "337 manzhouli\n",
      "City not found.\n",
      "City not found.\n",
      "340 uvinza\n",
      "341 airai\n",
      "342 ribeira grande\n",
      "343 celestun\n",
      "344 torbay\n",
      "345 shihezi\n",
      "346 mae chan\n",
      "347 beringovskiy\n",
      "348 lethem\n",
      "349 sao filipe\n",
      "350 borger\n",
      "351 lata\n",
      "352 ponta delgada\n",
      "353 valley city\n",
      "354 williamsport\n",
      "355 glendive\n",
      "City not found.\n",
      "357 razdolinsk\n",
      "358 yining\n",
      "359 sibolga\n",
      "360 xinzhou\n",
      "361 salaverry\n",
      "362 san quintin\n",
      "363 puerto escondido\n",
      "364 basco\n",
      "365 male\n",
      "366 san roque\n",
      "367 mount gambier\n",
      "368 adre\n",
      "369 raymond terrace\n",
      "370 xiongzhou\n",
      "371 barao de melgaco\n",
      "372 narasannapeta\n",
      "373 obzor\n",
      "374 bambous virieux\n",
      "375 kumba\n",
      "376 maicao\n",
      "377 tupa\n",
      "378 iquitos\n",
      "379 tongzi\n",
      "380 nizhniy baskunchak\n",
      "381 laguna\n",
      "382 guerrero negro\n",
      "383 havre-saint-pierre\n",
      "City not found.\n",
      "385 fairlie\n",
      "386 sao gotardo\n",
      "387 bitung\n",
      "388 presidencia roque saenz pena\n",
      "389 isangel\n",
      "390 sinnamary\n",
      "391 calvinia\n",
      "392 lewiston\n",
      "393 kieta\n",
      "394 coolum beach\n",
      "395 catamarca\n",
      "396 madona\n",
      "397 talkha\n",
      "398 rosetta\n",
      "399 mokhsogollokh\n",
      "400 katobu\n",
      "401 ewo\n",
      "402 teguise\n",
      "City not found.\n",
      "404 dabat\n",
      "405 garowe\n",
      "406 sembakung\n",
      "407 seondha\n",
      "408 mana\n",
      "City not found.\n",
      "410 saint anthony\n",
      "411 luganville\n",
      "412 lulea\n",
      "413 rio gallegos\n",
      "414 ambilobe\n",
      "415 cerqueira cesar\n",
      "416 ordzhonikidze\n",
      "417 arkhara\n",
      "418 mahanje\n",
      "419 grand gaube\n",
      "420 lyudinovo\n",
      "421 necochea\n",
      "422 perbaungan\n",
      "423 singaraja\n",
      "424 pauini\n",
      "City not found.\n",
      "426 nuuk\n",
      "427 ilulissat\n",
      "428 xuanzhou\n",
      "429 kangaatsiaq\n",
      "430 oktyabrskiy\n",
      "431 yeppoon\n",
      "432 rapid valley\n",
      "433 nagorsk\n",
      "434 coquimbo\n",
      "435 zbarazh\n",
      "436 bathsheba\n",
      "437 kachiry\n",
      "438 faro\n",
      "439 puri\n",
      "440 chicama\n",
      "441 haines junction\n",
      "442 marsa matruh\n",
      "443 fare\n",
      "444 rosa zarate\n",
      "445 nuwara eliya\n",
      "446 eyl\n",
      "447 leh\n",
      "448 valeni\n",
      "449 chabahar\n",
      "450 opochka\n",
      "451 sitka\n",
      "452 pacifica\n",
      "453 puerto el triunfo\n",
      "454 port shepstone\n",
      "455 kerema\n",
      "456 datong\n",
      "457 nioro\n",
      "City not found.\n",
      "459 visby\n",
      "460 mabaruma\n",
      "461 cidreira\n",
      "462 kasongo-lunda\n",
      "463 camana\n",
      "464 tomaszow lubelski\n",
      "465 gayny\n",
      "466 shamgarh\n",
      "City not found.\n",
      "468 srednekolymsk\n",
      "469 boa viagem\n",
      "470 den helder\n",
      "471 mareeba\n",
      "472 ambatofinandrahana\n",
      "473 samarai\n",
      "474 atar\n",
      "475 polican\n",
      "476 sijunjung\n",
      "477 cherskiy\n",
      "478 kavaratti\n",
      "479 kamien pomorski\n",
      "480 northam\n",
      "481 nouadhibou\n",
      "482 tommot\n",
      "483 lantawan\n",
      "484 atasu\n",
      "485 saint-pierre\n",
      "486 campo verde\n",
      "487 rehoboth\n",
      "488 kruisfontein\n",
      "489 egvekinot\n",
      "490 ballina\n",
      "491 gat\n",
      "492 dunedin\n",
      "493 novopokrovka\n",
      "494 altay\n",
      "495 orlik\n",
      "496 olonets\n",
      "497 kargat\n",
      "498 mbuguni\n",
      "499 zhigansk\n",
      "500 ucluelet\n",
      "501 nara\n",
      "502 pangnirtung\n",
      "503 merauke\n",
      "504 wanning\n",
      "505 morro bay\n",
      "506 wattegama\n",
      "507 port-cartier\n",
      "City not found.\n",
      "509 mukhen\n",
      "510 kalmunai\n",
      "511 arinos\n",
      "512 moerai\n",
      "513 brae\n",
      "514 kapra\n",
      "City not found.\n",
      "516 rudbar\n",
      "517 montrose\n",
      "518 tilichiki\n",
      "519 corinto\n",
      "520 hays\n",
      "521 dharchula\n",
      "522 majene\n",
      "523 shahreza\n",
      "524 batsfjord\n",
      "525 mailsi\n",
      "526 bohodukhiv\n",
      "527 kautokeino\n",
      "City not found.\n",
      "529 ust-nera\n",
      "530 aswan\n",
      "531 rawson\n",
      "532 sakakah\n",
      "533 pangoa\n",
      "534 aitape\n",
      "535 andrews\n",
      "536 cedar city\n",
      "537 mecca\n",
      "City not found.\n",
      "539 andenes\n",
      "540 akyab\n",
      "541 lahij\n",
      "542 trat\n",
      "543 kashan\n",
      "544 wasilla\n",
      "545 ulaangom\n",
      "546 loncoche\n",
      "547 sawtell\n",
      "548 inirida\n",
      "549 emerald\n",
      "550 fergus falls\n",
      "551 havoysund\n",
      "552 namibe\n",
      "553 paita\n",
      "City not found.\n",
      "555 calabozo\n",
      "556 anda\n",
      "557 general roca\n",
      "558 colares\n",
      "559 jiayuguan\n",
      "560 tarko-sale\n",
      "561 harper\n",
      "562 karratha\n",
      "563 ilebo\n",
      "564 deputatskiy\n",
      "565 palmer\n",
      "566 akhtubinsk\n",
      "567 tan an\n",
      "568 macusani\n",
      "569 saint-georges\n",
      "570 tarragona\n",
      "571 orshanka\n",
      "572 beyla\n",
      "573 tateyama\n",
      "574 bajil\n",
      "575 kenai\n",
      "576 cabimas\n",
      "577 fort nelson\n",
      "578 phangnga\n",
      "579 teya\n",
      "580 picota\n",
      "581 wanaka\n",
      "582 kungurtug\n",
      "583 mhlume\n",
      "584 yulara\n",
      "585 fivizzano\n",
      "586 iranshahr\n",
      "587 luchegorsk\n",
      "588 plettenberg bay\n",
      "589 gushikawa\n",
      "590 marawi\n",
      "591 ovalle\n",
      "592 skibbereen\n",
      "593 cagliliog\n",
      "City not found.\n",
      "595 namatanai\n",
      "City not found.\n",
      "597 ixtapa\n",
      "598 dargaville\n",
      "599 castanos\n",
      "600 qasigiannguit\n",
      "601 gorin\n",
      "602 spearfish\n",
      "603 innisfail\n",
      "604 verkhnevilyuysk\n",
      "605 mpongwe\n",
      "606 dunhua\n",
      "607 bilibino\n",
      "608 arklow\n",
      "609 sunbury\n",
      "610 gabu\n",
      "611 souillac\n",
      "612 angoche\n",
      "City not found.\n",
      "614 agadez\n",
      "615 hasaki\n",
      "616 vanderhoof\n"
     ]
    },
    {
     "name": "stdout",
     "output_type": "stream",
     "text": [
      "617 storebo\n",
      "618 pecos\n",
      "619 miraflores\n",
      "620 vieste\n",
      "621 batagay-alyta\n",
      "622 mazamari\n",
      "623 quelimane\n",
      "624 jibuti\n",
      "625 yanam\n",
      "626 liverpool\n",
      "627 karasburg\n",
      "628 hovd\n",
      "------------------------------\n",
      "Data Retrieval Complete\n",
      "------------------------------\n"
     ]
    }
   ],
   "source": [
    "data = []\n",
    "counter = 0\n",
    "\n",
    "#For loop\n",
    "for city in cities:\n",
    "    counter=counter+1\n",
    "    \n",
    "    try:\n",
    "        response = requests.get(query_url + city ).json()\n",
    "        temp_max= response[\"main\"][\"temp_max\"]\n",
    "        humidity=response[\"main\"][\"humidity\"]\n",
    "        windspeed=response[\"wind\"][\"speed\"]\n",
    "        cloudy=response[\"clouds\"][\"all\"]\n",
    "        country=response[\"sys\"][\"country\"]\n",
    "        date=response[\"dt\"]\n",
    "        lat=response[\"coord\"][\"lat\"]\n",
    "        lon=response[\"coord\"][\"lon\"]\n",
    "        data.append([date,city, country, lat, lon, temp_max, humidity,windspeed, cloudy])\n",
    "        print(f\"{counter} {city}\")\n",
    "        time.sleep(.2)\n",
    "    except:\n",
    "        print(\"City not found.\")      \n",
    "\n",
    "  \n",
    "print(\"------------------------------\\nData Retrieval Complete\\n------------------------------\")\n"
   ]
  },
  {
   "cell_type": "markdown",
   "metadata": {},
   "source": [
    "### Convert Raw Data to DataFrame\n",
    "* Export the city data into a .csv.\n",
    "* Display the DataFrame"
   ]
  },
  {
   "cell_type": "code",
   "execution_count": 6,
   "metadata": {},
   "outputs": [
    {
     "data": {
      "text/html": [
       "<div>\n",
       "<style scoped>\n",
       "    .dataframe tbody tr th:only-of-type {\n",
       "        vertical-align: middle;\n",
       "    }\n",
       "\n",
       "    .dataframe tbody tr th {\n",
       "        vertical-align: top;\n",
       "    }\n",
       "\n",
       "    .dataframe thead th {\n",
       "        text-align: right;\n",
       "    }\n",
       "</style>\n",
       "<table border=\"1\" class=\"dataframe\">\n",
       "  <thead>\n",
       "    <tr style=\"text-align: right;\">\n",
       "      <th></th>\n",
       "      <th>date</th>\n",
       "      <th>city</th>\n",
       "      <th>country</th>\n",
       "      <th>lat</th>\n",
       "      <th>lon</th>\n",
       "      <th>temp_max</th>\n",
       "      <th>humidity</th>\n",
       "      <th>windspeed</th>\n",
       "      <th>cloudy</th>\n",
       "    </tr>\n",
       "  </thead>\n",
       "  <tbody>\n",
       "    <tr>\n",
       "      <th>0</th>\n",
       "      <td>1614640923</td>\n",
       "      <td>port alfred</td>\n",
       "      <td>ZA</td>\n",
       "      <td>-33.5906</td>\n",
       "      <td>26.8910</td>\n",
       "      <td>21.69</td>\n",
       "      <td>83</td>\n",
       "      <td>5.63</td>\n",
       "      <td>76</td>\n",
       "    </tr>\n",
       "    <tr>\n",
       "      <th>1</th>\n",
       "      <td>1614640923</td>\n",
       "      <td>punta arenas</td>\n",
       "      <td>CL</td>\n",
       "      <td>-53.1500</td>\n",
       "      <td>-70.9167</td>\n",
       "      <td>12.78</td>\n",
       "      <td>43</td>\n",
       "      <td>8.23</td>\n",
       "      <td>0</td>\n",
       "    </tr>\n",
       "    <tr>\n",
       "      <th>2</th>\n",
       "      <td>1614640924</td>\n",
       "      <td>avarua</td>\n",
       "      <td>CK</td>\n",
       "      <td>-21.2078</td>\n",
       "      <td>-159.7750</td>\n",
       "      <td>29.00</td>\n",
       "      <td>74</td>\n",
       "      <td>3.60</td>\n",
       "      <td>20</td>\n",
       "    </tr>\n",
       "    <tr>\n",
       "      <th>3</th>\n",
       "      <td>1614640924</td>\n",
       "      <td>kholm</td>\n",
       "      <td>RU</td>\n",
       "      <td>59.2667</td>\n",
       "      <td>32.8500</td>\n",
       "      <td>0.69</td>\n",
       "      <td>93</td>\n",
       "      <td>4.50</td>\n",
       "      <td>92</td>\n",
       "    </tr>\n",
       "    <tr>\n",
       "      <th>4</th>\n",
       "      <td>1614640641</td>\n",
       "      <td>walvis bay</td>\n",
       "      <td>NA</td>\n",
       "      <td>-22.9575</td>\n",
       "      <td>14.5053</td>\n",
       "      <td>20.00</td>\n",
       "      <td>77</td>\n",
       "      <td>1.54</td>\n",
       "      <td>1</td>\n",
       "    </tr>\n",
       "    <tr>\n",
       "      <th>...</th>\n",
       "      <td>...</td>\n",
       "      <td>...</td>\n",
       "      <td>...</td>\n",
       "      <td>...</td>\n",
       "      <td>...</td>\n",
       "      <td>...</td>\n",
       "      <td>...</td>\n",
       "      <td>...</td>\n",
       "      <td>...</td>\n",
       "    </tr>\n",
       "    <tr>\n",
       "      <th>575</th>\n",
       "      <td>1614641130</td>\n",
       "      <td>jibuti</td>\n",
       "      <td>DJ</td>\n",
       "      <td>11.5000</td>\n",
       "      <td>42.5000</td>\n",
       "      <td>26.00</td>\n",
       "      <td>78</td>\n",
       "      <td>2.06</td>\n",
       "      <td>40</td>\n",
       "    </tr>\n",
       "    <tr>\n",
       "      <th>576</th>\n",
       "      <td>1614641130</td>\n",
       "      <td>yanam</td>\n",
       "      <td>IN</td>\n",
       "      <td>16.7333</td>\n",
       "      <td>82.2167</td>\n",
       "      <td>20.04</td>\n",
       "      <td>95</td>\n",
       "      <td>0.93</td>\n",
       "      <td>0</td>\n",
       "    </tr>\n",
       "    <tr>\n",
       "      <th>577</th>\n",
       "      <td>1614641131</td>\n",
       "      <td>liverpool</td>\n",
       "      <td>GB</td>\n",
       "      <td>53.4106</td>\n",
       "      <td>-2.9779</td>\n",
       "      <td>5.00</td>\n",
       "      <td>87</td>\n",
       "      <td>4.63</td>\n",
       "      <td>90</td>\n",
       "    </tr>\n",
       "    <tr>\n",
       "      <th>578</th>\n",
       "      <td>1614640877</td>\n",
       "      <td>karasburg</td>\n",
       "      <td>NA</td>\n",
       "      <td>-28.0167</td>\n",
       "      <td>18.7500</td>\n",
       "      <td>24.73</td>\n",
       "      <td>45</td>\n",
       "      <td>0.87</td>\n",
       "      <td>68</td>\n",
       "    </tr>\n",
       "    <tr>\n",
       "      <th>579</th>\n",
       "      <td>1614641131</td>\n",
       "      <td>hovd</td>\n",
       "      <td>MN</td>\n",
       "      <td>48.0056</td>\n",
       "      <td>91.6419</td>\n",
       "      <td>-6.70</td>\n",
       "      <td>78</td>\n",
       "      <td>4.30</td>\n",
       "      <td>99</td>\n",
       "    </tr>\n",
       "  </tbody>\n",
       "</table>\n",
       "<p>580 rows × 9 columns</p>\n",
       "</div>"
      ],
      "text/plain": [
       "           date          city country      lat       lon  temp_max  humidity  \\\n",
       "0    1614640923   port alfred      ZA -33.5906   26.8910     21.69        83   \n",
       "1    1614640923  punta arenas      CL -53.1500  -70.9167     12.78        43   \n",
       "2    1614640924        avarua      CK -21.2078 -159.7750     29.00        74   \n",
       "3    1614640924         kholm      RU  59.2667   32.8500      0.69        93   \n",
       "4    1614640641    walvis bay      NA -22.9575   14.5053     20.00        77   \n",
       "..          ...           ...     ...      ...       ...       ...       ...   \n",
       "575  1614641130        jibuti      DJ  11.5000   42.5000     26.00        78   \n",
       "576  1614641130         yanam      IN  16.7333   82.2167     20.04        95   \n",
       "577  1614641131     liverpool      GB  53.4106   -2.9779      5.00        87   \n",
       "578  1614640877     karasburg      NA -28.0167   18.7500     24.73        45   \n",
       "579  1614641131          hovd      MN  48.0056   91.6419     -6.70        78   \n",
       "\n",
       "     windspeed  cloudy  \n",
       "0         5.63      76  \n",
       "1         8.23       0  \n",
       "2         3.60      20  \n",
       "3         4.50      92  \n",
       "4         1.54       1  \n",
       "..         ...     ...  \n",
       "575       2.06      40  \n",
       "576       0.93       0  \n",
       "577       4.63      90  \n",
       "578       0.87      68  \n",
       "579       4.30      99  \n",
       "\n",
       "[580 rows x 9 columns]"
      ]
     },
     "execution_count": 6,
     "metadata": {},
     "output_type": "execute_result"
    }
   ],
   "source": [
    "city_df = pd.DataFrame(data,columns=[\"date\",\"city\", \"country\", \"lat\", \"lon\", \"temp_max\", \"humidity\",\"windspeed\", \"cloudy\"])\n",
    "city_df"
   ]
  },
  {
   "cell_type": "markdown",
   "metadata": {},
   "source": [
    "## Inspect the data and remove the cities where the humidity > 100%.\n",
    "----\n",
    "Skip this step if there are no cities that have humidity > 100%. "
   ]
  },
  {
   "cell_type": "code",
   "execution_count": 7,
   "metadata": {},
   "outputs": [
    {
     "data": {
      "text/plain": [
       "Int64Index([], dtype='int64')"
      ]
     },
     "execution_count": 7,
     "metadata": {},
     "output_type": "execute_result"
    }
   ],
   "source": [
    "#  Get the indices of cities that have humidity over 100%.\n",
    "highhumidity = city_df[(city_df[\"humidity\"]>100)].index\n",
    "highhumidity"
   ]
  },
  {
   "cell_type": "code",
   "execution_count": 8,
   "metadata": {},
   "outputs": [
    {
     "data": {
      "text/html": [
       "<div>\n",
       "<style scoped>\n",
       "    .dataframe tbody tr th:only-of-type {\n",
       "        vertical-align: middle;\n",
       "    }\n",
       "\n",
       "    .dataframe tbody tr th {\n",
       "        vertical-align: top;\n",
       "    }\n",
       "\n",
       "    .dataframe thead th {\n",
       "        text-align: right;\n",
       "    }\n",
       "</style>\n",
       "<table border=\"1\" class=\"dataframe\">\n",
       "  <thead>\n",
       "    <tr style=\"text-align: right;\">\n",
       "      <th></th>\n",
       "      <th>date</th>\n",
       "      <th>city</th>\n",
       "      <th>country</th>\n",
       "      <th>lat</th>\n",
       "      <th>lon</th>\n",
       "      <th>temp_max</th>\n",
       "      <th>humidity</th>\n",
       "      <th>windspeed</th>\n",
       "      <th>cloudy</th>\n",
       "    </tr>\n",
       "  </thead>\n",
       "  <tbody>\n",
       "    <tr>\n",
       "      <th>0</th>\n",
       "      <td>1614640923</td>\n",
       "      <td>port alfred</td>\n",
       "      <td>ZA</td>\n",
       "      <td>-33.5906</td>\n",
       "      <td>26.8910</td>\n",
       "      <td>21.69</td>\n",
       "      <td>83</td>\n",
       "      <td>5.63</td>\n",
       "      <td>76</td>\n",
       "    </tr>\n",
       "    <tr>\n",
       "      <th>1</th>\n",
       "      <td>1614640923</td>\n",
       "      <td>punta arenas</td>\n",
       "      <td>CL</td>\n",
       "      <td>-53.1500</td>\n",
       "      <td>-70.9167</td>\n",
       "      <td>12.78</td>\n",
       "      <td>43</td>\n",
       "      <td>8.23</td>\n",
       "      <td>0</td>\n",
       "    </tr>\n",
       "    <tr>\n",
       "      <th>2</th>\n",
       "      <td>1614640924</td>\n",
       "      <td>avarua</td>\n",
       "      <td>CK</td>\n",
       "      <td>-21.2078</td>\n",
       "      <td>-159.7750</td>\n",
       "      <td>29.00</td>\n",
       "      <td>74</td>\n",
       "      <td>3.60</td>\n",
       "      <td>20</td>\n",
       "    </tr>\n",
       "    <tr>\n",
       "      <th>3</th>\n",
       "      <td>1614640924</td>\n",
       "      <td>kholm</td>\n",
       "      <td>RU</td>\n",
       "      <td>59.2667</td>\n",
       "      <td>32.8500</td>\n",
       "      <td>0.69</td>\n",
       "      <td>93</td>\n",
       "      <td>4.50</td>\n",
       "      <td>92</td>\n",
       "    </tr>\n",
       "    <tr>\n",
       "      <th>4</th>\n",
       "      <td>1614640641</td>\n",
       "      <td>walvis bay</td>\n",
       "      <td>NA</td>\n",
       "      <td>-22.9575</td>\n",
       "      <td>14.5053</td>\n",
       "      <td>20.00</td>\n",
       "      <td>77</td>\n",
       "      <td>1.54</td>\n",
       "      <td>1</td>\n",
       "    </tr>\n",
       "    <tr>\n",
       "      <th>...</th>\n",
       "      <td>...</td>\n",
       "      <td>...</td>\n",
       "      <td>...</td>\n",
       "      <td>...</td>\n",
       "      <td>...</td>\n",
       "      <td>...</td>\n",
       "      <td>...</td>\n",
       "      <td>...</td>\n",
       "      <td>...</td>\n",
       "    </tr>\n",
       "    <tr>\n",
       "      <th>575</th>\n",
       "      <td>1614641130</td>\n",
       "      <td>jibuti</td>\n",
       "      <td>DJ</td>\n",
       "      <td>11.5000</td>\n",
       "      <td>42.5000</td>\n",
       "      <td>26.00</td>\n",
       "      <td>78</td>\n",
       "      <td>2.06</td>\n",
       "      <td>40</td>\n",
       "    </tr>\n",
       "    <tr>\n",
       "      <th>576</th>\n",
       "      <td>1614641130</td>\n",
       "      <td>yanam</td>\n",
       "      <td>IN</td>\n",
       "      <td>16.7333</td>\n",
       "      <td>82.2167</td>\n",
       "      <td>20.04</td>\n",
       "      <td>95</td>\n",
       "      <td>0.93</td>\n",
       "      <td>0</td>\n",
       "    </tr>\n",
       "    <tr>\n",
       "      <th>577</th>\n",
       "      <td>1614641131</td>\n",
       "      <td>liverpool</td>\n",
       "      <td>GB</td>\n",
       "      <td>53.4106</td>\n",
       "      <td>-2.9779</td>\n",
       "      <td>5.00</td>\n",
       "      <td>87</td>\n",
       "      <td>4.63</td>\n",
       "      <td>90</td>\n",
       "    </tr>\n",
       "    <tr>\n",
       "      <th>578</th>\n",
       "      <td>1614640877</td>\n",
       "      <td>karasburg</td>\n",
       "      <td>NA</td>\n",
       "      <td>-28.0167</td>\n",
       "      <td>18.7500</td>\n",
       "      <td>24.73</td>\n",
       "      <td>45</td>\n",
       "      <td>0.87</td>\n",
       "      <td>68</td>\n",
       "    </tr>\n",
       "    <tr>\n",
       "      <th>579</th>\n",
       "      <td>1614641131</td>\n",
       "      <td>hovd</td>\n",
       "      <td>MN</td>\n",
       "      <td>48.0056</td>\n",
       "      <td>91.6419</td>\n",
       "      <td>-6.70</td>\n",
       "      <td>78</td>\n",
       "      <td>4.30</td>\n",
       "      <td>99</td>\n",
       "    </tr>\n",
       "  </tbody>\n",
       "</table>\n",
       "<p>580 rows × 9 columns</p>\n",
       "</div>"
      ],
      "text/plain": [
       "           date          city country      lat       lon  temp_max  humidity  \\\n",
       "0    1614640923   port alfred      ZA -33.5906   26.8910     21.69        83   \n",
       "1    1614640923  punta arenas      CL -53.1500  -70.9167     12.78        43   \n",
       "2    1614640924        avarua      CK -21.2078 -159.7750     29.00        74   \n",
       "3    1614640924         kholm      RU  59.2667   32.8500      0.69        93   \n",
       "4    1614640641    walvis bay      NA -22.9575   14.5053     20.00        77   \n",
       "..          ...           ...     ...      ...       ...       ...       ...   \n",
       "575  1614641130        jibuti      DJ  11.5000   42.5000     26.00        78   \n",
       "576  1614641130         yanam      IN  16.7333   82.2167     20.04        95   \n",
       "577  1614641131     liverpool      GB  53.4106   -2.9779      5.00        87   \n",
       "578  1614640877     karasburg      NA -28.0167   18.7500     24.73        45   \n",
       "579  1614641131          hovd      MN  48.0056   91.6419     -6.70        78   \n",
       "\n",
       "     windspeed  cloudy  \n",
       "0         5.63      76  \n",
       "1         8.23       0  \n",
       "2         3.60      20  \n",
       "3         4.50      92  \n",
       "4         1.54       1  \n",
       "..         ...     ...  \n",
       "575       2.06      40  \n",
       "576       0.93       0  \n",
       "577       4.63      90  \n",
       "578       0.87      68  \n",
       "579       4.30      99  \n",
       "\n",
       "[580 rows x 9 columns]"
      ]
     },
     "execution_count": 8,
     "metadata": {},
     "output_type": "execute_result"
    }
   ],
   "source": [
    "# Make a new DataFrame equal to the city data to drop all humidity outliers by index.\n",
    "# Passing \"inplace=False\" will make a copy of the city_data DataFrame, which we call \"clean_city_data\".\n",
    "\n",
    "cleancity_df=city_df.drop(highhumidity, inplace=False)\n",
    "cleancity_df\n"
   ]
  },
  {
   "cell_type": "markdown",
   "metadata": {},
   "source": [
    "## Plotting the Data\n",
    "* Use proper labeling of the plots using plot titles (including date of analysis) and axes labels.\n",
    "* Save the plotted figures as .pngs."
   ]
  },
  {
   "cell_type": "markdown",
   "metadata": {},
   "source": [
    "## Latitude vs. Temperature Plot"
   ]
  },
  {
   "cell_type": "code",
   "execution_count": 30,
   "metadata": {
    "scrolled": true
   },
   "outputs": [
    {
     "data": {
      "image/png": "[encoded data removed]",
      "text/plain": [
       "<Figure size 432x288 with 1 Axes>"
      ]
     },
     "metadata": {
      "needs_background": "light"
     },
     "output_type": "display_data"
    }
   ],
   "source": [
    "plt.scatter(cleancity_df[\"lat\"],cleancity_df[\"temp_max\"], marker=\"o\", color=\"lightblue\",edgecolor=\"black\")\n",
    "plt.title(\"Temperature in Cities\")\n",
    "plt.ylabel(\"Temperature\")\n",
    "plt.xlabel(\"Latitude\")\n",
    "plt.grid(True)\n",
    "\n",
    "#printpng\n",
    "plt.savefig(\"Temp_in_cities.png\")"
   ]
  },
  {
   "cell_type": "markdown",
   "metadata": {},
   "source": [
    "## Latitude vs. Humidity Plot"
   ]
  },
  {
   "cell_type": "code",
   "execution_count": 31,
   "metadata": {},
   "outputs": [
    {
     "data": {
      "image/png": "[encoded data removed]",
      "text/plain": [
       "<Figure size 432x288 with 1 Axes>"
      ]
     },
     "metadata": {
      "needs_background": "light"
     },
     "output_type": "display_data"
    }
   ],
   "source": [
    "plt.scatter(cleancity_df[\"lat\"],cleancity_df[\"humidity\"], marker=\"o\", color=\"lightblue\",edgecolor=\"black\")\n",
    "plt.title(\"Humidity in Cities\")\n",
    "plt.ylabel(\"Humidity (%)\")\n",
    "plt.xlabel(\"Latitude\")\n",
    "plt.ylim(min(cleancity_df[\"humidity\"])-10,max(cleancity_df[\"humidity\"])+10)\n",
    "plt.grid(True)\n",
    "\n",
    "\n",
    "\n",
    "#printpng\n",
    "\n",
    "plt.savefig(\"Humid_in_cities.png\")\n",
    "\n"
   ]
  },
  {
   "cell_type": "markdown",
   "metadata": {},
   "source": [
    "## Latitude vs. Cloudiness Plot"
   ]
  },
  {
   "cell_type": "code",
   "execution_count": 32,
   "metadata": {},
   "outputs": [
    {
     "data": {
      "image/png": "[encoded data removed]",
      "text/plain": [
       "<Figure size 432x288 with 1 Axes>"
      ]
     },
     "metadata": {
      "needs_background": "light"
     },
     "output_type": "display_data"
    }
   ],
   "source": [
    "plt.scatter(cleancity_df[\"lat\"],cleancity_df[\"cloudy\"], marker=\"o\", color=\"lightblue\",edgecolor=\"black\")\n",
    "plt.title(\"Cloudiness in Cities\")\n",
    "plt.ylabel(\"Cloudiness (%)\")\n",
    "plt.xlabel(\"Latitude\")\n",
    "plt.grid(True)\n",
    "\n",
    "\n",
    "\n",
    "#printpng\n",
    "\n",
    "plt.savefig(\"Cloudy_in_cities.png\")\n"
   ]
  },
  {
   "cell_type": "markdown",
   "metadata": {},
   "source": [
    "## Latitude vs. Wind Speed Plot"
   ]
  },
  {
   "cell_type": "code",
   "execution_count": 33,
   "metadata": {},
   "outputs": [
    {
     "data": {
      "image/png": "[encoded data removed]",
      "text/plain": [
       "<Figure size 432x288 with 1 Axes>"
      ]
     },
     "metadata": {
      "needs_background": "light"
     },
     "output_type": "display_data"
    }
   ],
   "source": [
    "plt.scatter(cleancity_df[\"lat\"],cleancity_df[\"windspeed\"], marker=\"o\", color=\"lightblue\",edgecolor=\"black\")\n",
    "plt.title(\"Windspeed in Cities\")\n",
    "plt.ylabel(\"Windspeed (mph)\")\n",
    "plt.xlabel(\"Latitude\")\n",
    "plt.grid(True)\n",
    "\n",
    "\n",
    "#printpng\n",
    "\n",
    "plt.savefig(\"Windy_in_cities.png\")\n"
   ]
  },
  {
   "cell_type": "markdown",
   "metadata": {},
   "source": [
    "Observation of Scatter Plots\n",
    "\n"
   ]
  },
  {
   "cell_type": "markdown",
   "metadata": {},
   "source": [
    "## Linear Regression"
   ]
  },
  {
   "cell_type": "code",
   "execution_count": 13,
   "metadata": {},
   "outputs": [],
   "source": [
    "northernhem=cleancity_df.loc[cleancity_df[\"lat\"]>=0]\n",
    "southernhem=cleancity_df.loc[cleancity_df[\"lat\"]<=0]"
   ]
  },
  {
   "cell_type": "markdown",
   "metadata": {},
   "source": [
    "####  Northern Hemisphere - Max Temp vs. Latitude Linear Regression"
   ]
  },
  {
   "cell_type": "code",
   "execution_count": 14,
   "metadata": {},
   "outputs": [
    {
     "name": "stdout",
     "output_type": "stream",
     "text": [
      "The r-squared is: 0.7126691662077839\n"
     ]
    },
    {
     "data": {
      "image/png": "[encoded data removed]",
      "text/plain": [
       "<Figure size 432x288 with 1 Axes>"
      ]
     },
     "metadata": {
      "needs_background": "light"
     },
     "output_type": "display_data"
    }
   ],
   "source": [
    "x_values = northernhem[\"lat\"]\n",
    "y_values = northernhem[\"temp_max\"]\n",
    "(slope, intercept, rvalue, pvalue, stderr) = linregress(x_values, y_values)\n",
    "\n",
    "regress_values = x_values * slope + intercept\n",
    "\n",
    "line_eq= f\"y = {round(slope, 2)} x + {round(intercept, 2)}\"\n",
    "\n",
    "plt.scatter(x_values,y_values)\n",
    "plt.plot(x_values,regress_values,\"r-\")\n",
    "plt.annotate(line_eq,(40,30),fontsize=15)\n",
    "plt.title(\"Northern Hemisphere - Temperature vs. Latitude\")\n",
    "plt.xlabel(\"Latitude\")\n",
    "plt.ylabel(\"Temperature\")\n",
    "print(f\"The r-squared is: {rvalue**2}\")\n",
    "plt.show()"
   ]
  },
  {
   "cell_type": "markdown",
   "metadata": {},
   "source": [
    "####  Southern Hemisphere - Max Temp vs. Latitude Linear Regression"
   ]
  },
  {
   "cell_type": "code",
   "execution_count": 15,
   "metadata": {},
   "outputs": [
    {
     "name": "stdout",
     "output_type": "stream",
     "text": [
      "The r-squared is: 0.23465743868211036\n"
     ]
    },
    {
     "data": {
      "image/png": "[encoded data removed]",
      "text/plain": [
       "<Figure size 432x288 with 1 Axes>"
      ]
     },
     "metadata": {
      "needs_background": "light"
     },
     "output_type": "display_data"
    }
   ],
   "source": [
    "x_values = southernhem[\"lat\"]\n",
    "y_values = southernhem[\"temp_max\"]\n",
    "(slope, intercept, rvalue, pvalue, stderr) = linregress(x_values, y_values)\n",
    "\n",
    "regress_values = x_values * slope + intercept\n",
    "\n",
    "line_eq= f\"y = {round(slope, 2)} x + {round(intercept, 2)}\"\n",
    "\n",
    "plt.scatter(x_values,y_values)\n",
    "plt.plot(x_values,regress_values,\"r-\")\n",
    "plt.annotate(line_eq,(-30,12),fontsize=15)\n",
    "plt.title(\"Southern Hemisphere - Temperature vs. Latitude\")\n",
    "plt.xlabel(\"Latitude\")\n",
    "plt.ylabel(\"Temperature\")\n",
    "print(f\"The r-squared is: {rvalue**2}\")\n",
    "plt.show()"
   ]
  },
  {
   "cell_type": "markdown",
   "metadata": {},
   "source": [
    "####  Northern Hemisphere - Humidity (%) vs. Latitude Linear Regression"
   ]
  },
  {
   "cell_type": "code",
   "execution_count": 16,
   "metadata": {},
   "outputs": [
    {
     "name": "stdout",
     "output_type": "stream",
     "text": [
      "The r-squared is: 0.06453412960836077\n"
     ]
    },
    {
     "data": {
      "image/png": "[encoded data removed]",
      "text/plain": [
       "<Figure size 432x288 with 1 Axes>"
      ]
     },
     "metadata": {
      "needs_background": "light"
     },
     "output_type": "display_data"
    }
   ],
   "source": [
    "x_values = northernhem[\"lat\"]\n",
    "y_values = northernhem[\"humidity\"]\n",
    "(slope, intercept, rvalue, pvalue, stderr) = linregress(x_values, y_values)\n",
    "\n",
    "regress_values = x_values * slope + intercept\n",
    "\n",
    "line_eq= f\"y = {round(slope, 2)} x + {round(intercept, 2)}\"\n",
    "\n",
    "plt.scatter(x_values,y_values)\n",
    "plt.plot(x_values,regress_values,\"r-\")\n",
    "plt.annotate(line_eq,(40,20),fontsize=15)\n",
    "plt.title(\"Northern Hemisphere - Humidity vs. Latitude\")\n",
    "plt.xlabel(\"Latitude\")\n",
    "plt.ylabel(\"Humidity (%)\")\n",
    "print(f\"The r-squared is: {rvalue**2}\")\n",
    "plt.show()\n"
   ]
  },
  {
   "cell_type": "markdown",
   "metadata": {},
   "source": [
    "Observation of Temperature\n"
   ]
  },
  {
   "cell_type": "markdown",
   "metadata": {},
   "source": [
    "####  Southern Hemisphere - Humidity (%) vs. Latitude Linear Regression"
   ]
  },
  {
   "cell_type": "code",
   "execution_count": 17,
   "metadata": {},
   "outputs": [
    {
     "name": "stdout",
     "output_type": "stream",
     "text": [
      "The r-squared is: 0.08542638284969127\n"
     ]
    },
    {
     "data": {
      "image/png": "[encoded data removed]",
      "text/plain": [
       "<Figure size 432x288 with 1 Axes>"
      ]
     },
     "metadata": {
      "needs_background": "light"
     },
     "output_type": "display_data"
    },
    {
     "name": "stdout",
     "output_type": "stream",
     "text": [
      "The r-squared is: 0.08542638284969127\n"
     ]
    }
   ],
   "source": [
    "x_values = southernhem[\"lat\"]\n",
    "y_values = southernhem[\"humidity\"]\n",
    "(slope, intercept, rvalue, pvalue, stderr) = linregress(x_values, y_values)\n",
    "\n",
    "regress_values = x_values * slope + intercept\n",
    "\n",
    "line_eq= f\"y = {round(slope, 2)} x + {round(intercept, 2)}\"\n",
    "\n",
    "plt.scatter(x_values,y_values)\n",
    "plt.plot(x_values,regress_values,\"r-\")\n",
    "plt.annotate(line_eq,(-25,30),fontsize=15)\n",
    "plt.title(\"Southern Hemisphere - Humidity vs. Latitude\")\n",
    "plt.xlabel(\"Latitude\")\n",
    "plt.ylabel(\"Humidity (%)\")\n",
    "print(f\"The r-squared is: {rvalue**2}\")\n",
    "plt.show()\n",
    "\n",
    "print(f\"The r-squared is: {rvalue**2}\")\n",
    "plt.show()"
   ]
  },
  {
   "cell_type": "markdown",
   "metadata": {},
   "source": [
    "Observation of Humidity\n",
    "\n"
   ]
  },
  {
   "cell_type": "markdown",
   "metadata": {},
   "source": [
    "####  Northern Hemisphere - Cloudiness (%) vs. Latitude Linear Regression"
   ]
  },
  {
   "cell_type": "code",
   "execution_count": 36,
   "metadata": {},
   "outputs": [
    {
     "name": "stdout",
     "output_type": "stream",
     "text": [
      "The r-squared is: 0.10261543176103947\n"
     ]
    },
    {
     "data": {
      "image/png": "[encoded data removed]",
      "text/plain": [
       "<Figure size 432x288 with 1 Axes>"
      ]
     },
     "metadata": {
      "needs_background": "light"
     },
     "output_type": "display_data"
    }
   ],
   "source": [
    "x_values = northernhem[\"lat\"]\n",
    "y_values = northernhem[\"cloudy\"]\n",
    "(slope, intercept, rvalue, pvalue, stderr) = linregress(x_values, y_values)\n",
    "\n",
    "regress_values = x_values * slope + intercept\n",
    "\n",
    "line_eq= f\"y = {round(slope, 2)} x + {round(intercept, 2)}\"\n",
    "\n",
    "plt.scatter(x_values,y_values)\n",
    "plt.plot(x_values,regress_values,\"r-\")\n",
    "plt.annotate(line_eq,(30,60),fontsize=10)\n",
    "plt.title(\"Northern Hemisphere - Cloudiness vs. Latitude\")\n",
    "plt.xlabel(\"Latitude\")\n",
    "plt.ylabel(\"Cloudiness (%)\")\n",
    "print(f\"The r-squared is: {rvalue**2}\")\n",
    "plt.show()\n"
   ]
  },
  {
   "cell_type": "markdown",
   "metadata": {},
   "source": [
    "####  Southern Hemisphere - Cloudiness (%) vs. Latitude Linear Regression"
   ]
  },
  {
   "cell_type": "code",
   "execution_count": 19,
   "metadata": {},
   "outputs": [
    {
     "name": "stdout",
     "output_type": "stream",
     "text": [
      "The r-squared is: 0.07159509203084145\n"
     ]
    },
    {
     "data": {
      "image/png": "[encoded data removed]",
      "text/plain": [
       "<Figure size 432x288 with 1 Axes>"
      ]
     },
     "metadata": {
      "needs_background": "light"
     },
     "output_type": "display_data"
    }
   ],
   "source": [
    "x_values = southernhem[\"lat\"]\n",
    "y_values = southernhem[\"cloudy\"]\n",
    "(slope, intercept, rvalue, pvalue, stderr) = linregress(x_values, y_values)\n",
    "\n",
    "regress_values = x_values * slope + intercept\n",
    "\n",
    "line_eq= f\"y = {round(slope, 2)} x + {round(intercept, 2)}\"\n",
    "\n",
    "plt.scatter(x_values,y_values)\n",
    "plt.plot(x_values,regress_values,\"r-\")\n",
    "plt.annotate(line_eq,(-55,50),fontsize=10)\n",
    "plt.title(\"Southern Hemisphere - Cloudiness vs. Latitude\")\n",
    "plt.xlabel(\"Latitude\")\n",
    "plt.ylabel(\"Cloudiness (%)\")\n",
    "print(f\"The r-squared is: {rvalue**2}\")\n",
    "plt.show()"
   ]
  },
  {
   "cell_type": "markdown",
   "metadata": {},
   "source": [
    "Observation of Cloudiness"
   ]
  },
  {
   "cell_type": "markdown",
   "metadata": {},
   "source": [
    "####  Northern Hemisphere - Wind Speed (mph) vs. Latitude Linear Regression"
   ]
  },
  {
   "cell_type": "code",
   "execution_count": 20,
   "metadata": {},
   "outputs": [
    {
     "name": "stdout",
     "output_type": "stream",
     "text": [
      "The r-squared is: 0.016231716937134186\n"
     ]
    },
    {
     "data": {
      "image/png": "[encoded data removed]",
      "text/plain": [
       "<Figure size 432x288 with 1 Axes>"
      ]
     },
     "metadata": {
      "needs_background": "light"
     },
     "output_type": "display_data"
    }
   ],
   "source": [
    "x_values = northernhem[\"lat\"]\n",
    "y_values = northernhem[\"windspeed\"]\n",
    "(slope, intercept, rvalue, pvalue, stderr) = linregress(x_values, y_values)\n",
    "\n",
    "regress_values = x_values * slope + intercept\n",
    "\n",
    "line_eq= f\"y = {round(slope, 2)} x + {round(intercept, 2)}\"\n",
    "\n",
    "plt.scatter(x_values,y_values)\n",
    "plt.plot(x_values,regress_values,\"r-\")\n",
    "plt.annotate(line_eq,(0,15),fontsize=15)\n",
    "plt.title(\"Northern Hemisphere - Windspeed vs. Latitude\")\n",
    "plt.xlabel(\"Latitude\")\n",
    "plt.ylabel(\"Windspeed(mph)\")\n",
    "print(f\"The r-squared is: {rvalue**2}\")\n",
    "plt.show()"
   ]
  },
  {
   "cell_type": "markdown",
   "metadata": {},
   "source": [
    "####  Southern Hemisphere - Wind Speed (mph) vs. Latitude Linear Regression"
   ]
  },
  {
   "cell_type": "code",
   "execution_count": 21,
   "metadata": {},
   "outputs": [
    {
     "name": "stdout",
     "output_type": "stream",
     "text": [
      "The r-squared is: 0.05582118995378416\n"
     ]
    },
    {
     "data": {
      "image/png": "[encoded data removed]",
      "text/plain": [
       "<Figure size 432x288 with 1 Axes>"
      ]
     },
     "metadata": {
      "needs_background": "light"
     },
     "output_type": "display_data"
    }
   ],
   "source": [
    "x_values = southernhem[\"lat\"]\n",
    "y_values = southernhem[\"windspeed\"]\n",
    "(slope, intercept, rvalue, pvalue, stderr) = linregress(x_values, y_values)\n",
    "\n",
    "regress_values = x_values * slope + intercept\n",
    "\n",
    "line_eq= f\"y = {round(slope, 2)} x + {round(intercept, 2)}\"\n",
    "\n",
    "plt.scatter(x_values,y_values)\n",
    "plt.plot(x_values,regress_values,\"r-\")\n",
    "plt.annotate(line_eq,(-25,9),fontsize=15)\n",
    "plt.title(\"Southern Hemisphere - Windspeed vs. Latitude\")\n",
    "plt.xlabel(\"Latitude\")\n",
    "plt.ylabel(\"Windspeed(mph)\")\n",
    "print(f\"The r-squared is: {rvalue**2}\")\n",
    "plt.show()"
   ]
  },
  {
   "cell_type": "markdown",
   "metadata": {},
   "source": [
    "Observation of Windspeed\n",
    "\n"
   ]
  }
 ],
 "metadata": {
  "anaconda-cloud": {},
  "kernel_info": {
   "name": "python3"
  },
  "kernelspec": {
   "display_name": "Python 3",
   "language": "python",
   "name": "python3"
  },
  "language_info": {
   "codemirror_mode": {
    "name": "ipython",
    "version": 3
   },
   "file_extension": ".py",
   "mimetype": "text/x-python",
   "name": "python",
   "nbconvert_exporter": "python",
   "pygments_lexer": "ipython3",
   "version": "3.8.5"
  },
  "latex_envs": {
   "LaTeX_envs_menu_present": true,
   "autoclose": false,
   "autocomplete": true,
   "bibliofile": "biblio.bib",
   "cite_by": "apalike",
   "current_citInitial": 1,
   "eqLabelWithNumbers": true,
   "eqNumInitial": 1,
   "hotkeys": {
    "equation": "Ctrl-E",
    "itemize": "Ctrl-I"
   },
   "labels_anchors": false,
   "latex_user_defs": false,
   "report_style_numbering": false,
   "user_envs_cfg": false
  },
  "nteract": {
   "version": "0.12.3"
  }
 },
 "nbformat": 4,
 "nbformat_minor": 2
}
