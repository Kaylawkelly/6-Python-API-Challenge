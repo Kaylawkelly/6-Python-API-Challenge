{
 "cells": [
  {
   "cell_type": "markdown",
   "metadata": {},
   "source": [
    "# WeatherPy\n",
    "----\n",
    "\n",
    "#### Note\n",
    "* Instructions have been included for each segment. You do not have to follow them exactly, but they are included to help you think through the steps."
   ]
  },
  {
   "cell_type": "markdown",
   "metadata": {},
   "source": [
    "OVERERALL Anaylsis of Dataset:\n",
    "\n",
    "1. Based on the data, the further you are from lat 0 degrees (equator) the colder you get. The closer you are to lat 0 degrees the warmer you are. The data suggest that lat has a dirrect relationship with temperature.\n",
    "\n",
    "2. Based on the data, most of the southern hemisphere data suggest there is no correlation to lattitude. Temperature data looks colder. I would suggest adding more southern hemisphere countries to really anylze this correlation.\n",
    "\n",
    "3. All the data suggest that lat does not have a direct impact on humidity, cloudiness and windspeed. This is clear throughout both hemispheres. "
   ]
  },
  {
   "cell_type": "code",
   "execution_count": 1,
   "metadata": {},
   "outputs": [
    {
     "name": "stdout",
     "output_type": "stream",
     "text": [
      "Requirement already satisfied: citipy in /Users/kay/opt/anaconda3/lib/python3.8/site-packages (0.0.5)\n",
      "Requirement already satisfied: kdtree>=0.12 in /Users/kay/opt/anaconda3/lib/python3.8/site-packages (from citipy) (0.16)\n",
      "Note: you may need to restart the kernel to use updated packages.\n"
     ]
    }
   ],
   "source": [
    "#pip install citipy"
   ]
  },
  {
   "cell_type": "code",
   "execution_count": 2,
   "metadata": {
    "scrolled": true
   },
   "outputs": [],
   "source": [
    "# Dependencies and Setup\n",
    "import matplotlib.pyplot as plt\n",
    "import pandas as pd\n",
    "import numpy as np\n",
    "import requests\n",
    "import time\n",
    "from scipy.stats import linregress\n",
    "\n",
    "# Import API key\n",
    "from api_keys import weather_api_key\n",
    "\n",
    "# Incorporated citipy to determine city based on latitude and longitude\n",
    "from citipy import citipy\n",
    "\n",
    "# Output File (CSV)\n",
    "output_data_file = \"output_data/cities.csv\"\n",
    "\n",
    "# Range of latitudes and longitudes\n",
    "lat_range = (-90, 90)\n",
    "lng_range = (-180, 180)"
   ]
  },
  {
   "cell_type": "markdown",
   "metadata": {},
   "source": [
    "## Generate Cities List"
   ]
  },
  {
   "cell_type": "code",
   "execution_count": 3,
   "metadata": {},
   "outputs": [
    {
     "data": {
      "text/plain": [
       "637"
      ]
     },
     "execution_count": 3,
     "metadata": {},
     "output_type": "execute_result"
    }
   ],
   "source": [
    "# List for holding lat_lngs and cities\n",
    "lat_lngs = []\n",
    "cities = []\n",
    "\n",
    "# Create a set of random lat and lng combinations\n",
    "lats = np.random.uniform(lat_range[0], lat_range[1], size=1500)\n",
    "lngs = np.random.uniform(lng_range[0], lng_range[1], size=1500)\n",
    "lat_lngs = zip(lats, lngs)\n",
    "\n",
    "# Identify nearest city for each lat, lng combination\n",
    "for lat_lng in lat_lngs:\n",
    "    city = citipy.nearest_city(lat_lng[0], lat_lng[1]).city_name\n",
    "    \n",
    "    # If the city is unique, then add it to a our cities list\n",
    "    if city not in cities:\n",
    "        cities.append(city)\n",
    "\n",
    "# Print the city count to confirm sufficient count\n",
    "len(cities)"
   ]
  },
  {
   "cell_type": "markdown",
   "metadata": {},
   "source": [
    "### Perform API Calls\n",
    "* Perform a weather check on each city using a series of successive API calls.\n",
    "* Include a print log of each city as it'sbeing processed (with the city number and city name).\n"
   ]
  },
  {
   "cell_type": "code",
   "execution_count": 4,
   "metadata": {
    "scrolled": true
   },
   "outputs": [
    {
     "name": "stdout",
     "output_type": "stream",
     "text": [
      "http://api.openweathermap.org/data/2.5/weather?appid=999fb85742e96c699338def4a2ba44db&units=metric&q=\n"
     ]
    },
    {
     "data": {
      "text/plain": [
       "{'coord': {'lon': 149.1292, 'lat': -35.2813},\n",
       " 'weather': [{'id': 800,\n",
       "   'main': 'Clear',\n",
       "   'description': 'clear sky',\n",
       "   'icon': '01d'}],\n",
       " 'base': 'stations',\n",
       " 'main': {'temp': 8.67,\n",
       "  'feels_like': 7.65,\n",
       "  'temp_min': 7.78,\n",
       "  'temp_max': 9.44,\n",
       "  'pressure': 1009,\n",
       "  'humidity': 100},\n",
       " 'visibility': 10000,\n",
       " 'wind': {'speed': 1.03, 'deg': 130},\n",
       " 'clouds': {'all': 0},\n",
       " 'dt': 1614889490,\n",
       " 'sys': {'type': 1,\n",
       "  'id': 9588,\n",
       "  'country': 'AU',\n",
       "  'sunrise': 1614887620,\n",
       "  'sunset': 1614933405},\n",
       " 'timezone': 39600,\n",
       " 'id': 2172517,\n",
       " 'name': 'City',\n",
       " 'cod': 200}"
      ]
     },
     "execution_count": 4,
     "metadata": {},
     "output_type": "execute_result"
    }
   ],
   "source": [
    "url = \"http://api.openweathermap.org/data/2.5/weather?\"\n",
    "units = \"metric\"\n",
    "\n",
    "query_url=f\"{url}appid={weather_api_key}&units={units}&q=\"\n",
    "print(query_url)\n",
    "\n",
    "response = requests.get(query_url + \"City\").json()\n",
    "response\n",
    "\n"
   ]
  },
  {
   "cell_type": "code",
   "execution_count": 5,
   "metadata": {},
   "outputs": [
    {
     "name": "stdout",
     "output_type": "stream",
     "text": [
      "1 ushuaia\n",
      "2 busselton\n",
      "3 hermanus\n",
      "4 cape town\n",
      "5 road town\n",
      "6 chapais\n",
      "7 sao filipe\n",
      "8 bucak\n",
      "9 gladstone\n",
      "10 anshun\n",
      "11 albany\n",
      "12 balkhash\n",
      "13 atuona\n",
      "14 arraial do cabo\n",
      "15 severo-kurilsk\n",
      "16 butaritari\n",
      "City not found.\n",
      "18 rikitea\n",
      "19 maceio\n",
      "20 nikolayevsk-na-amure\n",
      "City not found.\n",
      "22 saint george\n",
      "23 port-gentil\n",
      "24 mutoko\n",
      "25 hobart\n",
      "26 olafsvik\n",
      "27 cobija\n",
      "28 port hedland\n",
      "29 okhotsk\n",
      "30 guaymas\n",
      "31 la ronge\n",
      "32 yulara\n",
      "33 puerto ayora\n",
      "34 kyshtovka\n",
      "35 punta arenas\n",
      "36 bluff\n",
      "37 faanui\n",
      "38 mumford\n",
      "39 lavrentiya\n",
      "40 vaini\n",
      "41 port elizabeth\n",
      "42 mataura\n",
      "43 port alfred\n",
      "44 kalabo\n",
      "45 alofi\n",
      "46 luzilandia\n",
      "47 tasiilaq\n",
      "48 la romana\n",
      "49 zharkent\n",
      "50 vanderhoof\n",
      "51 samarai\n",
      "52 taltal\n",
      "53 gondanglegi\n",
      "54 qinzhou\n",
      "55 san patricio\n",
      "City not found.\n",
      "57 hasaki\n",
      "58 hilo\n",
      "59 mindelo\n",
      "60 castro\n",
      "61 jamestown\n",
      "62 carutapera\n",
      "63 tuktoyaktuk\n",
      "64 guarapari\n",
      "65 grand gaube\n",
      "66 nouadhibou\n",
      "City not found.\n",
      "68 namibe\n",
      "69 new norfolk\n",
      "70 khatanga\n",
      "City not found.\n",
      "72 nikolskoye\n",
      "73 lepe\n",
      "City not found.\n",
      "75 pangnirtung\n",
      "76 dourbali\n",
      "77 rawson\n",
      "78 chuy\n",
      "79 bethel\n",
      "80 mandiana\n",
      "81 solnechnyy\n",
      "82 norman wells\n",
      "83 afyonkarahisar\n",
      "84 chumikan\n",
      "City not found.\n",
      "86 iralaya\n",
      "87 thompson\n",
      "88 carnarvon\n",
      "89 la asuncion\n",
      "90 nuuk\n",
      "91 kapaa\n",
      "City not found.\n",
      "93 kuytun\n",
      "94 upernavik\n",
      "95 saint-joseph\n",
      "96 wyszkow\n",
      "97 san cristobal\n",
      "98 mastic beach\n",
      "99 omsukchan\n",
      "100 bredasdorp\n",
      "101 las guacamayas\n",
      "102 merrill\n",
      "103 zhangye\n",
      "104 noumea\n",
      "105 hualmay\n",
      "106 tuburan\n",
      "107 huarmey\n",
      "108 victoria\n",
      "109 itarema\n",
      "110 pevek\n",
      "111 kontagora\n",
      "112 grenfell\n",
      "113 chokurdakh\n",
      "114 ngorongoro\n",
      "115 mahebourg\n",
      "116 deputatskiy\n",
      "117 kaitangata\n",
      "City not found.\n",
      "119 black river\n",
      "120 areia branca\n",
      "121 muros\n",
      "City not found.\n",
      "123 flin flon\n",
      "124 kysyl-syr\n",
      "125 college\n",
      "126 corrales\n",
      "127 sao joao da barra\n",
      "128 heihe\n",
      "129 luocheng\n",
      "130 te anau\n",
      "131 east london\n",
      "132 maua\n",
      "133 tortoli\n",
      "134 panguipulli\n",
      "135 clyde river\n",
      "136 bengkulu\n",
      "137 barrow\n",
      "138 sorong\n",
      "139 cherskiy\n",
      "140 kuandian\n",
      "141 kropotkin\n",
      "142 fortuna\n",
      "143 hofn\n",
      "144 simplicio mendes\n",
      "145 baiao\n",
      "146 turbat\n",
      "147 casablanca\n",
      "148 yaan\n",
      "149 airai\n",
      "150 marawi\n",
      "151 batagay\n",
      "152 cravo norte\n",
      "City not found.\n",
      "154 leninskoye\n",
      "155 yerbogachen\n",
      "156 bilma\n",
      "157 cururupu\n",
      "158 kabwe\n",
      "159 tupik\n",
      "160 florence\n",
      "161 queanbeyan\n",
      "162 dikson\n",
      "163 avarua\n",
      "164 esperance\n",
      "165 ambilobe\n",
      "166 longyearbyen\n",
      "City not found.\n",
      "168 kaeo\n",
      "169 salalah\n",
      "170 torbay\n",
      "171 riyadh\n",
      "172 zhanakorgan\n",
      "City not found.\n",
      "174 san ignacio\n",
      "City not found.\n",
      "City not found.\n",
      "177 zavallya\n",
      "178 mount isa\n",
      "City not found.\n",
      "City not found.\n",
      "181 dunedin\n",
      "182 ponta do sol\n",
      "183 nabire\n",
      "184 alyangula\n",
      "185 pacific grove\n",
      "186 bulawayo\n",
      "187 cidreira\n",
      "188 taoudenni\n",
      "189 mar del plata\n",
      "City not found.\n",
      "191 hambantota\n",
      "192 hithadhoo\n",
      "193 gilbues\n",
      "194 dafeng\n",
      "195 kitgum\n",
      "196 lodja\n",
      "197 omboue\n",
      "198 wanaka\n",
      "199 bazaliya\n",
      "200 merksplas\n",
      "201 santiago de cuba\n",
      "202 husavik\n",
      "203 axim\n",
      "204 pyay\n",
      "205 port blair\n",
      "206 mahajanga\n",
      "207 kudahuvadhoo\n",
      "208 sorland\n",
      "City not found.\n",
      "210 chifeng\n",
      "211 viedma\n",
      "212 lukaya\n",
      "213 codrington\n",
      "214 looc\n",
      "215 iqaluit\n",
      "216 northam\n",
      "217 anloga\n",
      "City not found.\n",
      "219 kruisfontein\n",
      "City not found.\n",
      "221 ribeira grande\n",
      "222 buchanan\n",
      "223 ust-nera\n",
      "224 pemba\n",
      "225 ostrovnoy\n",
      "226 verkhniy baskunchak\n",
      "City not found.\n",
      "228 maldonado\n",
      "229 tiksi\n",
      "230 ayan\n",
      "231 constitucion\n",
      "232 kirakira\n",
      "233 kodiak\n",
      "234 roald\n",
      "235 dalby\n",
      "236 bocas del toro\n",
      "237 nome\n",
      "238 strezhevoy\n",
      "239 ewo\n",
      "240 monroe\n",
      "241 lata\n",
      "242 hami\n",
      "243 sumbe\n",
      "244 hamilton\n",
      "245 varzea da palma\n",
      "246 port hardy\n",
      "247 arkhangelskoye\n",
      "248 rocha\n",
      "249 nueve de julio\n",
      "250 waingapu\n",
      "251 saldanha\n",
      "City not found.\n",
      "253 mehamn\n",
      "254 nelson bay\n",
      "255 rena\n",
      "256 bac lieu\n",
      "257 kavieng\n",
      "258 salinas\n",
      "259 seddon\n",
      "260 lere\n",
      "261 banjar\n",
      "262 comodoro rivadavia\n",
      "263 sola\n",
      "264 qaanaaq\n",
      "265 narsaq\n",
      "266 wum\n",
      "267 kendari\n",
      "268 porto novo\n",
      "269 alice springs\n",
      "270 riohacha\n",
      "271 suntar\n",
      "272 saint-pierre\n",
      "273 nanortalik\n",
      "274 yellowknife\n",
      "275 camacha\n",
      "276 richards bay\n",
      "277 lompoc\n",
      "278 sao jose da coroa grande\n",
      "279 coahuayana\n",
      "280 lebu\n",
      "City not found.\n",
      "282 krasnyy oktyabr\n",
      "283 amapa\n",
      "City not found.\n",
      "285 russell\n",
      "286 linkou\n",
      "287 tacna\n",
      "288 melton mowbray\n",
      "City not found.\n",
      "290 ketchikan\n",
      "291 shelburne\n",
      "292 caravelas\n",
      "293 sur\n",
      "294 guerrero negro\n",
      "295 valdemoro\n",
      "296 harper\n",
      "297 healdsburg\n",
      "298 tilichiki\n",
      "299 paamiut\n",
      "300 batemans bay\n",
      "301 mejorada del campo\n",
      "302 katsuura\n",
      "303 launceston\n",
      "304 alekseyevka\n",
      "305 lazaro cardenas\n",
      "306 xuddur\n",
      "307 homer\n",
      "308 geraldton\n",
      "309 saint-philippe\n",
      "310 kalmunai\n",
      "311 tucurui\n",
      "312 lasa\n",
      "313 batticaloa\n",
      "314 beringovskiy\n",
      "315 fare\n",
      "316 zeya\n",
      "317 leningradskiy\n",
      "318 senno\n",
      "City not found.\n",
      "320 nyurba\n",
      "321 nishihara\n",
      "322 tavda\n",
      "323 tavricheskoye\n",
      "324 dingle\n",
      "325 biak\n",
      "326 mecca\n",
      "327 tecoanapa\n",
      "328 son la\n",
      "329 bambous virieux\n",
      "330 palmares do sul\n",
      "331 bathsheba\n",
      "City not found.\n",
      "333 kenai\n",
      "334 port lincoln\n",
      "City not found.\n",
      "336 yatou\n",
      "337 verkhoyansk\n",
      "338 fairbanks\n",
      "339 cayenne\n",
      "340 sabang\n",
      "341 mariental\n",
      "342 seredeyskiy\n",
      "343 beidao\n",
      "344 palmer\n",
      "345 nortelandia\n",
      "346 tanabe\n",
      "347 xining\n",
      "348 pacifica\n",
      "349 vao\n",
      "350 cuenca\n",
      "351 neryungri\n",
      "352 tabou\n",
      "353 dali\n",
      "354 bubaque\n",
      "355 olenino\n",
      "356 tsumeb\n",
      "357 saskylakh\n",
      "358 bafoulabe\n",
      "359 cabo san lucas\n",
      "360 bassila\n",
      "City not found.\n",
      "362 pochutla\n",
      "363 provideniya\n",
      "364 montepuez\n",
      "365 mareeba\n",
      "366 megion\n",
      "367 chokwe\n",
      "368 faya\n",
      "369 nena\n",
      "370 mount gambier\n",
      "371 somerset\n",
      "372 sharan\n",
      "373 howard springs\n",
      "374 raymondville\n",
      "375 abu dhabi\n",
      "376 port keats\n",
      "377 aloleng\n",
      "378 jimo\n",
      "379 mansa\n",
      "380 meybod\n",
      "381 diamantino\n",
      "382 palpa\n",
      "383 siyabuswa\n",
      "384 acapulco\n",
      "385 moa\n",
      "386 sulangan\n",
      "387 tazovskiy\n",
      "388 karratha\n",
      "389 brigantine\n",
      "390 atar\n",
      "391 rawah\n",
      "392 kloulklubed\n",
      "393 nazca\n",
      "394 seoul\n",
      "395 pala\n",
      "396 buala\n",
      "397 lalibela\n",
      "398 calabazar de sagua\n",
      "399 egvekinot\n",
      "400 mangai\n",
      "401 whitecourt\n",
      "402 dawei\n",
      "403 wattegama\n",
      "404 tarakan\n",
      "405 souillac\n",
      "406 turukhansk\n",
      "407 kahului\n",
      "408 trairi\n",
      "409 vyshestebliyevskaya\n",
      "410 miami\n",
      "411 ambon\n",
      "412 marzuq\n",
      "413 inuvik\n",
      "414 sterling\n",
      "415 paralimni\n",
      "416 batagay-alyta\n",
      "417 pisco\n",
      "418 kununurra\n",
      "419 killarney\n",
      "420 baiyin\n",
      "421 dois vizinhos\n",
      "422 rawlins\n",
      "423 bilibino\n",
      "424 arua\n",
      "425 vemalwada\n",
      "426 port augusta\n",
      "427 marang\n",
      "428 fuerte olimpo\n",
      "City not found.\n",
      "430 samfya\n",
      "431 caborca\n",
      "432 mugur-aksy\n",
      "433 newport\n",
      "434 iquique\n",
      "435 awbari\n",
      "436 aklavik\n",
      "437 aketi\n",
      "438 srednekolymsk\n",
      "439 filingue\n",
      "440 ust-koksa\n",
      "441 auki\n",
      "442 russkaya polyana\n",
      "443 lindi\n",
      "City not found.\n",
      "City not found.\n",
      "446 westlock\n",
      "447 tingi\n",
      "448 westport\n",
      "449 flinders\n",
      "450 zhigansk\n",
      "451 coruripe\n",
      "452 touros\n",
      "453 columbia\n",
      "454 georgetown\n",
      "City not found.\n",
      "City not found.\n",
      "457 kurchum\n",
      "458 bartica\n",
      "459 ha giang\n",
      "460 lanxi\n",
      "461 ichalkaranji\n",
      "462 prigorodnyy\n",
      "463 koungheul\n",
      "City not found.\n",
      "465 puerto del rosario\n",
      "466 maputo\n",
      "467 ambulu\n",
      "468 ulaangom\n",
      "469 mogadishu\n",
      "470 praia da vitoria\n",
      "471 kumluca\n",
      "472 belyy yar\n",
      "473 gamba\n",
      "474 kelso\n",
      "475 kattivakkam\n",
      "476 pangkalanbuun\n",
      "477 kodinar\n",
      "478 zatoka\n",
      "479 oistins\n",
      "480 camalu\n",
      "481 mahon\n",
      "City not found.\n",
      "483 swinford\n",
      "484 bafra\n",
      "485 sangamner\n",
      "486 moron\n",
      "City not found.\n",
      "488 kurilsk\n",
      "489 goderich\n",
      "490 novomykolayivka\n",
      "491 lagoa\n",
      "492 naregal\n",
      "493 glace bay\n",
      "494 petropavlovsk-kamchatskiy\n",
      "495 honningsvag\n",
      "496 klaksvik\n",
      "City not found.\n",
      "498 salvador\n",
      "499 vieux-habitants\n",
      "500 svetlogorsk\n",
      "501 matamoros\n",
      "City not found.\n",
      "503 vila franca do campo\n",
      "504 jalu\n",
      "505 vilyuysk\n",
      "506 portland\n",
      "507 tautira\n",
      "508 itupiranga\n",
      "509 kinablangan\n",
      "510 starokostyantyniv\n",
      "511 semey\n",
      "512 lakes entrance\n",
      "513 ust-kuyga\n",
      "514 tha chang\n",
      "515 elverum\n",
      "516 ommen\n",
      "517 nynashamn\n",
      "518 kalur kot\n",
      "519 safaga\n",
      "520 kutiyana\n",
      "521 ahipara\n",
      "522 talnakh\n",
      "523 lloret de mar\n",
      "524 nivala\n",
      "525 chunskiy\n",
      "526 ocumare del tuy\n",
      "527 la trinidad\n",
      "528 santa maria\n",
      "529 kingman\n",
      "530 ushtobe\n",
      "531 kulob\n",
      "532 halifax\n",
      "533 kutum\n",
      "534 shuangyang\n",
      "535 umm lajj\n",
      "536 borba\n",
      "537 nowy targ\n",
      "538 matay\n",
      "539 barsovo\n",
      "540 vardo\n",
      "541 jaguaruna\n",
      "542 lamu\n",
      "543 olavarria\n",
      "City not found.\n",
      "545 ustyuzhna\n",
      "546 marsa matruh\n",
      "547 sanlucar la mayor\n",
      "548 grand-santi\n",
      "549 tahta\n",
      "550 pokhara\n",
      "551 danjiangkou\n",
      "552 paradise\n",
      "553 balila\n",
      "554 dennery\n",
      "555 moranbah\n",
      "556 kyra\n",
      "557 proddatur\n",
      "558 tuatapere\n",
      "559 menemen\n",
      "560 christchurch\n",
      "561 leh\n",
      "562 garowe\n",
      "563 laurel\n",
      "564 nassjo\n",
      "565 raseiniai\n",
      "566 ranghulu\n",
      "567 sitka\n",
      "568 sokolo\n",
      "569 abha\n",
      "570 darvel\n",
      "571 ilinskiy\n",
      "572 coquimbo\n",
      "573 meulaboh\n",
      "574 krasnyy chikoy\n",
      "575 guerande\n",
      "576 mbanza-ngungu\n",
      "577 naze\n",
      "578 lorengau\n",
      "579 tonantins\n",
      "580 ateli\n",
      "City not found.\n",
      "582 taksimo\n",
      "583 adrar\n",
      "584 vila\n",
      "585 denpasar\n",
      "586 cairns\n",
      "587 cabedelo\n",
      "588 fort saint james\n",
      "589 bonanza\n",
      "590 ilulissat\n",
      "591 springbok\n",
      "592 shihezi\n",
      "593 poum\n",
      "594 gazanjyk\n",
      "595 najran\n",
      "596 monrovia\n",
      "597 lieksa\n",
      "598 vestmanna\n",
      "City not found.\n",
      "600 rio grande\n",
      "601 itacare\n",
      "602 xichang\n",
      "603 imbituba\n",
      "604 kez\n",
      "605 isangel\n",
      "606 fukuma\n",
      "607 parana\n",
      "608 marystown\n",
      "609 muriti\n",
      "610 arroio dos ratos\n",
      "611 ayorou\n",
      "612 sibolga\n",
      "613 victor harbor\n",
      "614 valpoi\n",
      "City not found.\n",
      "616 luganville\n",
      "617 sept-iles\n"
     ]
    },
    {
     "name": "stdout",
     "output_type": "stream",
     "text": [
      "618 krasnoselkup\n",
      "619 arlit\n",
      "620 tual\n",
      "621 labuhan\n",
      "622 bow island\n",
      "623 kimbe\n",
      "624 purwa\n",
      "625 padang\n",
      "626 cockburn town\n",
      "627 rassvet\n",
      "City not found.\n",
      "629 bolivar\n",
      "630 urucui\n",
      "631 santa isabel\n",
      "632 mapiripan\n",
      "633 bima\n",
      "634 nanakuli\n",
      "635 bonfim\n",
      "636 pisz\n",
      "637 broome\n",
      "------------------------------\n",
      "Data Retrieval Complete\n",
      "------------------------------\n"
     ]
    }
   ],
   "source": [
    "data = []\n",
    "counter = 0\n",
    "\n",
    "#For loop\n",
    "for city in cities:\n",
    "    counter=counter+1\n",
    "    \n",
    "    try:\n",
    "        response = requests.get(query_url + city ).json()\n",
    "        temp_max= response[\"main\"][\"temp_max\"]\n",
    "        humidity=response[\"main\"][\"humidity\"]\n",
    "        windspeed=response[\"wind\"][\"speed\"]\n",
    "        cloudy=response[\"clouds\"][\"all\"]\n",
    "        country=response[\"sys\"][\"country\"]\n",
    "        date=response[\"dt\"]\n",
    "        lat=response[\"coord\"][\"lat\"]\n",
    "        lon=response[\"coord\"][\"lon\"]\n",
    "        data.append([date,city, country, lat, lon, temp_max, humidity,windspeed, cloudy])\n",
    "        print(f\"{counter} {city}\")\n",
    "        time.sleep(.2)\n",
    "    except:\n",
    "        print(\"City not found.\")      \n",
    "\n",
    "  \n",
    "print(\"------------------------------\\nData Retrieval Complete\\n------------------------------\")\n"
   ]
  },
  {
   "cell_type": "markdown",
   "metadata": {},
   "source": [
    "### Convert Raw Data to DataFrame\n",
    "* Export the city data into a .csv.\n",
    "* Display the DataFrame"
   ]
  },
  {
   "cell_type": "code",
   "execution_count": 6,
   "metadata": {},
   "outputs": [
    {
     "data": {
      "text/html": [
       "<div>\n",
       "<style scoped>\n",
       "    .dataframe tbody tr th:only-of-type {\n",
       "        vertical-align: middle;\n",
       "    }\n",
       "\n",
       "    .dataframe tbody tr th {\n",
       "        vertical-align: top;\n",
       "    }\n",
       "\n",
       "    .dataframe thead th {\n",
       "        text-align: right;\n",
       "    }\n",
       "</style>\n",
       "<table border=\"1\" class=\"dataframe\">\n",
       "  <thead>\n",
       "    <tr style=\"text-align: right;\">\n",
       "      <th></th>\n",
       "      <th>date</th>\n",
       "      <th>city</th>\n",
       "      <th>country</th>\n",
       "      <th>lat</th>\n",
       "      <th>lon</th>\n",
       "      <th>temp_max</th>\n",
       "      <th>humidity</th>\n",
       "      <th>windspeed</th>\n",
       "      <th>cloudy</th>\n",
       "    </tr>\n",
       "  </thead>\n",
       "  <tbody>\n",
       "    <tr>\n",
       "      <th>0</th>\n",
       "      <td>1614889334</td>\n",
       "      <td>ushuaia</td>\n",
       "      <td>AR</td>\n",
       "      <td>-54.8000</td>\n",
       "      <td>-68.3000</td>\n",
       "      <td>15.00</td>\n",
       "      <td>51</td>\n",
       "      <td>1.03</td>\n",
       "      <td>40</td>\n",
       "    </tr>\n",
       "    <tr>\n",
       "      <th>1</th>\n",
       "      <td>1614889493</td>\n",
       "      <td>busselton</td>\n",
       "      <td>AU</td>\n",
       "      <td>-33.6500</td>\n",
       "      <td>115.3333</td>\n",
       "      <td>18.89</td>\n",
       "      <td>99</td>\n",
       "      <td>3.26</td>\n",
       "      <td>81</td>\n",
       "    </tr>\n",
       "    <tr>\n",
       "      <th>2</th>\n",
       "      <td>1614889511</td>\n",
       "      <td>hermanus</td>\n",
       "      <td>ZA</td>\n",
       "      <td>-34.4187</td>\n",
       "      <td>19.2345</td>\n",
       "      <td>15.00</td>\n",
       "      <td>91</td>\n",
       "      <td>2.61</td>\n",
       "      <td>82</td>\n",
       "    </tr>\n",
       "    <tr>\n",
       "      <th>3</th>\n",
       "      <td>1614889511</td>\n",
       "      <td>cape town</td>\n",
       "      <td>ZA</td>\n",
       "      <td>-33.9258</td>\n",
       "      <td>18.4232</td>\n",
       "      <td>19.44</td>\n",
       "      <td>63</td>\n",
       "      <td>5.66</td>\n",
       "      <td>0</td>\n",
       "    </tr>\n",
       "    <tr>\n",
       "      <th>4</th>\n",
       "      <td>1614889419</td>\n",
       "      <td>road town</td>\n",
       "      <td>VG</td>\n",
       "      <td>18.4167</td>\n",
       "      <td>-64.6167</td>\n",
       "      <td>27.22</td>\n",
       "      <td>69</td>\n",
       "      <td>3.09</td>\n",
       "      <td>20</td>\n",
       "    </tr>\n",
       "    <tr>\n",
       "      <th>...</th>\n",
       "      <td>...</td>\n",
       "      <td>...</td>\n",
       "      <td>...</td>\n",
       "      <td>...</td>\n",
       "      <td>...</td>\n",
       "      <td>...</td>\n",
       "      <td>...</td>\n",
       "      <td>...</td>\n",
       "      <td>...</td>\n",
       "    </tr>\n",
       "    <tr>\n",
       "      <th>587</th>\n",
       "      <td>1614889724</td>\n",
       "      <td>bima</td>\n",
       "      <td>ID</td>\n",
       "      <td>-8.4667</td>\n",
       "      <td>118.7167</td>\n",
       "      <td>24.30</td>\n",
       "      <td>84</td>\n",
       "      <td>0.57</td>\n",
       "      <td>100</td>\n",
       "    </tr>\n",
       "    <tr>\n",
       "      <th>588</th>\n",
       "      <td>1614889725</td>\n",
       "      <td>nanakuli</td>\n",
       "      <td>US</td>\n",
       "      <td>21.3906</td>\n",
       "      <td>-158.1547</td>\n",
       "      <td>25.00</td>\n",
       "      <td>53</td>\n",
       "      <td>3.09</td>\n",
       "      <td>1</td>\n",
       "    </tr>\n",
       "    <tr>\n",
       "      <th>589</th>\n",
       "      <td>1614889726</td>\n",
       "      <td>bonfim</td>\n",
       "      <td>BR</td>\n",
       "      <td>3.0833</td>\n",
       "      <td>-59.9500</td>\n",
       "      <td>34.69</td>\n",
       "      <td>36</td>\n",
       "      <td>3.75</td>\n",
       "      <td>87</td>\n",
       "    </tr>\n",
       "    <tr>\n",
       "      <th>590</th>\n",
       "      <td>1614889726</td>\n",
       "      <td>pisz</td>\n",
       "      <td>PL</td>\n",
       "      <td>53.6274</td>\n",
       "      <td>21.8125</td>\n",
       "      <td>-1.00</td>\n",
       "      <td>93</td>\n",
       "      <td>3.09</td>\n",
       "      <td>0</td>\n",
       "    </tr>\n",
       "    <tr>\n",
       "      <th>591</th>\n",
       "      <td>1614889726</td>\n",
       "      <td>broome</td>\n",
       "      <td>US</td>\n",
       "      <td>42.2506</td>\n",
       "      <td>-75.8330</td>\n",
       "      <td>-2.78</td>\n",
       "      <td>54</td>\n",
       "      <td>8.75</td>\n",
       "      <td>20</td>\n",
       "    </tr>\n",
       "  </tbody>\n",
       "</table>\n",
       "<p>592 rows × 9 columns</p>\n",
       "</div>"
      ],
      "text/plain": [
       "           date       city country      lat       lon  temp_max  humidity  \\\n",
       "0    1614889334    ushuaia      AR -54.8000  -68.3000     15.00        51   \n",
       "1    1614889493  busselton      AU -33.6500  115.3333     18.89        99   \n",
       "2    1614889511   hermanus      ZA -34.4187   19.2345     15.00        91   \n",
       "3    1614889511  cape town      ZA -33.9258   18.4232     19.44        63   \n",
       "4    1614889419  road town      VG  18.4167  -64.6167     27.22        69   \n",
       "..          ...        ...     ...      ...       ...       ...       ...   \n",
       "587  1614889724       bima      ID  -8.4667  118.7167     24.30        84   \n",
       "588  1614889725   nanakuli      US  21.3906 -158.1547     25.00        53   \n",
       "589  1614889726     bonfim      BR   3.0833  -59.9500     34.69        36   \n",
       "590  1614889726       pisz      PL  53.6274   21.8125     -1.00        93   \n",
       "591  1614889726     broome      US  42.2506  -75.8330     -2.78        54   \n",
       "\n",
       "     windspeed  cloudy  \n",
       "0         1.03      40  \n",
       "1         3.26      81  \n",
       "2         2.61      82  \n",
       "3         5.66       0  \n",
       "4         3.09      20  \n",
       "..         ...     ...  \n",
       "587       0.57     100  \n",
       "588       3.09       1  \n",
       "589       3.75      87  \n",
       "590       3.09       0  \n",
       "591       8.75      20  \n",
       "\n",
       "[592 rows x 9 columns]"
      ]
     },
     "execution_count": 6,
     "metadata": {},
     "output_type": "execute_result"
    }
   ],
   "source": [
    "city_df = pd.DataFrame(data,columns=[\"date\",\"city\", \"country\", \"lat\", \"lon\", \"temp_max\", \"humidity\",\"windspeed\", \"cloudy\"])\n",
    "city_df"
   ]
  },
  {
   "cell_type": "markdown",
   "metadata": {},
   "source": [
    "## Inspect the data and remove the cities where the humidity > 100%.\n",
    "----\n",
    "Skip this step if there are no cities that have humidity > 100%. "
   ]
  },
  {
   "cell_type": "code",
   "execution_count": 7,
   "metadata": {},
   "outputs": [
    {
     "data": {
      "text/plain": [
       "Int64Index([], dtype='int64')"
      ]
     },
     "execution_count": 7,
     "metadata": {},
     "output_type": "execute_result"
    }
   ],
   "source": [
    "#  Get the indices of cities that have humidity over 100%.\n",
    "highhumidity = city_df[(city_df[\"humidity\"]>100)].index\n",
    "highhumidity"
   ]
  },
  {
   "cell_type": "code",
   "execution_count": 8,
   "metadata": {},
   "outputs": [
    {
     "data": {
      "text/html": [
       "<div>\n",
       "<style scoped>\n",
       "    .dataframe tbody tr th:only-of-type {\n",
       "        vertical-align: middle;\n",
       "    }\n",
       "\n",
       "    .dataframe tbody tr th {\n",
       "        vertical-align: top;\n",
       "    }\n",
       "\n",
       "    .dataframe thead th {\n",
       "        text-align: right;\n",
       "    }\n",
       "</style>\n",
       "<table border=\"1\" class=\"dataframe\">\n",
       "  <thead>\n",
       "    <tr style=\"text-align: right;\">\n",
       "      <th></th>\n",
       "      <th>date</th>\n",
       "      <th>city</th>\n",
       "      <th>country</th>\n",
       "      <th>lat</th>\n",
       "      <th>lon</th>\n",
       "      <th>temp_max</th>\n",
       "      <th>humidity</th>\n",
       "      <th>windspeed</th>\n",
       "      <th>cloudy</th>\n",
       "    </tr>\n",
       "  </thead>\n",
       "  <tbody>\n",
       "    <tr>\n",
       "      <th>0</th>\n",
       "      <td>1614889334</td>\n",
       "      <td>ushuaia</td>\n",
       "      <td>AR</td>\n",
       "      <td>-54.8000</td>\n",
       "      <td>-68.3000</td>\n",
       "      <td>15.00</td>\n",
       "      <td>51</td>\n",
       "      <td>1.03</td>\n",
       "      <td>40</td>\n",
       "    </tr>\n",
       "    <tr>\n",
       "      <th>1</th>\n",
       "      <td>1614889493</td>\n",
       "      <td>busselton</td>\n",
       "      <td>AU</td>\n",
       "      <td>-33.6500</td>\n",
       "      <td>115.3333</td>\n",
       "      <td>18.89</td>\n",
       "      <td>99</td>\n",
       "      <td>3.26</td>\n",
       "      <td>81</td>\n",
       "    </tr>\n",
       "    <tr>\n",
       "      <th>2</th>\n",
       "      <td>1614889511</td>\n",
       "      <td>hermanus</td>\n",
       "      <td>ZA</td>\n",
       "      <td>-34.4187</td>\n",
       "      <td>19.2345</td>\n",
       "      <td>15.00</td>\n",
       "      <td>91</td>\n",
       "      <td>2.61</td>\n",
       "      <td>82</td>\n",
       "    </tr>\n",
       "    <tr>\n",
       "      <th>3</th>\n",
       "      <td>1614889511</td>\n",
       "      <td>cape town</td>\n",
       "      <td>ZA</td>\n",
       "      <td>-33.9258</td>\n",
       "      <td>18.4232</td>\n",
       "      <td>19.44</td>\n",
       "      <td>63</td>\n",
       "      <td>5.66</td>\n",
       "      <td>0</td>\n",
       "    </tr>\n",
       "    <tr>\n",
       "      <th>4</th>\n",
       "      <td>1614889419</td>\n",
       "      <td>road town</td>\n",
       "      <td>VG</td>\n",
       "      <td>18.4167</td>\n",
       "      <td>-64.6167</td>\n",
       "      <td>27.22</td>\n",
       "      <td>69</td>\n",
       "      <td>3.09</td>\n",
       "      <td>20</td>\n",
       "    </tr>\n",
       "    <tr>\n",
       "      <th>...</th>\n",
       "      <td>...</td>\n",
       "      <td>...</td>\n",
       "      <td>...</td>\n",
       "      <td>...</td>\n",
       "      <td>...</td>\n",
       "      <td>...</td>\n",
       "      <td>...</td>\n",
       "      <td>...</td>\n",
       "      <td>...</td>\n",
       "    </tr>\n",
       "    <tr>\n",
       "      <th>587</th>\n",
       "      <td>1614889724</td>\n",
       "      <td>bima</td>\n",
       "      <td>ID</td>\n",
       "      <td>-8.4667</td>\n",
       "      <td>118.7167</td>\n",
       "      <td>24.30</td>\n",
       "      <td>84</td>\n",
       "      <td>0.57</td>\n",
       "      <td>100</td>\n",
       "    </tr>\n",
       "    <tr>\n",
       "      <th>588</th>\n",
       "      <td>1614889725</td>\n",
       "      <td>nanakuli</td>\n",
       "      <td>US</td>\n",
       "      <td>21.3906</td>\n",
       "      <td>-158.1547</td>\n",
       "      <td>25.00</td>\n",
       "      <td>53</td>\n",
       "      <td>3.09</td>\n",
       "      <td>1</td>\n",
       "    </tr>\n",
       "    <tr>\n",
       "      <th>589</th>\n",
       "      <td>1614889726</td>\n",
       "      <td>bonfim</td>\n",
       "      <td>BR</td>\n",
       "      <td>3.0833</td>\n",
       "      <td>-59.9500</td>\n",
       "      <td>34.69</td>\n",
       "      <td>36</td>\n",
       "      <td>3.75</td>\n",
       "      <td>87</td>\n",
       "    </tr>\n",
       "    <tr>\n",
       "      <th>590</th>\n",
       "      <td>1614889726</td>\n",
       "      <td>pisz</td>\n",
       "      <td>PL</td>\n",
       "      <td>53.6274</td>\n",
       "      <td>21.8125</td>\n",
       "      <td>-1.00</td>\n",
       "      <td>93</td>\n",
       "      <td>3.09</td>\n",
       "      <td>0</td>\n",
       "    </tr>\n",
       "    <tr>\n",
       "      <th>591</th>\n",
       "      <td>1614889726</td>\n",
       "      <td>broome</td>\n",
       "      <td>US</td>\n",
       "      <td>42.2506</td>\n",
       "      <td>-75.8330</td>\n",
       "      <td>-2.78</td>\n",
       "      <td>54</td>\n",
       "      <td>8.75</td>\n",
       "      <td>20</td>\n",
       "    </tr>\n",
       "  </tbody>\n",
       "</table>\n",
       "<p>592 rows × 9 columns</p>\n",
       "</div>"
      ],
      "text/plain": [
       "           date       city country      lat       lon  temp_max  humidity  \\\n",
       "0    1614889334    ushuaia      AR -54.8000  -68.3000     15.00        51   \n",
       "1    1614889493  busselton      AU -33.6500  115.3333     18.89        99   \n",
       "2    1614889511   hermanus      ZA -34.4187   19.2345     15.00        91   \n",
       "3    1614889511  cape town      ZA -33.9258   18.4232     19.44        63   \n",
       "4    1614889419  road town      VG  18.4167  -64.6167     27.22        69   \n",
       "..          ...        ...     ...      ...       ...       ...       ...   \n",
       "587  1614889724       bima      ID  -8.4667  118.7167     24.30        84   \n",
       "588  1614889725   nanakuli      US  21.3906 -158.1547     25.00        53   \n",
       "589  1614889726     bonfim      BR   3.0833  -59.9500     34.69        36   \n",
       "590  1614889726       pisz      PL  53.6274   21.8125     -1.00        93   \n",
       "591  1614889726     broome      US  42.2506  -75.8330     -2.78        54   \n",
       "\n",
       "     windspeed  cloudy  \n",
       "0         1.03      40  \n",
       "1         3.26      81  \n",
       "2         2.61      82  \n",
       "3         5.66       0  \n",
       "4         3.09      20  \n",
       "..         ...     ...  \n",
       "587       0.57     100  \n",
       "588       3.09       1  \n",
       "589       3.75      87  \n",
       "590       3.09       0  \n",
       "591       8.75      20  \n",
       "\n",
       "[592 rows x 9 columns]"
      ]
     },
     "execution_count": 8,
     "metadata": {},
     "output_type": "execute_result"
    }
   ],
   "source": [
    "# Make a new DataFrame equal to the city data to drop all humidity outliers by index.\n",
    "# Passing \"inplace=False\" will make a copy of the city_data DataFrame, which we call \"clean_city_data\".\n",
    "\n",
    "cleancity_df=city_df.drop(highhumidity, inplace=False)\n",
    "cleancity_df\n"
   ]
  },
  {
   "cell_type": "markdown",
   "metadata": {},
   "source": [
    "## Plotting the Data\n",
    "* Use proper labeling of the plots using plot titles (including date of analysis) and axes labels.\n",
    "* Save the plotted figures as .pngs."
   ]
  },
  {
   "cell_type": "markdown",
   "metadata": {},
   "source": [
    "## Latitude vs. Temperature Plot"
   ]
  },
  {
   "cell_type": "code",
   "execution_count": 9,
   "metadata": {
    "scrolled": true
   },
   "outputs": [
    {
     "data": {
      "image/png": "[encoded data removed]",
      "text/plain": [
       "<Figure size 432x288 with 1 Axes>"
      ]
     },
     "metadata": {
      "needs_background": "light"
     },
     "output_type": "display_data"
    }
   ],
   "source": [
    "plt.scatter(cleancity_df[\"lat\"],cleancity_df[\"temp_max\"], marker=\"o\", color=\"lightblue\",edgecolor=\"black\")\n",
    "plt.title(\"Temperature in Cities\")\n",
    "plt.ylabel(\"Temperature\")\n",
    "plt.xlabel(\"Latitude\")\n",
    "plt.grid(True)\n",
    "\n",
    "#printpng\n",
    "plt.savefig(\"Temp_in_cities.png\")"
   ]
  },
  {
   "cell_type": "markdown",
   "metadata": {},
   "source": [
    "## Latitude vs. Humidity Plot"
   ]
  },
  {
   "cell_type": "code",
   "execution_count": 10,
   "metadata": {},
   "outputs": [
    {
     "data": {
      "image/png": "[encoded data removed]",
      "text/plain": [
       "<Figure size 432x288 with 1 Axes>"
      ]
     },
     "metadata": {
      "needs_background": "light"
     },
     "output_type": "display_data"
    }
   ],
   "source": [
    "plt.scatter(cleancity_df[\"lat\"],cleancity_df[\"humidity\"], marker=\"o\", color=\"lightblue\",edgecolor=\"black\")\n",
    "plt.title(\"Humidity in Cities\")\n",
    "plt.ylabel(\"Humidity (%)\")\n",
    "plt.xlabel(\"Latitude\")\n",
    "plt.ylim(min(cleancity_df[\"humidity\"])-10,max(cleancity_df[\"humidity\"])+10)\n",
    "plt.grid(True)\n",
    "\n",
    "\n",
    "\n",
    "#printpng\n",
    "\n",
    "plt.savefig(\"Humid_in_cities.png\")\n",
    "\n"
   ]
  },
  {
   "cell_type": "markdown",
   "metadata": {},
   "source": [
    "Humidity Observation: This verifies that there is no humidity above 100% in the data set."
   ]
  },
  {
   "cell_type": "markdown",
   "metadata": {},
   "source": [
    "## Latitude vs. Cloudiness Plot"
   ]
  },
  {
   "cell_type": "code",
   "execution_count": 11,
   "metadata": {},
   "outputs": [
    {
     "data": {
      "image/png": "[encoded data removed]",
      "text/plain": [
       "<Figure size 432x288 with 1 Axes>"
      ]
     },
     "metadata": {
      "needs_background": "light"
     },
     "output_type": "display_data"
    }
   ],
   "source": [
    "plt.scatter(cleancity_df[\"lat\"],cleancity_df[\"cloudy\"], marker=\"o\", color=\"lightblue\",edgecolor=\"black\")\n",
    "plt.title(\"Cloudiness in Cities\")\n",
    "plt.ylabel(\"Cloudiness (%)\")\n",
    "plt.xlabel(\"Latitude\")\n",
    "plt.grid(True)\n",
    "\n",
    "\n",
    "\n",
    "#printpng\n",
    "\n",
    "plt.savefig(\"Cloudy_in_cities.png\")\n"
   ]
  },
  {
   "cell_type": "markdown",
   "metadata": {},
   "source": [
    "Observation of Cloudiness: This data shows that cloudiness is not determined by latitude. Cloudinees is pretty variable."
   ]
  },
  {
   "cell_type": "markdown",
   "metadata": {},
   "source": [
    "## Latitude vs. Wind Speed Plot"
   ]
  },
  {
   "cell_type": "code",
   "execution_count": 12,
   "metadata": {},
   "outputs": [
    {
     "data": {
      "image/png": "[encoded data removed]",
      "text/plain": [
       "<Figure size 432x288 with 1 Axes>"
      ]
     },
     "metadata": {
      "needs_background": "light"
     },
     "output_type": "display_data"
    }
   ],
   "source": [
    "plt.scatter(cleancity_df[\"lat\"],cleancity_df[\"windspeed\"], marker=\"o\", color=\"lightblue\",edgecolor=\"black\")\n",
    "plt.title(\"Windspeed in Cities\")\n",
    "plt.ylabel(\"Windspeed (mph)\")\n",
    "plt.xlabel(\"Latitude\")\n",
    "plt.grid(True)\n",
    "\n",
    "\n",
    "#printpng\n",
    "\n",
    "plt.savefig(\"Windy_in_cities.png\")\n"
   ]
  },
  {
   "cell_type": "markdown",
   "metadata": {},
   "source": [
    "Observation of Windspeed: Majority of the data suggest that latitude does not have an impact on windspeed. Its pretty simularly spread across with a few outliers."
   ]
  },
  {
   "cell_type": "markdown",
   "metadata": {},
   "source": [
    "## Linear Regression"
   ]
  },
  {
   "cell_type": "code",
   "execution_count": 13,
   "metadata": {},
   "outputs": [],
   "source": [
    "northernhem=cleancity_df.loc[cleancity_df[\"lat\"]>=0]\n",
    "southernhem=cleancity_df.loc[cleancity_df[\"lat\"]<=0]"
   ]
  },
  {
   "cell_type": "markdown",
   "metadata": {},
   "source": [
    "####  Northern Hemisphere - Max Temp vs. Latitude Linear Regression"
   ]
  },
  {
   "cell_type": "code",
   "execution_count": 14,
   "metadata": {},
   "outputs": [
    {
     "name": "stdout",
     "output_type": "stream",
     "text": [
      "The r-squared is: 0.7741162985253358\n"
     ]
    },
    {
     "data": {
      "image/png": "[encoded data removed]",
      "text/plain": [
       "<Figure size 432x288 with 1 Axes>"
      ]
     },
     "metadata": {
      "needs_background": "light"
     },
     "output_type": "display_data"
    }
   ],
   "source": [
    "x_values = northernhem[\"lat\"]\n",
    "y_values = northernhem[\"temp_max\"]\n",
    "(slope, intercept, rvalue, pvalue, stderr) = linregress(x_values, y_values)\n",
    "\n",
    "regress_values = x_values * slope + intercept\n",
    "\n",
    "line_eq= f\"y = {round(slope, 2)} x + {round(intercept, 2)}\"\n",
    "\n",
    "plt.scatter(x_values,y_values)\n",
    "plt.plot(x_values,regress_values,\"r-\")\n",
    "plt.annotate(line_eq,(40,30),fontsize=15)\n",
    "plt.title(\"Northern Hemisphere - Temperature vs. Latitude\")\n",
    "plt.xlabel(\"Latitude\")\n",
    "plt.ylabel(\"Temperature\")\n",
    "print(f\"The r-squared is: {rvalue**2}\")\n",
    "plt.show()"
   ]
  },
  {
   "cell_type": "markdown",
   "metadata": {},
   "source": [
    "####  Southern Hemisphere - Max Temp vs. Latitude Linear Regression"
   ]
  },
  {
   "cell_type": "code",
   "execution_count": 15,
   "metadata": {},
   "outputs": [
    {
     "name": "stdout",
     "output_type": "stream",
     "text": [
      "The r-squared is: 0.371610378221086\n"
     ]
    },
    {
     "data": {
      "image/png": "[encoded data removed]",
      "text/plain": [
       "<Figure size 432x288 with 1 Axes>"
      ]
     },
     "metadata": {
      "needs_background": "light"
     },
     "output_type": "display_data"
    }
   ],
   "source": [
    "x_values = southernhem[\"lat\"]\n",
    "y_values = southernhem[\"temp_max\"]\n",
    "(slope, intercept, rvalue, pvalue, stderr) = linregress(x_values, y_values)\n",
    "\n",
    "regress_values = x_values * slope + intercept\n",
    "\n",
    "line_eq= f\"y = {round(slope, 2)} x + {round(intercept, 2)}\"\n",
    "\n",
    "plt.scatter(x_values,y_values)\n",
    "plt.plot(x_values,regress_values,\"r-\")\n",
    "plt.annotate(line_eq,(-30,12),fontsize=15)\n",
    "plt.title(\"Southern Hemisphere - Temperature vs. Latitude\")\n",
    "plt.xlabel(\"Latitude\")\n",
    "plt.ylabel(\"Temperature\")\n",
    "print(f\"The r-squared is: {rvalue**2}\")\n",
    "plt.show()"
   ]
  },
  {
   "cell_type": "markdown",
   "metadata": {},
   "source": [
    "Observation of Temperature:\n",
    "\n",
    "Northern r-squared = 0.74\n",
    "Southern r-squared = 0.11\n",
    "\n",
    "There is a strong correlation between temperature and lattitude for the northern hemisphere. For the southern hemisphere the r-squared value suggest there is little to no correlation between temperature and lattitude.\n"
   ]
  },
  {
   "cell_type": "markdown",
   "metadata": {},
   "source": [
    "####  Northern Hemisphere - Humidity (%) vs. Latitude Linear Regression"
   ]
  },
  {
   "cell_type": "code",
   "execution_count": 16,
   "metadata": {},
   "outputs": [
    {
     "name": "stdout",
     "output_type": "stream",
     "text": [
      "The r-squared is: 0.15162646154333229\n"
     ]
    },
    {
     "data": {
      "image/png": "[encoded data removed]",
      "text/plain": [
       "<Figure size 432x288 with 1 Axes>"
      ]
     },
     "metadata": {
      "needs_background": "light"
     },
     "output_type": "display_data"
    }
   ],
   "source": [
    "x_values = northernhem[\"lat\"]\n",
    "y_values = northernhem[\"humidity\"]\n",
    "(slope, intercept, rvalue, pvalue, stderr) = linregress(x_values, y_values)\n",
    "\n",
    "regress_values = x_values * slope + intercept\n",
    "\n",
    "line_eq= f\"y = {round(slope, 2)} x + {round(intercept, 2)}\"\n",
    "\n",
    "plt.scatter(x_values,y_values)\n",
    "plt.plot(x_values,regress_values,\"r-\")\n",
    "plt.annotate(line_eq,(40,20),fontsize=15)\n",
    "plt.title(\"Northern Hemisphere - Humidity vs. Latitude\")\n",
    "plt.xlabel(\"Latitude\")\n",
    "plt.ylabel(\"Humidity (%)\")\n",
    "print(f\"The r-squared is: {rvalue**2}\")\n",
    "plt.show()\n"
   ]
  },
  {
   "cell_type": "markdown",
   "metadata": {},
   "source": [
    "####  Southern Hemisphere - Humidity (%) vs. Latitude Linear Regression"
   ]
  },
  {
   "cell_type": "code",
   "execution_count": 17,
   "metadata": {},
   "outputs": [
    {
     "name": "stdout",
     "output_type": "stream",
     "text": [
      "The r-squared is: 0.053851246188992265\n"
     ]
    },
    {
     "data": {
      "image/png": "[encoded data removed]",
      "text/plain": [
       "<Figure size 432x288 with 1 Axes>"
      ]
     },
     "metadata": {
      "needs_background": "light"
     },
     "output_type": "display_data"
    }
   ],
   "source": [
    "x_values = southernhem[\"lat\"]\n",
    "y_values = southernhem[\"humidity\"]\n",
    "(slope, intercept, rvalue, pvalue, stderr) = linregress(x_values, y_values)\n",
    "\n",
    "regress_values = x_values * slope + intercept\n",
    "\n",
    "line_eq= f\"y = {round(slope, 2)} x + {round(intercept, 2)}\"\n",
    "\n",
    "plt.scatter(x_values,y_values)\n",
    "plt.plot(x_values,regress_values,\"r-\")\n",
    "plt.annotate(line_eq,(-25,30),fontsize=15)\n",
    "plt.title(\"Southern Hemisphere - Humidity vs. Latitude\")\n",
    "plt.xlabel(\"Latitude\")\n",
    "plt.ylabel(\"Humidity (%)\")\n",
    "print(f\"The r-squared is: {rvalue**2}\")\n",
    "plt.show()\n"
   ]
  },
  {
   "cell_type": "markdown",
   "metadata": {},
   "source": [
    "Observation of Humidity\n",
    "\n",
    "\n",
    "Northern r-squared = 0.11\n",
    "Southern r-squared = 0.06\n",
    "\n",
    "Both the northern and southern hemisphere r-squared values suggest there is little to no correlation between humidity and lattitude.\n"
   ]
  },
  {
   "cell_type": "markdown",
   "metadata": {},
   "source": [
    "####  Northern Hemisphere - Cloudiness (%) vs. Latitude Linear Regression"
   ]
  },
  {
   "cell_type": "code",
   "execution_count": 18,
   "metadata": {},
   "outputs": [
    {
     "name": "stdout",
     "output_type": "stream",
     "text": [
      "The r-squared is: 0.07204968178588181\n"
     ]
    },
    {
     "data": {
      "image/png": "[encoded data removed]",
      "text/plain": [
       "<Figure size 432x288 with 1 Axes>"
      ]
     },
     "metadata": {
      "needs_background": "light"
     },
     "output_type": "display_data"
    }
   ],
   "source": [
    "x_values = northernhem[\"lat\"]\n",
    "y_values = northernhem[\"cloudy\"]\n",
    "(slope, intercept, rvalue, pvalue, stderr) = linregress(x_values, y_values)\n",
    "\n",
    "regress_values = x_values * slope + intercept\n",
    "\n",
    "line_eq= f\"y = {round(slope, 2)} x + {round(intercept, 2)}\"\n",
    "\n",
    "plt.scatter(x_values,y_values)\n",
    "plt.plot(x_values,regress_values,\"r-\")\n",
    "plt.annotate(line_eq,(30,60),fontsize=10)\n",
    "plt.title(\"Northern Hemisphere - Cloudiness vs. Latitude\")\n",
    "plt.xlabel(\"Latitude\")\n",
    "plt.ylabel(\"Cloudiness (%)\")\n",
    "print(f\"The r-squared is: {rvalue**2}\")\n",
    "plt.show()\n"
   ]
  },
  {
   "cell_type": "markdown",
   "metadata": {},
   "source": [
    "####  Southern Hemisphere - Cloudiness (%) vs. Latitude Linear Regression"
   ]
  },
  {
   "cell_type": "code",
   "execution_count": 19,
   "metadata": {},
   "outputs": [
    {
     "name": "stdout",
     "output_type": "stream",
     "text": [
      "The r-squared is: 0.05502010325787855\n"
     ]
    },
    {
     "data": {
      "image/png": "[encoded data removed]",
      "text/plain": [
       "<Figure size 432x288 with 1 Axes>"
      ]
     },
     "metadata": {
      "needs_background": "light"
     },
     "output_type": "display_data"
    }
   ],
   "source": [
    "x_values = southernhem[\"lat\"]\n",
    "y_values = southernhem[\"cloudy\"]\n",
    "(slope, intercept, rvalue, pvalue, stderr) = linregress(x_values, y_values)\n",
    "\n",
    "regress_values = x_values * slope + intercept\n",
    "\n",
    "line_eq= f\"y = {round(slope, 2)} x + {round(intercept, 2)}\"\n",
    "\n",
    "plt.scatter(x_values,y_values)\n",
    "plt.plot(x_values,regress_values,\"r-\")\n",
    "plt.annotate(line_eq,(-55,50),fontsize=10)\n",
    "plt.title(\"Southern Hemisphere - Cloudiness vs. Latitude\")\n",
    "plt.xlabel(\"Latitude\")\n",
    "plt.ylabel(\"Cloudiness (%)\")\n",
    "print(f\"The r-squared is: {rvalue**2}\")\n",
    "plt.show()"
   ]
  },
  {
   "cell_type": "markdown",
   "metadata": {},
   "source": [
    "Observation of Cloudiness\n",
    "\n",
    "Northern r-squared = 0.11\n",
    "Southern r-squared = 0.08\n",
    "\n",
    "Both the northern and southern hemisphere r-squared values suggest there is little to no correlation between cloudiness and lattitude."
   ]
  },
  {
   "cell_type": "markdown",
   "metadata": {},
   "source": [
    "####  Northern Hemisphere - Wind Speed (mph) vs. Latitude Linear Regression"
   ]
  },
  {
   "cell_type": "code",
   "execution_count": 20,
   "metadata": {},
   "outputs": [
    {
     "name": "stdout",
     "output_type": "stream",
     "text": [
      "The r-squared is: 0.008341262995087088\n"
     ]
    },
    {
     "data": {
      "image/png": "[encoded data removed]",
      "text/plain": [
       "<Figure size 432x288 with 1 Axes>"
      ]
     },
     "metadata": {
      "needs_background": "light"
     },
     "output_type": "display_data"
    }
   ],
   "source": [
    "x_values = northernhem[\"lat\"]\n",
    "y_values = northernhem[\"windspeed\"]\n",
    "(slope, intercept, rvalue, pvalue, stderr) = linregress(x_values, y_values)\n",
    "\n",
    "regress_values = x_values * slope + intercept\n",
    "\n",
    "line_eq= f\"y = {round(slope, 2)} x + {round(intercept, 2)}\"\n",
    "\n",
    "plt.scatter(x_values,y_values)\n",
    "plt.plot(x_values,regress_values,\"r-\")\n",
    "plt.annotate(line_eq,(0,15),fontsize=15)\n",
    "plt.title(\"Northern Hemisphere - Windspeed vs. Latitude\")\n",
    "plt.xlabel(\"Latitude\")\n",
    "plt.ylabel(\"Windspeed(mph)\")\n",
    "print(f\"The r-squared is: {rvalue**2}\")\n",
    "plt.show()"
   ]
  },
  {
   "cell_type": "markdown",
   "metadata": {},
   "source": [
    "####  Southern Hemisphere - Wind Speed (mph) vs. Latitude Linear Regression"
   ]
  },
  {
   "cell_type": "code",
   "execution_count": 21,
   "metadata": {},
   "outputs": [
    {
     "name": "stdout",
     "output_type": "stream",
     "text": [
      "The r-squared is: 0.0032922581396943188\n"
     ]
    },
    {
     "data": {
      "image/png": "[encoded data removed]",
      "text/plain": [
       "<Figure size 432x288 with 1 Axes>"
      ]
     },
     "metadata": {
      "needs_background": "light"
     },
     "output_type": "display_data"
    }
   ],
   "source": [
    "x_values = southernhem[\"lat\"]\n",
    "y_values = southernhem[\"windspeed\"]\n",
    "(slope, intercept, rvalue, pvalue, stderr) = linregress(x_values, y_values)\n",
    "\n",
    "regress_values = x_values * slope + intercept\n",
    "\n",
    "line_eq= f\"y = {round(slope, 2)} x + {round(intercept, 2)}\"\n",
    "\n",
    "plt.scatter(x_values,y_values)\n",
    "plt.plot(x_values,regress_values,\"r-\")\n",
    "plt.annotate(line_eq,(-25,9),fontsize=15)\n",
    "plt.title(\"Southern Hemisphere - Windspeed vs. Latitude\")\n",
    "plt.xlabel(\"Latitude\")\n",
    "plt.ylabel(\"Windspeed(mph)\")\n",
    "print(f\"The r-squared is: {rvalue**2}\")\n",
    "plt.show()"
   ]
  },
  {
   "cell_type": "markdown",
   "metadata": {},
   "source": [
    "Observation of Windspeed\n",
    "\n",
    "Northern r-squared = 0.01\n",
    "Southern r-squared = 0.07\n",
    "\n",
    "Both the northern and southern hemisphere r-squared values suggest there is little to no correlation between windspeed and lattitude."
   ]
  }
 ],
 "metadata": {
  "anaconda-cloud": {},
  "kernel_info": {
   "name": "python3"
  },
  "kernelspec": {
   "display_name": "Python 3",
   "language": "python",
   "name": "python3"
  },
  "language_info": {
   "codemirror_mode": {
    "name": "ipython",
    "version": 3
   },
   "file_extension": ".py",
   "mimetype": "text/x-python",
   "name": "python",
   "nbconvert_exporter": "python",
   "pygments_lexer": "ipython3",
   "version": "3.8.5"
  },
  "latex_envs": {
   "LaTeX_envs_menu_present": true,
   "autoclose": false,
   "autocomplete": true,
   "bibliofile": "biblio.bib",
   "cite_by": "apalike",
   "current_citInitial": 1,
   "eqLabelWithNumbers": true,
   "eqNumInitial": 1,
   "hotkeys": {
    "equation": "Ctrl-E",
    "itemize": "Ctrl-I"
   },
   "labels_anchors": false,
   "latex_user_defs": false,
   "report_style_numbering": false,
   "user_envs_cfg": false
  },
  "nteract": {
   "version": "0.12.3"
  }
 },
 "nbformat": 4,
 "nbformat_minor": 2
}
