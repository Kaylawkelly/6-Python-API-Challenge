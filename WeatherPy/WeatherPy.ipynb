{
 "cells": [
  {
   "cell_type": "markdown",
   "metadata": {},
   "source": [
    "# WeatherPy\n",
    "----\n",
    "\n",
    "#### Note\n",
    "* Instructions have been included for each segment. You do not have to follow them exactly, but they are included to help you think through the steps."
   ]
  },
  {
   "cell_type": "code",
   "execution_count": null,
   "metadata": {},
   "outputs": [],
   "source": []
  },
  {
   "cell_type": "code",
   "execution_count": 2,
   "metadata": {
    "scrolled": true
   },
   "outputs": [],
   "source": [
    "# Dependencies and Setup\n",
    "import matplotlib.pyplot as plt\n",
    "import pandas as pd\n",
    "import numpy as np\n",
    "import requests\n",
    "import time\n",
    "from scipy.stats import linregress\n",
    "\n",
    "# Import API key\n",
    "from api_keys import weather_api_key\n",
    "\n",
    "# Incorporated citipy to determine city based on latitude and longitude\n",
    "from citipy import citipy\n",
    "\n",
    "# Output File (CSV)\n",
    "output_data_file = \"output_data/cities.csv\"\n",
    "\n",
    "# Range of latitudes and longitudes\n",
    "lat_range = (-90, 90)\n",
    "lng_range = (-180, 180)"
   ]
  },
  {
   "cell_type": "markdown",
   "metadata": {},
   "source": [
    "## Generate Cities List"
   ]
  },
  {
   "cell_type": "code",
   "execution_count": 3,
   "metadata": {},
   "outputs": [
    {
     "data": {
      "text/plain": [
       "608"
      ]
     },
     "execution_count": 3,
     "metadata": {},
     "output_type": "execute_result"
    }
   ],
   "source": [
    "# List for holding lat_lngs and cities\n",
    "lat_lngs = []\n",
    "cities = []\n",
    "\n",
    "# Create a set of random lat and lng combinations\n",
    "lats = np.random.uniform(lat_range[0], lat_range[1], size=1500)\n",
    "lngs = np.random.uniform(lng_range[0], lng_range[1], size=1500)\n",
    "lat_lngs = zip(lats, lngs)\n",
    "\n",
    "# Identify nearest city for each lat, lng combination\n",
    "for lat_lng in lat_lngs:\n",
    "    city = citipy.nearest_city(lat_lng[0], lat_lng[1]).city_name\n",
    "    \n",
    "    # If the city is unique, then add it to a our cities list\n",
    "    if city not in cities:\n",
    "        cities.append(city)\n",
    "\n",
    "# Print the city count to confirm sufficient count\n",
    "len(cities)"
   ]
  },
  {
   "cell_type": "markdown",
   "metadata": {},
   "source": [
    "### Perform API Calls\n",
    "* Perform a weather check on each city using a series of successive API calls.\n",
    "* Include a print log of each city as it'sbeing processed (with the city number and city name).\n"
   ]
  },
  {
   "cell_type": "code",
   "execution_count": 4,
   "metadata": {
    "scrolled": true
   },
   "outputs": [
    {
     "name": "stdout",
     "output_type": "stream",
     "text": [
      "http://api.openweathermap.org/data/2.5/weather?appid=999fb85742e96c699338def4a2ba44db&units=metric&q=\n"
     ]
    },
    {
     "data": {
      "text/plain": [
       "{'coord': {'lon': 149.1292, 'lat': -35.2813},\n",
       " 'weather': [{'id': 800,\n",
       "   'main': 'Clear',\n",
       "   'description': 'clear sky',\n",
       "   'icon': '01d'}],\n",
       " 'base': 'stations',\n",
       " 'main': {'temp': 20.94,\n",
       "  'feels_like': 17.27,\n",
       "  'temp_min': 20.56,\n",
       "  'temp_max': 21.67,\n",
       "  'pressure': 1013,\n",
       "  'humidity': 35},\n",
       " 'visibility': 10000,\n",
       " 'wind': {'speed': 3.6, 'deg': 260},\n",
       " 'clouds': {'all': 0},\n",
       " 'dt': 1614649549,\n",
       " 'sys': {'type': 1,\n",
       "  'id': 9588,\n",
       "  'country': 'AU',\n",
       "  'sunrise': 1614628259,\n",
       "  'sunset': 1614674444},\n",
       " 'timezone': 39600,\n",
       " 'id': 2172517,\n",
       " 'name': 'City',\n",
       " 'cod': 200}"
      ]
     },
     "execution_count": 4,
     "metadata": {},
     "output_type": "execute_result"
    }
   ],
   "source": [
    "url = \"http://api.openweathermap.org/data/2.5/weather?\"\n",
    "units = \"metric\"\n",
    "\n",
    "query_url=f\"{url}appid={weather_api_key}&units={units}&q=\"\n",
    "print(query_url)\n",
    "\n",
    "response = requests.get(query_url + \"City\").json()\n",
    "response\n",
    "\n"
   ]
  },
  {
   "cell_type": "code",
   "execution_count": 5,
   "metadata": {},
   "outputs": [
    {
     "name": "stdout",
     "output_type": "stream",
     "text": [
      "1 mahebourg\n",
      "2 tuatapere\n",
      "City not found.\n",
      "4 waddan\n",
      "5 aklavik\n",
      "6 hermanus\n",
      "7 maumere\n",
      "8 ginosa\n",
      "City not found.\n",
      "10 butaritari\n",
      "11 purpe\n",
      "City not found.\n",
      "13 gornopravdinsk\n",
      "14 codrington\n",
      "City not found.\n",
      "16 hithadhoo\n",
      "17 albany\n",
      "18 umkomaas\n",
      "19 achutupo\n",
      "20 pacific grove\n",
      "21 evensk\n",
      "22 rikitea\n",
      "23 bredasdorp\n",
      "24 mayo\n",
      "25 banjar\n",
      "26 bluff\n",
      "City not found.\n",
      "28 viedma\n",
      "29 hobart\n",
      "30 indri\n",
      "31 flinders\n",
      "32 faanui\n",
      "33 nikolskoye\n",
      "34 mindelo\n",
      "City not found.\n",
      "36 lompoc\n",
      "37 ostrovnoy\n",
      "38 cape town\n",
      "City not found.\n",
      "40 ahipara\n",
      "41 grants\n",
      "42 vestmannaeyjar\n",
      "43 punta arenas\n",
      "44 mehamn\n",
      "45 vaini\n",
      "46 sault sainte marie\n",
      "47 banda aceh\n",
      "48 teya\n",
      "49 cayenne\n",
      "50 tashara\n",
      "51 pemangkat\n",
      "52 east london\n",
      "53 urubamba\n",
      "54 tokur\n",
      "55 upernavik\n",
      "56 atuona\n",
      "City not found.\n",
      "58 iqaluit\n",
      "59 saint-philippe\n",
      "60 lagoa\n",
      "61 castro\n",
      "62 ushuaia\n",
      "63 juneau\n",
      "64 airai\n",
      "65 fort nelson\n",
      "66 arraial do cabo\n",
      "67 namibe\n",
      "68 ribeira grande\n",
      "69 bontang\n",
      "70 mataura\n",
      "71 nouakchott\n",
      "72 roma\n",
      "73 show low\n",
      "74 port alfred\n",
      "75 bambous virieux\n",
      "76 avarua\n",
      "77 maceio\n",
      "City not found.\n",
      "79 zhigansk\n",
      "80 nago\n",
      "81 narrabri\n",
      "82 saskylakh\n",
      "83 esperance\n",
      "84 grand gaube\n",
      "85 port hedland\n",
      "86 georgetown\n",
      "87 saldanha\n",
      "88 ponta delgada\n",
      "89 guayaramerin\n",
      "90 tasco\n",
      "91 cochrane\n",
      "92 kruisfontein\n",
      "93 gisborne\n",
      "94 trairi\n",
      "95 ancud\n",
      "96 ikalamavony\n",
      "97 margate\n",
      "98 manokwari\n",
      "99 torbay\n",
      "100 wad rawah\n",
      "101 longyearbyen\n",
      "102 auki\n",
      "103 marawi\n",
      "104 nouadhibou\n",
      "105 puerto ayora\n",
      "106 saint george\n",
      "107 hasaki\n",
      "108 khatanga\n",
      "109 san patricio\n",
      "110 salalah\n",
      "111 necochea\n",
      "112 severo-kurilsk\n",
      "113 porto novo\n",
      "114 gazanjyk\n",
      "115 qaanaaq\n",
      "116 jacmel\n",
      "City not found.\n",
      "118 busselton\n",
      "119 telafas\n",
      "120 rocha\n",
      "121 chuy\n",
      "122 kapaa\n",
      "123 walvis bay\n",
      "124 lata\n",
      "125 kahului\n",
      "126 tiksi\n",
      "127 kaitangata\n",
      "128 bethel\n",
      "129 barrow\n",
      "130 fortuna\n",
      "131 harper\n",
      "132 cap malheureux\n",
      "133 yellowknife\n",
      "134 neiafu\n",
      "135 roald\n",
      "136 bata\n",
      "137 boyolangu\n",
      "City not found.\n",
      "139 najran\n",
      "140 mitsamiouli\n",
      "141 nome\n",
      "142 adrar\n",
      "143 ust-uda\n",
      "144 cabo san lucas\n",
      "145 sola\n",
      "146 australind\n",
      "147 aripuana\n",
      "148 bredy\n",
      "149 hambantota\n",
      "150 souillac\n",
      "151 jijiga\n",
      "152 beipiao\n",
      "153 husavik\n",
      "154 anuradhapura\n",
      "155 hinton\n",
      "156 luderitz\n",
      "157 chokurdakh\n",
      "City not found.\n",
      "159 hilo\n",
      "160 new norfolk\n",
      "City not found.\n",
      "162 edd\n",
      "163 cherskiy\n",
      "164 nanortalik\n",
      "165 natal\n",
      "166 sibolga\n",
      "167 sabha\n",
      "168 rio tuba\n",
      "City not found.\n",
      "170 pevek\n",
      "171 baicheng\n",
      "172 ierapetra\n",
      "173 dikson\n",
      "174 puerto colombia\n",
      "175 emba\n",
      "176 kiunga\n",
      "177 sovetskaya gavan\n",
      "178 hofn\n",
      "179 puerto leguizamo\n",
      "180 kutum\n",
      "181 port elizabeth\n",
      "182 naze\n",
      "183 murray bridge\n",
      "184 touros\n",
      "City not found.\n",
      "186 kirakira\n",
      "187 sistranda\n",
      "188 vanimo\n",
      "189 kodiak\n",
      "190 ubauro\n",
      "191 serenje\n",
      "192 provideniya\n",
      "193 sakaiminato\n",
      "194 abha\n",
      "195 chapais\n",
      "196 hamilton\n",
      "197 sitka\n",
      "198 glenwood springs\n",
      "199 lavrentiya\n",
      "200 hervey bay\n",
      "201 mar del plata\n",
      "202 pinas\n",
      "203 pisco\n",
      "204 prescott\n",
      "City not found.\n",
      "206 avera\n",
      "207 gulbarga\n",
      "208 nara\n",
      "209 shaowu\n",
      "210 lermontovka\n",
      "211 ponta do sol\n",
      "212 talara\n",
      "213 fairbanks\n",
      "214 portland\n",
      "215 port hardy\n",
      "216 bongaree\n",
      "City not found.\n",
      "218 goundam\n",
      "219 hualmay\n",
      "220 atasu\n",
      "221 ranghulu\n",
      "222 nyurba\n",
      "223 ulladulla\n",
      "224 banswara\n",
      "225 jamestown\n",
      "226 carnarvon\n",
      "227 yantal\n",
      "228 ustka\n",
      "229 kavieng\n",
      "230 san juan\n",
      "231 fare\n",
      "232 usinsk\n",
      "233 yerbogachen\n",
      "234 udachnyy\n",
      "235 bogoslovka\n",
      "236 moose factory\n",
      "City not found.\n",
      "238 tomatlan\n",
      "239 dalen\n",
      "240 bilma\n",
      "241 skibbereen\n",
      "242 savannakhet\n",
      "243 la reforma\n",
      "244 labuhan\n",
      "245 gambo\n",
      "246 dharchula\n",
      "247 westport\n",
      "248 muroto\n",
      "City not found.\n",
      "250 yulara\n",
      "251 sarangani\n",
      "252 takoradi\n",
      "253 lianzhou\n",
      "254 constitucion\n",
      "255 maputo\n",
      "256 grindavik\n",
      "257 anadyr\n",
      "258 okhotsk\n",
      "259 pringsewu\n",
      "260 rock sound\n",
      "261 flin flon\n",
      "262 cockburn town\n",
      "263 pianoro\n",
      "264 atambua\n",
      "265 mamou\n",
      "266 choma\n",
      "267 bondo\n",
      "268 tasiilaq\n",
      "269 victoria\n",
      "270 talnakh\n",
      "City not found.\n",
      "272 tuktoyaktuk\n",
      "City not found.\n",
      "274 rieti\n",
      "275 mount isa\n",
      "276 nokaneng\n",
      "277 aquiraz\n",
      "278 upington\n",
      "279 gafanha da encarnacao\n",
      "280 coahuayana\n",
      "281 cheney\n",
      "282 karatuzskoye\n",
      "283 carutapera\n",
      "284 port shepstone\n",
      "285 szentkiralyszabadja\n",
      "286 biltine\n",
      "287 planaltina\n",
      "288 dunedin\n",
      "289 thompson\n",
      "290 taltal\n",
      "291 albury\n",
      "292 geraldton\n",
      "293 kavaratti\n",
      "294 cidreira\n",
      "295 pabrade\n",
      "296 sao filipe\n",
      "City not found.\n",
      "298 uzhur\n",
      "299 bathsheba\n",
      "300 rawson\n",
      "301 neuquen\n",
      "302 port augusta\n",
      "303 valparaiso\n",
      "304 tysmenychany\n",
      "305 bilibino\n",
      "306 leningradskiy\n",
      "307 gat\n",
      "308 poya\n",
      "309 koceljeva\n",
      "310 vila franca do campo\n",
      "311 novikovo\n",
      "312 filadelfia\n",
      "313 college\n",
      "314 puksoozero\n",
      "315 uyuni\n",
      "316 dryden\n",
      "City not found.\n",
      "318 djibo\n",
      "319 tilichiki\n",
      "320 oranjemund\n",
      "321 lebu\n",
      "322 sabla\n",
      "323 te anau\n",
      "324 port macquarie\n",
      "325 camacha\n",
      "326 havre-saint-pierre\n",
      "327 chiang klang\n",
      "328 aberystwyth\n",
      "329 kungurtug\n",
      "330 coquimbo\n",
      "331 norman wells\n",
      "332 bandundu\n",
      "333 altay\n",
      "334 petropavlovsk-kamchatskiy\n",
      "335 ailigandi\n",
      "336 lazaro cardenas\n",
      "337 qaqortoq\n",
      "338 omboue\n",
      "339 inuvik\n",
      "340 ghanzi\n",
      "341 alyangula\n",
      "342 biak\n",
      "343 itupiranga\n",
      "344 volkhov\n",
      "345 zhangjiakou\n",
      "City not found.\n",
      "347 naantali\n",
      "348 innisfail\n",
      "City not found.\n",
      "350 igrim\n",
      "351 kawalu\n",
      "352 manyana\n",
      "353 pingxiang\n",
      "354 apahida\n",
      "355 half moon bay\n",
      "356 mantua\n",
      "357 liku\n",
      "358 krasnoselkup\n",
      "359 verkhnyaya toyma\n",
      "360 huejuquilla el alto\n",
      "361 tabou\n",
      "362 black river\n",
      "363 kaeo\n",
      "364 boa vista\n",
      "365 mayumba\n",
      "366 christchurch\n",
      "367 narsaq\n",
      "368 hami\n",
      "369 galle\n",
      "370 ust-tsilma\n",
      "371 marathon\n",
      "372 la mana\n",
      "373 gornyak\n",
      "374 srednekolymsk\n",
      "375 azanka\n",
      "City not found.\n",
      "377 carinhanha\n",
      "378 celestun\n",
      "379 uray\n",
      "380 katherine\n",
      "381 santa luzia\n",
      "382 oporapa\n",
      "383 okoneshnikovo\n",
      "384 dalby\n",
      "385 mbanza-ngungu\n",
      "386 port lincoln\n",
      "City not found.\n",
      "388 madera\n",
      "389 teguldet\n",
      "390 conroe\n",
      "City not found.\n",
      "392 manzil salim\n",
      "393 podyuga\n",
      "City not found.\n",
      "395 staraya stanitsa\n",
      "396 bandiagara\n",
      "397 san quintin\n",
      "398 aykhal\n",
      "399 padang\n",
      "400 yar-sale\n",
      "401 porgera\n",
      "402 casas grandes\n",
      "403 koyelga\n",
      "404 zheleznodorozhnyy\n",
      "405 binga\n",
      "City not found.\n",
      "407 akdepe\n",
      "408 kiruna\n",
      "409 ketchikan\n",
      "410 valdivia\n",
      "411 chalette-sur-loing\n",
      "412 prieska\n",
      "413 laguna\n",
      "414 ouango\n",
      "City not found.\n",
      "416 antakya\n",
      "417 hay river\n",
      "418 pocone\n",
      "419 glendive\n",
      "420 rosetta\n",
      "421 shache\n",
      "422 maniitsoq\n",
      "423 byron bay\n",
      "424 milkovo\n",
      "425 mana\n",
      "426 pouembout\n",
      "427 palora\n",
      "428 awjilah\n",
      "429 murdochville\n",
      "City not found.\n",
      "431 paita\n",
      "City not found.\n",
      "433 quthing\n",
      "434 copiapo\n",
      "435 snezhnogorsk\n",
      "436 santa maria\n",
      "437 gayny\n",
      "438 katsuura\n",
      "439 bengkulu\n",
      "440 okara\n",
      "441 lima\n",
      "442 miles city\n",
      "443 tautira\n",
      "444 vardo\n",
      "445 tazovskiy\n",
      "446 paamiut\n",
      "447 chitose\n",
      "City not found.\n",
      "449 grand-santi\n",
      "450 vao\n",
      "City not found.\n",
      "452 jishui\n",
      "453 dzhebariki-khaya\n",
      "454 coruripe\n",
      "455 guerrero negro\n",
      "456 tongchuan\n",
      "457 jalu\n",
      "458 xichang\n",
      "City not found.\n",
      "460 stillwater\n",
      "461 high rock\n",
      "462 usak\n",
      "463 kamloops\n",
      "City not found.\n",
      "465 ihosy\n",
      "466 pemba\n",
      "467 mackay\n",
      "468 yaan\n",
      "469 qui nhon\n",
      "470 itagi\n",
      "471 cajamarca\n",
      "472 makakilo city\n",
      "473 kalmunai\n",
      "474 henties bay\n",
      "475 broome\n",
      "476 alihe\n",
      "477 scarborough\n",
      "478 klaksvik\n",
      "479 verkhoyansk\n",
      "480 bonnyville\n",
      "City not found.\n",
      "482 beringovskiy\n",
      "483 san cristobal\n",
      "484 turukhansk\n",
      "485 matara\n",
      "486 saint anthony\n",
      "487 san rafael\n",
      "488 alice springs\n",
      "489 rucheng\n",
      "490 contamana\n",
      "City not found.\n",
      "492 buraydah\n",
      "493 emerald\n",
      "494 jardim\n",
      "495 nianzishan\n",
      "496 ushtobe\n",
      "497 englewood\n",
      "498 ambanja\n",
      "499 mercedes\n",
      "500 san jeronimo\n",
      "501 borogontsy\n",
      "City not found.\n",
      "503 palmer\n",
      "City not found.\n",
      "505 saint-joseph\n",
      "506 hirara\n",
      "City not found.\n",
      "508 nemuro\n",
      "509 capaci\n",
      "510 ostersund\n",
      "511 bardiyah\n",
      "512 gweta\n",
      "513 poum\n",
      "514 terney\n",
      "515 puranpur\n",
      "516 amahai\n",
      "517 salyan\n",
      "518 nishihara\n",
      "519 foumban\n",
      "520 vagamo\n",
      "521 belmonte\n",
      "522 astoria\n",
      "City not found.\n",
      "524 raga\n",
      "525 ermoupolis\n",
      "526 ormara\n",
      "527 huadian\n",
      "528 atar\n",
      "529 malatya\n",
      "530 sembakung\n",
      "531 matiri\n",
      "532 coihueco\n",
      "533 pasighat\n",
      "534 lorengau\n",
      "535 siniscola\n",
      "536 davila\n",
      "537 mecca\n",
      "538 hazaribag\n",
      "539 nigde\n",
      "540 la ronge\n",
      "541 bahia blanca\n",
      "542 pavlivka\n",
      "543 barra patuca\n",
      "544 bouca\n",
      "City not found.\n",
      "546 myre\n",
      "547 kapoeta\n",
      "548 abashiri\n",
      "549 canmore\n",
      "550 nyagan\n",
      "551 gbarnga\n",
      "552 umm lajj\n",
      "553 kuryk\n",
      "554 hommelvik\n",
      "555 deputatskiy\n",
      "556 tommot\n",
      "557 rypefjord\n",
      "City not found.\n",
      "559 cienfuegos\n",
      "560 huarmey\n",
      "561 huaraz\n",
      "562 merauke\n",
      "563 bitung\n",
      "564 pimentel\n",
      "565 araucaria\n",
      "566 wewak\n",
      "567 dong hoi\n",
      "568 claveria\n",
      "569 pahrump\n",
      "570 nampula\n",
      "571 leirvik\n",
      "572 nador\n",
      "573 salgar\n",
      "574 red wing\n",
      "City not found.\n",
      "City not found.\n",
      "577 smithers\n",
      "578 vostok\n",
      "579 oktyabrskiy\n",
      "580 honningsvag\n",
      "581 wilmington\n",
      "582 villazon\n",
      "583 santiago\n",
      "584 birao\n",
      "585 honiara\n",
      "586 vestmanna\n",
      "587 bubaque\n",
      "588 ambajogai\n",
      "589 opuwo\n",
      "City not found.\n",
      "591 magaria\n",
      "592 bako\n",
      "593 kenai\n",
      "594 sinnamary\n",
      "595 sur\n",
      "596 sao joao da barra\n",
      "City not found.\n",
      "City not found.\n",
      "599 skegness\n",
      "600 el tigre\n",
      "601 bahia de caraquez\n",
      "602 dhidhdhoo\n",
      "603 batemans bay\n",
      "604 nalut\n",
      "605 piracuruca\n",
      "606 dafeng\n",
      "607 san carlos de bariloche\n",
      "608 natchitoches\n",
      "------------------------------\n",
      "Data Retrieval Complete\n",
      "------------------------------\n"
     ]
    }
   ],
   "source": [
    "data = []\n",
    "counter = 0\n",
    "\n",
    "#For loop\n",
    "for city in cities:\n",
    "    counter=counter+1\n",
    "    \n",
    "    try:\n",
    "        response = requests.get(query_url + city ).json()\n",
    "        temp_max= response[\"main\"][\"temp_max\"]\n",
    "        humidity=response[\"main\"][\"humidity\"]\n",
    "        windspeed=response[\"wind\"][\"speed\"]\n",
    "        cloudy=response[\"clouds\"][\"all\"]\n",
    "        country=response[\"sys\"][\"country\"]\n",
    "        date=response[\"dt\"]\n",
    "        lat=response[\"coord\"][\"lat\"]\n",
    "        lon=response[\"coord\"][\"lon\"]\n",
    "        data.append([date,city, country, lat, lon, temp_max, humidity,windspeed, cloudy])\n",
    "        print(f\"{counter} {city}\")\n",
    "        time.sleep(.2)\n",
    "    except:\n",
    "        print(\"City not found.\")      \n",
    "\n",
    "  \n",
    "print(\"------------------------------\\nData Retrieval Complete\\n------------------------------\")\n"
   ]
  },
  {
   "cell_type": "markdown",
   "metadata": {},
   "source": [
    "### Convert Raw Data to DataFrame\n",
    "* Export the city data into a .csv.\n",
    "* Display the DataFrame"
   ]
  },
  {
   "cell_type": "code",
   "execution_count": 6,
   "metadata": {},
   "outputs": [
    {
     "data": {
      "text/html": [
       "<div>\n",
       "<style scoped>\n",
       "    .dataframe tbody tr th:only-of-type {\n",
       "        vertical-align: middle;\n",
       "    }\n",
       "\n",
       "    .dataframe tbody tr th {\n",
       "        vertical-align: top;\n",
       "    }\n",
       "\n",
       "    .dataframe thead th {\n",
       "        text-align: right;\n",
       "    }\n",
       "</style>\n",
       "<table border=\"1\" class=\"dataframe\">\n",
       "  <thead>\n",
       "    <tr style=\"text-align: right;\">\n",
       "      <th></th>\n",
       "      <th>date</th>\n",
       "      <th>city</th>\n",
       "      <th>country</th>\n",
       "      <th>lat</th>\n",
       "      <th>lon</th>\n",
       "      <th>temp_max</th>\n",
       "      <th>humidity</th>\n",
       "      <th>windspeed</th>\n",
       "      <th>cloudy</th>\n",
       "    </tr>\n",
       "  </thead>\n",
       "  <tbody>\n",
       "    <tr>\n",
       "      <th>0</th>\n",
       "      <td>1614649930</td>\n",
       "      <td>mahebourg</td>\n",
       "      <td>MU</td>\n",
       "      <td>-20.4081</td>\n",
       "      <td>57.7000</td>\n",
       "      <td>26.00</td>\n",
       "      <td>78</td>\n",
       "      <td>3.09</td>\n",
       "      <td>40</td>\n",
       "    </tr>\n",
       "    <tr>\n",
       "      <th>1</th>\n",
       "      <td>1614649930</td>\n",
       "      <td>tuatapere</td>\n",
       "      <td>NZ</td>\n",
       "      <td>-46.1333</td>\n",
       "      <td>167.6833</td>\n",
       "      <td>21.11</td>\n",
       "      <td>78</td>\n",
       "      <td>2.68</td>\n",
       "      <td>100</td>\n",
       "    </tr>\n",
       "    <tr>\n",
       "      <th>2</th>\n",
       "      <td>1614649930</td>\n",
       "      <td>waddan</td>\n",
       "      <td>LY</td>\n",
       "      <td>29.1614</td>\n",
       "      <td>16.1390</td>\n",
       "      <td>10.70</td>\n",
       "      <td>74</td>\n",
       "      <td>3.27</td>\n",
       "      <td>0</td>\n",
       "    </tr>\n",
       "    <tr>\n",
       "      <th>3</th>\n",
       "      <td>1614649931</td>\n",
       "      <td>aklavik</td>\n",
       "      <td>CA</td>\n",
       "      <td>68.2191</td>\n",
       "      <td>-135.0107</td>\n",
       "      <td>-29.00</td>\n",
       "      <td>69</td>\n",
       "      <td>2.57</td>\n",
       "      <td>99</td>\n",
       "    </tr>\n",
       "    <tr>\n",
       "      <th>4</th>\n",
       "      <td>1614649931</td>\n",
       "      <td>hermanus</td>\n",
       "      <td>ZA</td>\n",
       "      <td>-34.4187</td>\n",
       "      <td>19.2345</td>\n",
       "      <td>18.33</td>\n",
       "      <td>89</td>\n",
       "      <td>2.68</td>\n",
       "      <td>0</td>\n",
       "    </tr>\n",
       "    <tr>\n",
       "      <th>...</th>\n",
       "      <td>...</td>\n",
       "      <td>...</td>\n",
       "      <td>...</td>\n",
       "      <td>...</td>\n",
       "      <td>...</td>\n",
       "      <td>...</td>\n",
       "      <td>...</td>\n",
       "      <td>...</td>\n",
       "      <td>...</td>\n",
       "    </tr>\n",
       "    <tr>\n",
       "      <th>553</th>\n",
       "      <td>1614650131</td>\n",
       "      <td>nalut</td>\n",
       "      <td>LY</td>\n",
       "      <td>30.3333</td>\n",
       "      <td>10.8500</td>\n",
       "      <td>11.38</td>\n",
       "      <td>37</td>\n",
       "      <td>6.32</td>\n",
       "      <td>0</td>\n",
       "    </tr>\n",
       "    <tr>\n",
       "      <th>554</th>\n",
       "      <td>1614650132</td>\n",
       "      <td>piracuruca</td>\n",
       "      <td>BR</td>\n",
       "      <td>-3.9281</td>\n",
       "      <td>-41.7092</td>\n",
       "      <td>23.25</td>\n",
       "      <td>93</td>\n",
       "      <td>1.38</td>\n",
       "      <td>100</td>\n",
       "    </tr>\n",
       "    <tr>\n",
       "      <th>555</th>\n",
       "      <td>1614650132</td>\n",
       "      <td>dafeng</td>\n",
       "      <td>CN</td>\n",
       "      <td>23.4517</td>\n",
       "      <td>108.5881</td>\n",
       "      <td>14.19</td>\n",
       "      <td>60</td>\n",
       "      <td>4.86</td>\n",
       "      <td>24</td>\n",
       "    </tr>\n",
       "    <tr>\n",
       "      <th>556</th>\n",
       "      <td>1614650132</td>\n",
       "      <td>san carlos de bariloche</td>\n",
       "      <td>AR</td>\n",
       "      <td>-41.1456</td>\n",
       "      <td>-71.3082</td>\n",
       "      <td>22.00</td>\n",
       "      <td>40</td>\n",
       "      <td>1.54</td>\n",
       "      <td>40</td>\n",
       "    </tr>\n",
       "    <tr>\n",
       "      <th>557</th>\n",
       "      <td>1614650133</td>\n",
       "      <td>natchitoches</td>\n",
       "      <td>US</td>\n",
       "      <td>31.7668</td>\n",
       "      <td>-93.1335</td>\n",
       "      <td>10.00</td>\n",
       "      <td>93</td>\n",
       "      <td>4.63</td>\n",
       "      <td>90</td>\n",
       "    </tr>\n",
       "  </tbody>\n",
       "</table>\n",
       "<p>558 rows × 9 columns</p>\n",
       "</div>"
      ],
      "text/plain": [
       "           date                     city country      lat       lon  temp_max  \\\n",
       "0    1614649930                mahebourg      MU -20.4081   57.7000     26.00   \n",
       "1    1614649930                tuatapere      NZ -46.1333  167.6833     21.11   \n",
       "2    1614649930                   waddan      LY  29.1614   16.1390     10.70   \n",
       "3    1614649931                  aklavik      CA  68.2191 -135.0107    -29.00   \n",
       "4    1614649931                 hermanus      ZA -34.4187   19.2345     18.33   \n",
       "..          ...                      ...     ...      ...       ...       ...   \n",
       "553  1614650131                    nalut      LY  30.3333   10.8500     11.38   \n",
       "554  1614650132               piracuruca      BR  -3.9281  -41.7092     23.25   \n",
       "555  1614650132                   dafeng      CN  23.4517  108.5881     14.19   \n",
       "556  1614650132  san carlos de bariloche      AR -41.1456  -71.3082     22.00   \n",
       "557  1614650133             natchitoches      US  31.7668  -93.1335     10.00   \n",
       "\n",
       "     humidity  windspeed  cloudy  \n",
       "0          78       3.09      40  \n",
       "1          78       2.68     100  \n",
       "2          74       3.27       0  \n",
       "3          69       2.57      99  \n",
       "4          89       2.68       0  \n",
       "..        ...        ...     ...  \n",
       "553        37       6.32       0  \n",
       "554        93       1.38     100  \n",
       "555        60       4.86      24  \n",
       "556        40       1.54      40  \n",
       "557        93       4.63      90  \n",
       "\n",
       "[558 rows x 9 columns]"
      ]
     },
     "execution_count": 6,
     "metadata": {},
     "output_type": "execute_result"
    }
   ],
   "source": [
    "city_df = pd.DataFrame(data,columns=[\"date\",\"city\", \"country\", \"lat\", \"lon\", \"temp_max\", \"humidity\",\"windspeed\", \"cloudy\"])\n",
    "city_df"
   ]
  },
  {
   "cell_type": "markdown",
   "metadata": {},
   "source": [
    "## Inspect the data and remove the cities where the humidity > 100%.\n",
    "----\n",
    "Skip this step if there are no cities that have humidity > 100%. "
   ]
  },
  {
   "cell_type": "code",
   "execution_count": 7,
   "metadata": {},
   "outputs": [
    {
     "data": {
      "text/plain": [
       "Int64Index([], dtype='int64')"
      ]
     },
     "execution_count": 7,
     "metadata": {},
     "output_type": "execute_result"
    }
   ],
   "source": [
    "#  Get the indices of cities that have humidity over 100%.\n",
    "highhumidity = city_df[(city_df[\"humidity\"]>100)].index\n",
    "highhumidity"
   ]
  },
  {
   "cell_type": "code",
   "execution_count": 8,
   "metadata": {},
   "outputs": [
    {
     "data": {
      "text/html": [
       "<div>\n",
       "<style scoped>\n",
       "    .dataframe tbody tr th:only-of-type {\n",
       "        vertical-align: middle;\n",
       "    }\n",
       "\n",
       "    .dataframe tbody tr th {\n",
       "        vertical-align: top;\n",
       "    }\n",
       "\n",
       "    .dataframe thead th {\n",
       "        text-align: right;\n",
       "    }\n",
       "</style>\n",
       "<table border=\"1\" class=\"dataframe\">\n",
       "  <thead>\n",
       "    <tr style=\"text-align: right;\">\n",
       "      <th></th>\n",
       "      <th>date</th>\n",
       "      <th>city</th>\n",
       "      <th>country</th>\n",
       "      <th>lat</th>\n",
       "      <th>lon</th>\n",
       "      <th>temp_max</th>\n",
       "      <th>humidity</th>\n",
       "      <th>windspeed</th>\n",
       "      <th>cloudy</th>\n",
       "    </tr>\n",
       "  </thead>\n",
       "  <tbody>\n",
       "    <tr>\n",
       "      <th>0</th>\n",
       "      <td>1614649930</td>\n",
       "      <td>mahebourg</td>\n",
       "      <td>MU</td>\n",
       "      <td>-20.4081</td>\n",
       "      <td>57.7000</td>\n",
       "      <td>26.00</td>\n",
       "      <td>78</td>\n",
       "      <td>3.09</td>\n",
       "      <td>40</td>\n",
       "    </tr>\n",
       "    <tr>\n",
       "      <th>1</th>\n",
       "      <td>1614649930</td>\n",
       "      <td>tuatapere</td>\n",
       "      <td>NZ</td>\n",
       "      <td>-46.1333</td>\n",
       "      <td>167.6833</td>\n",
       "      <td>21.11</td>\n",
       "      <td>78</td>\n",
       "      <td>2.68</td>\n",
       "      <td>100</td>\n",
       "    </tr>\n",
       "    <tr>\n",
       "      <th>2</th>\n",
       "      <td>1614649930</td>\n",
       "      <td>waddan</td>\n",
       "      <td>LY</td>\n",
       "      <td>29.1614</td>\n",
       "      <td>16.1390</td>\n",
       "      <td>10.70</td>\n",
       "      <td>74</td>\n",
       "      <td>3.27</td>\n",
       "      <td>0</td>\n",
       "    </tr>\n",
       "    <tr>\n",
       "      <th>3</th>\n",
       "      <td>1614649931</td>\n",
       "      <td>aklavik</td>\n",
       "      <td>CA</td>\n",
       "      <td>68.2191</td>\n",
       "      <td>-135.0107</td>\n",
       "      <td>-29.00</td>\n",
       "      <td>69</td>\n",
       "      <td>2.57</td>\n",
       "      <td>99</td>\n",
       "    </tr>\n",
       "    <tr>\n",
       "      <th>4</th>\n",
       "      <td>1614649931</td>\n",
       "      <td>hermanus</td>\n",
       "      <td>ZA</td>\n",
       "      <td>-34.4187</td>\n",
       "      <td>19.2345</td>\n",
       "      <td>18.33</td>\n",
       "      <td>89</td>\n",
       "      <td>2.68</td>\n",
       "      <td>0</td>\n",
       "    </tr>\n",
       "    <tr>\n",
       "      <th>...</th>\n",
       "      <td>...</td>\n",
       "      <td>...</td>\n",
       "      <td>...</td>\n",
       "      <td>...</td>\n",
       "      <td>...</td>\n",
       "      <td>...</td>\n",
       "      <td>...</td>\n",
       "      <td>...</td>\n",
       "      <td>...</td>\n",
       "    </tr>\n",
       "    <tr>\n",
       "      <th>553</th>\n",
       "      <td>1614650131</td>\n",
       "      <td>nalut</td>\n",
       "      <td>LY</td>\n",
       "      <td>30.3333</td>\n",
       "      <td>10.8500</td>\n",
       "      <td>11.38</td>\n",
       "      <td>37</td>\n",
       "      <td>6.32</td>\n",
       "      <td>0</td>\n",
       "    </tr>\n",
       "    <tr>\n",
       "      <th>554</th>\n",
       "      <td>1614650132</td>\n",
       "      <td>piracuruca</td>\n",
       "      <td>BR</td>\n",
       "      <td>-3.9281</td>\n",
       "      <td>-41.7092</td>\n",
       "      <td>23.25</td>\n",
       "      <td>93</td>\n",
       "      <td>1.38</td>\n",
       "      <td>100</td>\n",
       "    </tr>\n",
       "    <tr>\n",
       "      <th>555</th>\n",
       "      <td>1614650132</td>\n",
       "      <td>dafeng</td>\n",
       "      <td>CN</td>\n",
       "      <td>23.4517</td>\n",
       "      <td>108.5881</td>\n",
       "      <td>14.19</td>\n",
       "      <td>60</td>\n",
       "      <td>4.86</td>\n",
       "      <td>24</td>\n",
       "    </tr>\n",
       "    <tr>\n",
       "      <th>556</th>\n",
       "      <td>1614650132</td>\n",
       "      <td>san carlos de bariloche</td>\n",
       "      <td>AR</td>\n",
       "      <td>-41.1456</td>\n",
       "      <td>-71.3082</td>\n",
       "      <td>22.00</td>\n",
       "      <td>40</td>\n",
       "      <td>1.54</td>\n",
       "      <td>40</td>\n",
       "    </tr>\n",
       "    <tr>\n",
       "      <th>557</th>\n",
       "      <td>1614650133</td>\n",
       "      <td>natchitoches</td>\n",
       "      <td>US</td>\n",
       "      <td>31.7668</td>\n",
       "      <td>-93.1335</td>\n",
       "      <td>10.00</td>\n",
       "      <td>93</td>\n",
       "      <td>4.63</td>\n",
       "      <td>90</td>\n",
       "    </tr>\n",
       "  </tbody>\n",
       "</table>\n",
       "<p>558 rows × 9 columns</p>\n",
       "</div>"
      ],
      "text/plain": [
       "           date                     city country      lat       lon  temp_max  \\\n",
       "0    1614649930                mahebourg      MU -20.4081   57.7000     26.00   \n",
       "1    1614649930                tuatapere      NZ -46.1333  167.6833     21.11   \n",
       "2    1614649930                   waddan      LY  29.1614   16.1390     10.70   \n",
       "3    1614649931                  aklavik      CA  68.2191 -135.0107    -29.00   \n",
       "4    1614649931                 hermanus      ZA -34.4187   19.2345     18.33   \n",
       "..          ...                      ...     ...      ...       ...       ...   \n",
       "553  1614650131                    nalut      LY  30.3333   10.8500     11.38   \n",
       "554  1614650132               piracuruca      BR  -3.9281  -41.7092     23.25   \n",
       "555  1614650132                   dafeng      CN  23.4517  108.5881     14.19   \n",
       "556  1614650132  san carlos de bariloche      AR -41.1456  -71.3082     22.00   \n",
       "557  1614650133             natchitoches      US  31.7668  -93.1335     10.00   \n",
       "\n",
       "     humidity  windspeed  cloudy  \n",
       "0          78       3.09      40  \n",
       "1          78       2.68     100  \n",
       "2          74       3.27       0  \n",
       "3          69       2.57      99  \n",
       "4          89       2.68       0  \n",
       "..        ...        ...     ...  \n",
       "553        37       6.32       0  \n",
       "554        93       1.38     100  \n",
       "555        60       4.86      24  \n",
       "556        40       1.54      40  \n",
       "557        93       4.63      90  \n",
       "\n",
       "[558 rows x 9 columns]"
      ]
     },
     "execution_count": 8,
     "metadata": {},
     "output_type": "execute_result"
    }
   ],
   "source": [
    "# Make a new DataFrame equal to the city data to drop all humidity outliers by index.\n",
    "# Passing \"inplace=False\" will make a copy of the city_data DataFrame, which we call \"clean_city_data\".\n",
    "\n",
    "cleancity_df=city_df.drop(highhumidity, inplace=False)\n",
    "cleancity_df\n"
   ]
  },
  {
   "cell_type": "markdown",
   "metadata": {},
   "source": [
    "## Plotting the Data\n",
    "* Use proper labeling of the plots using plot titles (including date of analysis) and axes labels.\n",
    "* Save the plotted figures as .pngs."
   ]
  },
  {
   "cell_type": "markdown",
   "metadata": {},
   "source": [
    "## Latitude vs. Temperature Plot"
   ]
  },
  {
   "cell_type": "code",
   "execution_count": 9,
   "metadata": {
    "scrolled": true
   },
   "outputs": [
    {
     "data": {
      "image/png": "[encoded data removed]",
      "text/plain": [
       "<Figure size 432x288 with 1 Axes>"
      ]
     },
     "metadata": {
      "needs_background": "light"
     },
     "output_type": "display_data"
    }
   ],
   "source": [
    "plt.scatter(cleancity_df[\"lat\"],cleancity_df[\"temp_max\"], marker=\"o\", color=\"lightblue\",edgecolor=\"black\")\n",
    "plt.title(\"Temperature in Cities\")\n",
    "plt.ylabel(\"Temperature\")\n",
    "plt.xlabel(\"Latitude\")\n",
    "plt.grid(True)\n",
    "\n",
    "#printpng\n",
    "plt.savefig(\"Temp_in_cities.png\")"
   ]
  },
  {
   "cell_type": "markdown",
   "metadata": {},
   "source": [
    "## Latitude vs. Humidity Plot"
   ]
  },
  {
   "cell_type": "code",
   "execution_count": 10,
   "metadata": {},
   "outputs": [
    {
     "data": {
      "image/png": "[encoded data removed]",
      "text/plain": [
       "<Figure size 432x288 with 1 Axes>"
      ]
     },
     "metadata": {
      "needs_background": "light"
     },
     "output_type": "display_data"
    }
   ],
   "source": [
    "plt.scatter(cleancity_df[\"lat\"],cleancity_df[\"humidity\"], marker=\"o\", color=\"lightblue\",edgecolor=\"black\")\n",
    "plt.title(\"Humidity in Cities\")\n",
    "plt.ylabel(\"Humidity (%)\")\n",
    "plt.xlabel(\"Latitude\")\n",
    "plt.ylim(min(cleancity_df[\"humidity\"])-10,max(cleancity_df[\"humidity\"])+10)\n",
    "plt.grid(True)\n",
    "\n",
    "\n",
    "\n",
    "#printpng\n",
    "\n",
    "plt.savefig(\"Humid_in_cities.png\")\n",
    "\n"
   ]
  },
  {
   "cell_type": "markdown",
   "metadata": {},
   "source": [
    "## Latitude vs. Cloudiness Plot"
   ]
  },
  {
   "cell_type": "code",
   "execution_count": 11,
   "metadata": {},
   "outputs": [
    {
     "data": {
      "image/png": "[encoded data removed]",
      "text/plain": [
       "<Figure size 432x288 with 1 Axes>"
      ]
     },
     "metadata": {
      "needs_background": "light"
     },
     "output_type": "display_data"
    }
   ],
   "source": [
    "plt.scatter(cleancity_df[\"lat\"],cleancity_df[\"cloudy\"], marker=\"o\", color=\"lightblue\",edgecolor=\"black\")\n",
    "plt.title(\"Cloudiness in Cities\")\n",
    "plt.ylabel(\"Cloudiness (%)\")\n",
    "plt.xlabel(\"Latitude\")\n",
    "plt.grid(True)\n",
    "\n",
    "\n",
    "\n",
    "#printpng\n",
    "\n",
    "plt.savefig(\"Cloudy_in_cities.png\")\n"
   ]
  },
  {
   "cell_type": "markdown",
   "metadata": {},
   "source": [
    "## Latitude vs. Wind Speed Plot"
   ]
  },
  {
   "cell_type": "code",
   "execution_count": 12,
   "metadata": {},
   "outputs": [
    {
     "data": {
      "image/png": "[encoded data removed]",
      "text/plain": [
       "<Figure size 432x288 with 1 Axes>"
      ]
     },
     "metadata": {
      "needs_background": "light"
     },
     "output_type": "display_data"
    }
   ],
   "source": [
    "plt.scatter(cleancity_df[\"lat\"],cleancity_df[\"windspeed\"], marker=\"o\", color=\"lightblue\",edgecolor=\"black\")\n",
    "plt.title(\"Windspeed in Cities\")\n",
    "plt.ylabel(\"Windspeed (mph)\")\n",
    "plt.xlabel(\"Latitude\")\n",
    "plt.grid(True)\n",
    "\n",
    "\n",
    "#printpng\n",
    "\n",
    "plt.savefig(\"Windy_in_cities.png\")\n"
   ]
  },
  {
   "cell_type": "markdown",
   "metadata": {},
   "source": [
    "Observation of Scatter Plots\n",
    "\n"
   ]
  },
  {
   "cell_type": "markdown",
   "metadata": {},
   "source": [
    "## Linear Regression"
   ]
  },
  {
   "cell_type": "code",
   "execution_count": 13,
   "metadata": {},
   "outputs": [],
   "source": [
    "northernhem=cleancity_df.loc[cleancity_df[\"lat\"]>=0]\n",
    "southernhem=cleancity_df.loc[cleancity_df[\"lat\"]<=0]"
   ]
  },
  {
   "cell_type": "markdown",
   "metadata": {},
   "source": [
    "####  Northern Hemisphere - Max Temp vs. Latitude Linear Regression"
   ]
  },
  {
   "cell_type": "code",
   "execution_count": 14,
   "metadata": {},
   "outputs": [
    {
     "name": "stdout",
     "output_type": "stream",
     "text": [
      "The r-squared is: 0.7389631309696443\n"
     ]
    },
    {
     "data": {
      "image/png": "[encoded data removed]",
      "text/plain": [
       "<Figure size 432x288 with 1 Axes>"
      ]
     },
     "metadata": {
      "needs_background": "light"
     },
     "output_type": "display_data"
    }
   ],
   "source": [
    "x_values = northernhem[\"lat\"]\n",
    "y_values = northernhem[\"temp_max\"]\n",
    "(slope, intercept, rvalue, pvalue, stderr) = linregress(x_values, y_values)\n",
    "\n",
    "regress_values = x_values * slope + intercept\n",
    "\n",
    "line_eq= f\"y = {round(slope, 2)} x + {round(intercept, 2)}\"\n",
    "\n",
    "plt.scatter(x_values,y_values)\n",
    "plt.plot(x_values,regress_values,\"r-\")\n",
    "plt.annotate(line_eq,(40,30),fontsize=15)\n",
    "plt.title(\"Northern Hemisphere - Temperature vs. Latitude\")\n",
    "plt.xlabel(\"Latitude\")\n",
    "plt.ylabel(\"Temperature\")\n",
    "print(f\"The r-squared is: {rvalue**2}\")\n",
    "plt.show()"
   ]
  },
  {
   "cell_type": "markdown",
   "metadata": {},
   "source": [
    "####  Southern Hemisphere - Max Temp vs. Latitude Linear Regression"
   ]
  },
  {
   "cell_type": "code",
   "execution_count": 15,
   "metadata": {},
   "outputs": [
    {
     "name": "stdout",
     "output_type": "stream",
     "text": [
      "The r-squared is: 0.11172049672366596\n"
     ]
    },
    {
     "data": {
      "image/png": "[encoded data removed]",
      "text/plain": [
       "<Figure size 432x288 with 1 Axes>"
      ]
     },
     "metadata": {
      "needs_background": "light"
     },
     "output_type": "display_data"
    }
   ],
   "source": [
    "x_values = southernhem[\"lat\"]\n",
    "y_values = southernhem[\"temp_max\"]\n",
    "(slope, intercept, rvalue, pvalue, stderr) = linregress(x_values, y_values)\n",
    "\n",
    "regress_values = x_values * slope + intercept\n",
    "\n",
    "line_eq= f\"y = {round(slope, 2)} x + {round(intercept, 2)}\"\n",
    "\n",
    "plt.scatter(x_values,y_values)\n",
    "plt.plot(x_values,regress_values,\"r-\")\n",
    "plt.annotate(line_eq,(-30,12),fontsize=15)\n",
    "plt.title(\"Southern Hemisphere - Temperature vs. Latitude\")\n",
    "plt.xlabel(\"Latitude\")\n",
    "plt.ylabel(\"Temperature\")\n",
    "print(f\"The r-squared is: {rvalue**2}\")\n",
    "plt.show()"
   ]
  },
  {
   "cell_type": "markdown",
   "metadata": {},
   "source": [
    "####  Northern Hemisphere - Humidity (%) vs. Latitude Linear Regression"
   ]
  },
  {
   "cell_type": "code",
   "execution_count": 16,
   "metadata": {},
   "outputs": [
    {
     "name": "stdout",
     "output_type": "stream",
     "text": [
      "The r-squared is: 0.11033836730255625\n"
     ]
    },
    {
     "data": {
      "image/png": "[encoded data removed]",
      "text/plain": [
       "<Figure size 432x288 with 1 Axes>"
      ]
     },
     "metadata": {
      "needs_background": "light"
     },
     "output_type": "display_data"
    }
   ],
   "source": [
    "x_values = northernhem[\"lat\"]\n",
    "y_values = northernhem[\"humidity\"]\n",
    "(slope, intercept, rvalue, pvalue, stderr) = linregress(x_values, y_values)\n",
    "\n",
    "regress_values = x_values * slope + intercept\n",
    "\n",
    "line_eq= f\"y = {round(slope, 2)} x + {round(intercept, 2)}\"\n",
    "\n",
    "plt.scatter(x_values,y_values)\n",
    "plt.plot(x_values,regress_values,\"r-\")\n",
    "plt.annotate(line_eq,(40,20),fontsize=15)\n",
    "plt.title(\"Northern Hemisphere - Humidity vs. Latitude\")\n",
    "plt.xlabel(\"Latitude\")\n",
    "plt.ylabel(\"Humidity (%)\")\n",
    "print(f\"The r-squared is: {rvalue**2}\")\n",
    "plt.show()\n"
   ]
  },
  {
   "cell_type": "markdown",
   "metadata": {},
   "source": [
    "Observation of Temperature\n"
   ]
  },
  {
   "cell_type": "markdown",
   "metadata": {},
   "source": [
    "####  Southern Hemisphere - Humidity (%) vs. Latitude Linear Regression"
   ]
  },
  {
   "cell_type": "code",
   "execution_count": 17,
   "metadata": {},
   "outputs": [
    {
     "name": "stdout",
     "output_type": "stream",
     "text": [
      "The r-squared is: 0.06709979033143093\n"
     ]
    },
    {
     "data": {
      "image/png": "[encoded data removed]",
      "text/plain": [
       "<Figure size 432x288 with 1 Axes>"
      ]
     },
     "metadata": {
      "needs_background": "light"
     },
     "output_type": "display_data"
    },
    {
     "name": "stdout",
     "output_type": "stream",
     "text": [
      "The r-squared is: 0.06709979033143093\n"
     ]
    }
   ],
   "source": [
    "x_values = southernhem[\"lat\"]\n",
    "y_values = southernhem[\"humidity\"]\n",
    "(slope, intercept, rvalue, pvalue, stderr) = linregress(x_values, y_values)\n",
    "\n",
    "regress_values = x_values * slope + intercept\n",
    "\n",
    "line_eq= f\"y = {round(slope, 2)} x + {round(intercept, 2)}\"\n",
    "\n",
    "plt.scatter(x_values,y_values)\n",
    "plt.plot(x_values,regress_values,\"r-\")\n",
    "plt.annotate(line_eq,(-25,30),fontsize=15)\n",
    "plt.title(\"Southern Hemisphere - Humidity vs. Latitude\")\n",
    "plt.xlabel(\"Latitude\")\n",
    "plt.ylabel(\"Humidity (%)\")\n",
    "print(f\"The r-squared is: {rvalue**2}\")\n",
    "plt.show()\n",
    "\n",
    "print(f\"The r-squared is: {rvalue**2}\")\n",
    "plt.show()"
   ]
  },
  {
   "cell_type": "markdown",
   "metadata": {},
   "source": [
    "Observation of Humidity\n",
    "\n"
   ]
  },
  {
   "cell_type": "markdown",
   "metadata": {},
   "source": [
    "####  Northern Hemisphere - Cloudiness (%) vs. Latitude Linear Regression"
   ]
  },
  {
   "cell_type": "code",
   "execution_count": 18,
   "metadata": {},
   "outputs": [
    {
     "name": "stdout",
     "output_type": "stream",
     "text": [
      "The r-squared is: 0.1118567731563914\n"
     ]
    },
    {
     "data": {
      "image/png": "[encoded data removed]",
      "text/plain": [
       "<Figure size 432x288 with 1 Axes>"
      ]
     },
     "metadata": {
      "needs_background": "light"
     },
     "output_type": "display_data"
    }
   ],
   "source": [
    "x_values = northernhem[\"lat\"]\n",
    "y_values = northernhem[\"cloudy\"]\n",
    "(slope, intercept, rvalue, pvalue, stderr) = linregress(x_values, y_values)\n",
    "\n",
    "regress_values = x_values * slope + intercept\n",
    "\n",
    "line_eq= f\"y = {round(slope, 2)} x + {round(intercept, 2)}\"\n",
    "\n",
    "plt.scatter(x_values,y_values)\n",
    "plt.plot(x_values,regress_values,\"r-\")\n",
    "plt.annotate(line_eq,(30,60),fontsize=10)\n",
    "plt.title(\"Northern Hemisphere - Cloudiness vs. Latitude\")\n",
    "plt.xlabel(\"Latitude\")\n",
    "plt.ylabel(\"Cloudiness (%)\")\n",
    "print(f\"The r-squared is: {rvalue**2}\")\n",
    "plt.show()\n"
   ]
  },
  {
   "cell_type": "markdown",
   "metadata": {},
   "source": [
    "####  Southern Hemisphere - Cloudiness (%) vs. Latitude Linear Regression"
   ]
  },
  {
   "cell_type": "code",
   "execution_count": 19,
   "metadata": {},
   "outputs": [
    {
     "name": "stdout",
     "output_type": "stream",
     "text": [
      "The r-squared is: 0.08338704917723952\n"
     ]
    },
    {
     "data": {
      "image/png": "[encoded data removed]",
      "text/plain": [
       "<Figure size 432x288 with 1 Axes>"
      ]
     },
     "metadata": {
      "needs_background": "light"
     },
     "output_type": "display_data"
    }
   ],
   "source": [
    "x_values = southernhem[\"lat\"]\n",
    "y_values = southernhem[\"cloudy\"]\n",
    "(slope, intercept, rvalue, pvalue, stderr) = linregress(x_values, y_values)\n",
    "\n",
    "regress_values = x_values * slope + intercept\n",
    "\n",
    "line_eq= f\"y = {round(slope, 2)} x + {round(intercept, 2)}\"\n",
    "\n",
    "plt.scatter(x_values,y_values)\n",
    "plt.plot(x_values,regress_values,\"r-\")\n",
    "plt.annotate(line_eq,(-55,50),fontsize=10)\n",
    "plt.title(\"Southern Hemisphere - Cloudiness vs. Latitude\")\n",
    "plt.xlabel(\"Latitude\")\n",
    "plt.ylabel(\"Cloudiness (%)\")\n",
    "print(f\"The r-squared is: {rvalue**2}\")\n",
    "plt.show()"
   ]
  },
  {
   "cell_type": "markdown",
   "metadata": {},
   "source": [
    "Observation of Cloudiness"
   ]
  },
  {
   "cell_type": "markdown",
   "metadata": {},
   "source": [
    "####  Northern Hemisphere - Wind Speed (mph) vs. Latitude Linear Regression"
   ]
  },
  {
   "cell_type": "code",
   "execution_count": 20,
   "metadata": {},
   "outputs": [
    {
     "name": "stdout",
     "output_type": "stream",
     "text": [
      "The r-squared is: 0.014299441412331308\n"
     ]
    },
    {
     "data": {
      "image/png": "[encoded data removed]",
      "text/plain": [
       "<Figure size 432x288 with 1 Axes>"
      ]
     },
     "metadata": {
      "needs_background": "light"
     },
     "output_type": "display_data"
    }
   ],
   "source": [
    "x_values = northernhem[\"lat\"]\n",
    "y_values = northernhem[\"windspeed\"]\n",
    "(slope, intercept, rvalue, pvalue, stderr) = linregress(x_values, y_values)\n",
    "\n",
    "regress_values = x_values * slope + intercept\n",
    "\n",
    "line_eq= f\"y = {round(slope, 2)} x + {round(intercept, 2)}\"\n",
    "\n",
    "plt.scatter(x_values,y_values)\n",
    "plt.plot(x_values,regress_values,\"r-\")\n",
    "plt.annotate(line_eq,(0,15),fontsize=15)\n",
    "plt.title(\"Northern Hemisphere - Windspeed vs. Latitude\")\n",
    "plt.xlabel(\"Latitude\")\n",
    "plt.ylabel(\"Windspeed(mph)\")\n",
    "print(f\"The r-squared is: {rvalue**2}\")\n",
    "plt.show()"
   ]
  },
  {
   "cell_type": "markdown",
   "metadata": {},
   "source": [
    "####  Southern Hemisphere - Wind Speed (mph) vs. Latitude Linear Regression"
   ]
  },
  {
   "cell_type": "code",
   "execution_count": 21,
   "metadata": {},
   "outputs": [
    {
     "name": "stdout",
     "output_type": "stream",
     "text": [
      "The r-squared is: 0.0734065908870531\n"
     ]
    },
    {
     "data": {
      "image/png": "[encoded data removed]",
      "text/plain": [
       "<Figure size 432x288 with 1 Axes>"
      ]
     },
     "metadata": {
      "needs_background": "light"
     },
     "output_type": "display_data"
    }
   ],
   "source": [
    "x_values = southernhem[\"lat\"]\n",
    "y_values = southernhem[\"windspeed\"]\n",
    "(slope, intercept, rvalue, pvalue, stderr) = linregress(x_values, y_values)\n",
    "\n",
    "regress_values = x_values * slope + intercept\n",
    "\n",
    "line_eq= f\"y = {round(slope, 2)} x + {round(intercept, 2)}\"\n",
    "\n",
    "plt.scatter(x_values,y_values)\n",
    "plt.plot(x_values,regress_values,\"r-\")\n",
    "plt.annotate(line_eq,(-25,9),fontsize=15)\n",
    "plt.title(\"Southern Hemisphere - Windspeed vs. Latitude\")\n",
    "plt.xlabel(\"Latitude\")\n",
    "plt.ylabel(\"Windspeed(mph)\")\n",
    "print(f\"The r-squared is: {rvalue**2}\")\n",
    "plt.show()"
   ]
  },
  {
   "cell_type": "markdown",
   "metadata": {},
   "source": [
    "Observation of Windspeed\n",
    "\n"
   ]
  }
 ],
 "metadata": {
  "anaconda-cloud": {},
  "kernel_info": {
   "name": "python3"
  },
  "kernelspec": {
   "display_name": "Python 3",
   "language": "python",
   "name": "python3"
  },
  "language_info": {
   "codemirror_mode": {
    "name": "ipython",
    "version": 3
   },
   "file_extension": ".py",
   "mimetype": "text/x-python",
   "name": "python",
   "nbconvert_exporter": "python",
   "pygments_lexer": "ipython3",
   "version": "3.8.5"
  },
  "latex_envs": {
   "LaTeX_envs_menu_present": true,
   "autoclose": false,
   "autocomplete": true,
   "bibliofile": "biblio.bib",
   "cite_by": "apalike",
   "current_citInitial": 1,
   "eqLabelWithNumbers": true,
   "eqNumInitial": 1,
   "hotkeys": {
    "equation": "Ctrl-E",
    "itemize": "Ctrl-I"
   },
   "labels_anchors": false,
   "latex_user_defs": false,
   "report_style_numbering": false,
   "user_envs_cfg": false
  },
  "nteract": {
   "version": "0.12.3"
  }
 },
 "nbformat": 4,
 "nbformat_minor": 2
}
