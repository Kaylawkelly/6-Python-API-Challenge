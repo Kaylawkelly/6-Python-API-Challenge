{
 "cells": [
  {
   "cell_type": "code",
   "execution_count": 1,
   "metadata": {},
   "outputs": [],
   "source": [
    "#pip install citipy"
   ]
  },
  {
   "cell_type": "markdown",
   "metadata": {},
   "source": [
    "# WeatherPy\n",
    "----\n",
    "\n",
    "#### Note\n",
    "* Instructions have been included for each segment. You do not have to follow them exactly, but they are included to help you think through the steps."
   ]
  },
  {
   "cell_type": "code",
   "execution_count": 2,
   "metadata": {
    "scrolled": true
   },
   "outputs": [],
   "source": [
    "# Dependencies and Setup\n",
    "import matplotlib.pyplot as plt\n",
    "import pandas as pd\n",
    "import numpy as np\n",
    "import requests\n",
    "import time\n",
    "from scipy.stats import linregress\n",
    "\n",
    "# Import API key\n",
    "from api_keys import weather_api_key\n",
    "\n",
    "# Incorporated citipy to determine city based on latitude and longitude\n",
    "from citipy import citipy\n",
    "\n",
    "# Output File (CSV)\n",
    "output_data_file = \"output_data/cities.csv\"\n",
    "\n",
    "# Range of latitudes and longitudes\n",
    "lat_range = (-90, 90)\n",
    "lng_range = (-180, 180)"
   ]
  },
  {
   "cell_type": "markdown",
   "metadata": {},
   "source": [
    "## Generate Cities List"
   ]
  },
  {
   "cell_type": "code",
   "execution_count": 3,
   "metadata": {},
   "outputs": [
    {
     "data": {
      "text/plain": [
       "613"
      ]
     },
     "execution_count": 3,
     "metadata": {},
     "output_type": "execute_result"
    }
   ],
   "source": [
    "# List for holding lat_lngs and cities\n",
    "lat_lngs = []\n",
    "cities = []\n",
    "\n",
    "# Create a set of random lat and lng combinations\n",
    "lats = np.random.uniform(lat_range[0], lat_range[1], size=1500)\n",
    "lngs = np.random.uniform(lng_range[0], lng_range[1], size=1500)\n",
    "lat_lngs = zip(lats, lngs)\n",
    "\n",
    "# Identify nearest city for each lat, lng combination\n",
    "for lat_lng in lat_lngs:\n",
    "    city = citipy.nearest_city(lat_lng[0], lat_lng[1]).city_name\n",
    "    \n",
    "    # If the city is unique, then add it to a our cities list\n",
    "    if city not in cities:\n",
    "        cities.append(city)\n",
    "\n",
    "# Print the city count to confirm sufficient count\n",
    "len(cities)"
   ]
  },
  {
   "cell_type": "markdown",
   "metadata": {},
   "source": [
    "### Perform API Calls\n",
    "* Perform a weather check on each city using a series of successive API calls.\n",
    "* Include a print log of each city as it'sbeing processed (with the city number and city name).\n"
   ]
  },
  {
   "cell_type": "code",
   "execution_count": 4,
   "metadata": {
    "scrolled": true
   },
   "outputs": [
    {
     "name": "stdout",
     "output_type": "stream",
     "text": [
      "http://api.openweathermap.org/data/2.5/weather?appid=999fb85742e96c699338def4a2ba44db&units=metric&q=\n"
     ]
    },
    {
     "data": {
      "text/plain": [
       "{'coord': {'lon': -74.006, 'lat': 40.7143},\n",
       " 'weather': [{'id': 803,\n",
       "   'main': 'Clouds',\n",
       "   'description': 'broken clouds',\n",
       "   'icon': '04d'}],\n",
       " 'base': 'stations',\n",
       " 'main': {'temp': 5.96,\n",
       "  'feels_like': -0.21,\n",
       "  'temp_min': 4.44,\n",
       "  'temp_max': 7.22,\n",
       "  'pressure': 1026,\n",
       "  'humidity': 70},\n",
       " 'visibility': 10000,\n",
       " 'wind': {'speed': 6.17, 'deg': 50},\n",
       " 'clouds': {'all': 75},\n",
       " 'dt': 1614530671,\n",
       " 'sys': {'type': 1,\n",
       "  'id': 4610,\n",
       "  'country': 'US',\n",
       "  'sunrise': 1614511880,\n",
       "  'sunset': 1614552361},\n",
       " 'timezone': -18000,\n",
       " 'id': 5128581,\n",
       " 'name': 'New York',\n",
       " 'cod': 200}"
      ]
     },
     "execution_count": 4,
     "metadata": {},
     "output_type": "execute_result"
    }
   ],
   "source": [
    "url = \"http://api.openweathermap.org/data/2.5/weather?\"\n",
    "units = \"metric\"\n",
    "\n",
    "query_url=f\"{url}appid={weather_api_key}&units={units}&q=\"\n",
    "print(query_url)\n",
    "\n",
    "response = requests.get(query_url + \"New York City\").json()\n",
    "response\n",
    "\n"
   ]
  },
  {
   "cell_type": "code",
   "execution_count": 5,
   "metadata": {},
   "outputs": [
    {
     "name": "stdout",
     "output_type": "stream",
     "text": [
      "1 bredasdorp\n",
      "2 bambous virieux\n",
      "3 dukhovnitskoye\n",
      "4 royan\n",
      "5 ushuaia\n",
      "City not found.\n",
      "City not found.\n",
      "8 tabora\n",
      "9 punta arenas\n",
      "10 huilong\n",
      "11 beringovskiy\n",
      "12 nikolskoye\n",
      "13 peniche\n",
      "14 esperantinopolis\n",
      "15 hilo\n",
      "16 yarensk\n",
      "17 vostok\n",
      "18 arraial do cabo\n",
      "19 katakwi\n",
      "20 gambela\n",
      "21 cabo san lucas\n",
      "22 ponta do sol\n",
      "23 rikitea\n",
      "24 port hardy\n",
      "25 barrow\n",
      "26 shintomi\n",
      "27 muhororo\n",
      "28 albany\n",
      "29 yellowknife\n",
      "30 nelson bay\n",
      "31 qaanaaq\n",
      "32 fort nelson\n",
      "33 sfantu gheorghe\n",
      "34 quang ngai\n",
      "35 bluff\n",
      "36 cururupu\n",
      "37 cherskiy\n",
      "38 yulara\n",
      "City not found.\n",
      "40 alexandria\n",
      "41 vaini\n",
      "42 cartagena\n",
      "43 hobart\n",
      "44 atuona\n",
      "45 puerto ayora\n",
      "City not found.\n",
      "47 east london\n",
      "48 kirya\n",
      "49 henties bay\n",
      "50 amazar\n",
      "51 mataura\n",
      "52 khatanga\n",
      "53 carnarvon\n",
      "54 hermanus\n",
      "55 santa cruz\n",
      "56 tomakomai\n",
      "57 altay\n",
      "58 cayenne\n",
      "59 krasnoselkup\n",
      "60 baymak\n",
      "61 bethel\n",
      "62 busselton\n",
      "63 tazovskiy\n",
      "64 cap malheureux\n",
      "65 plettenberg bay\n",
      "66 port alfred\n",
      "67 hearst\n",
      "68 uyemskiy\n",
      "69 kodiak\n",
      "City not found.\n",
      "71 kapaa\n",
      "72 songkhla\n",
      "73 saldanha\n",
      "74 port elizabeth\n",
      "75 victoria\n",
      "76 ariquemes\n",
      "77 verkhnyaya inta\n",
      "78 lodja\n",
      "79 matiri\n",
      "City not found.\n",
      "81 arvika\n",
      "82 esperance\n",
      "83 talnakh\n",
      "84 uvat\n",
      "85 mahebourg\n",
      "86 ilulissat\n",
      "87 saskylakh\n",
      "88 new norfolk\n",
      "89 bo phloi\n",
      "90 port lincoln\n",
      "91 butaritari\n",
      "92 kruisfontein\n",
      "93 boende\n",
      "94 port keats\n",
      "95 taldan\n",
      "96 rincon\n",
      "97 bara\n",
      "98 flinders\n",
      "99 chapais\n",
      "100 mlalo\n",
      "101 gayny\n",
      "102 panguipulli\n",
      "103 vanavara\n",
      "104 kaeo\n",
      "City not found.\n",
      "106 parlakimidi\n",
      "107 longyearbyen\n",
      "108 margate\n",
      "109 cottage grove\n",
      "110 omsukchan\n",
      "111 praia\n",
      "112 hithadhoo\n",
      "City not found.\n",
      "114 grindavik\n",
      "City not found.\n",
      "City not found.\n",
      "117 ribeira grande\n",
      "118 avarua\n",
      "119 gold coast\n",
      "120 orlik\n",
      "121 aripuana\n",
      "122 srednekolymsk\n",
      "123 buchanan\n",
      "124 tiksi\n",
      "125 tura\n",
      "126 mariestad\n",
      "127 codrington\n",
      "128 aklavik\n",
      "129 lasa\n",
      "130 kurilsk\n",
      "131 richards bay\n",
      "132 novoselytsya\n",
      "133 porto santo\n",
      "134 iquitos\n",
      "135 dangtu\n",
      "136 norden\n",
      "137 aracaju\n",
      "138 half moon bay\n",
      "139 aswan\n",
      "140 walvis bay\n",
      "141 aviles\n",
      "142 dikson\n",
      "143 nanortalik\n",
      "144 chulumani\n",
      "145 omboue\n",
      "146 dodoma\n",
      "147 bandarbeyla\n",
      "148 dodola\n",
      "149 clyde river\n",
      "City not found.\n",
      "151 thompson\n",
      "152 chuy\n",
      "153 yarmouth\n",
      "154 pinyug\n",
      "City not found.\n",
      "156 provideniya\n",
      "157 kuito\n",
      "158 vardo\n",
      "159 mar del plata\n",
      "160 upernavik\n",
      "161 acajutla\n",
      "162 peruibe\n",
      "City not found.\n",
      "164 fallon\n",
      "165 geraldton\n",
      "166 surt\n",
      "167 marrakesh\n",
      "168 pasni\n",
      "169 tiarei\n",
      "City not found.\n",
      "171 dahegam\n",
      "City not found.\n",
      "173 pevek\n",
      "174 hasaki\n",
      "175 severo-kurilsk\n",
      "176 villa union\n",
      "177 nabire\n",
      "178 tasiilaq\n",
      "179 oga\n",
      "180 erenhot\n",
      "181 krasnoye\n",
      "182 demirci\n",
      "183 torbay\n",
      "184 sao filipe\n",
      "185 bad salzdetfurth\n",
      "186 naze\n",
      "187 bacolod\n",
      "188 saint-philippe\n",
      "189 teahupoo\n",
      "190 winnemucca\n",
      "191 cape town\n",
      "192 lazaro cardenas\n",
      "193 sainte-anne-des-monts\n",
      "194 arman\n",
      "195 shingu\n",
      "196 kaitangata\n",
      "197 grand gaube\n",
      "198 lebu\n",
      "199 leningradskiy\n",
      "200 hamilton\n",
      "201 ambon\n",
      "202 castro\n",
      "203 kanchanaburi\n",
      "204 cascais\n",
      "205 nipawin\n",
      "206 tsabong\n",
      "207 chiman\n",
      "208 dunedin\n",
      "209 sitka\n",
      "210 rundu\n",
      "211 amahai\n",
      "212 hovd\n",
      "213 mahibadhoo\n",
      "214 kuytun\n",
      "215 veydelevka\n",
      "216 ahipara\n",
      "217 tuktoyaktuk\n",
      "City not found.\n",
      "219 broome\n",
      "220 nago\n",
      "221 lakes entrance\n",
      "222 sola\n",
      "223 sayat\n",
      "224 balaipungut\n",
      "City not found.\n",
      "City not found.\n",
      "227 coxim\n",
      "228 chokurdakh\n",
      "229 west wendover\n",
      "230 george town\n",
      "231 beshpagir\n",
      "City not found.\n",
      "233 kavieng\n",
      "234 itoman\n",
      "235 airai\n",
      "236 kunfeherto\n",
      "City not found.\n",
      "238 vernesti\n",
      "239 kununurra\n",
      "240 hofn\n",
      "241 kirensk\n",
      "242 kandi\n",
      "243 cidreira\n",
      "244 akom\n",
      "245 norman wells\n",
      "City not found.\n",
      "City not found.\n",
      "248 kuldiga\n",
      "249 mikkeli\n",
      "City not found.\n",
      "251 alegrete\n",
      "252 meulaboh\n",
      "City not found.\n",
      "254 umm lajj\n",
      "255 namtsy\n",
      "256 malakal\n",
      "257 ambilobe\n",
      "258 yar-sale\n",
      "259 cabedelo\n",
      "260 batemans bay\n",
      "261 cabadiangan\n",
      "262 hope\n",
      "263 puente nacional\n",
      "City not found.\n",
      "265 sisimiut\n",
      "266 khanpur\n",
      "267 jamestown\n",
      "268 truth or consequences\n",
      "269 padang\n",
      "270 anzio\n",
      "City not found.\n",
      "272 kedrovyy\n",
      "273 namibe\n",
      "274 sao joao da barra\n",
      "275 illapel\n",
      "276 itarema\n",
      "277 vestmanna\n",
      "278 college\n",
      "279 lorengau\n",
      "280 soto\n",
      "281 kupang\n",
      "282 young\n",
      "283 kharp\n",
      "284 leh\n",
      "285 warrnambool\n",
      "286 dundee\n",
      "287 wucheng\n",
      "288 mariental\n",
      "289 ustka\n",
      "290 lafia\n",
      "291 bengkulu\n",
      "292 yokadouma\n",
      "293 thinadhoo\n",
      "City not found.\n",
      "295 mbandaka\n",
      "296 mamou\n",
      "297 canandaigua\n",
      "298 merritt island\n",
      "299 mandera\n",
      "300 tilichiki\n",
      "301 pacifica\n",
      "302 katsuura\n",
      "303 salalah\n",
      "304 uspenka\n",
      "305 mildura\n",
      "306 fairbanks\n",
      "307 quimper\n",
      "308 mayumba\n",
      "309 yarada\n",
      "310 alofi\n",
      "311 koslan\n",
      "312 gouyave\n",
      "313 salinopolis\n",
      "314 kieta\n",
      "315 lakhimpur\n",
      "316 aktash\n",
      "317 narsaq\n",
      "318 puerto baquerizo moreno\n",
      "319 bonthe\n",
      "320 araguacu\n",
      "321 pathein\n",
      "322 xining\n",
      "323 westport\n",
      "324 sakaraha\n",
      "City not found.\n",
      "326 dutlwe\n",
      "327 tukrah\n",
      "328 bosaso\n",
      "329 garowe\n",
      "330 port hawkesbury\n",
      "331 japura\n",
      "332 mitsamiouli\n",
      "333 namatanai\n",
      "334 birpur\n",
      "335 katima mulilo\n",
      "336 san cristobal\n",
      "337 popondetta\n",
      "City not found.\n",
      "339 sabancuy\n",
      "340 maragogi\n",
      "341 bojnurd\n",
      "342 abu samrah\n",
      "343 saint george\n",
      "344 taoudenni\n",
      "City not found.\n",
      "346 oswego\n",
      "347 husavik\n",
      "348 diego de almagro\n",
      "City not found.\n",
      "350 chake chake\n",
      "City not found.\n",
      "352 rantepao\n",
      "353 uchiza\n",
      "354 san patricio\n",
      "City not found.\n",
      "356 inuvik\n",
      "357 burnie\n",
      "358 korla\n",
      "359 sinnamary\n",
      "City not found.\n",
      "361 taft\n",
      "362 jiaojiang\n",
      "363 pafos\n",
      "364 sibolga\n",
      "365 salamanca\n",
      "366 guarapari\n",
      "367 scottsbluff\n",
      "368 bonfim\n",
      "369 kapit\n",
      "City not found.\n",
      "371 georgetown\n",
      "372 kamloops\n",
      "City not found.\n",
      "374 san quintin\n",
      "375 constitucion\n",
      "376 mehriz\n",
      "377 the valley\n",
      "378 xai-xai\n",
      "379 eyl\n",
      "380 karasjok\n",
      "381 bogorodskoye\n",
      "382 ghatsila\n",
      "383 alugan\n",
      "384 fort saint james\n",
      "385 socorro\n",
      "386 faanui\n",
      "387 dudinka\n",
      "388 udachnyy\n",
      "389 mangrol\n",
      "390 muisne\n",
      "391 tank\n",
      "392 ancud\n",
      "393 krasnyy chikoy\n",
      "394 gudalur\n",
      "City not found.\n",
      "396 kama\n",
      "397 comodoro rivadavia\n",
      "398 bay roberts\n",
      "399 katherine\n",
      "400 gornyy\n",
      "401 abu kamal\n",
      "402 pangai\n",
      "403 gravdal\n",
      "404 lata\n",
      "405 siswa bazar\n",
      "406 palauig\n",
      "407 trairi\n",
      "408 koulikoro\n",
      "409 kem\n",
      "City not found.\n",
      "411 chegdomyn\n",
      "412 ornskoldsvik\n",
      "City not found.\n",
      "City not found.\n",
      "415 brownfield\n",
      "416 dingzhou\n",
      "417 dongying\n",
      "418 ayan\n",
      "419 hay river\n",
      "420 rio grande\n",
      "421 gat\n",
      "422 oyem\n",
      "423 portland\n",
      "424 port blair\n",
      "425 viedma\n",
      "426 ust-kuyga\n",
      "427 rio gallegos\n",
      "428 ballangen\n",
      "429 pangody\n",
      "430 vaitape\n",
      "431 katangli\n",
      "432 sesheke\n",
      "433 miranda\n",
      "434 sorland\n",
      "435 mazatlan\n",
      "436 ouadda\n",
      "437 hambantota\n",
      "438 vestmannaeyjar\n",
      "439 cockburn town\n",
      "440 daru\n",
      "441 ishigaki\n",
      "City not found.\n",
      "443 odienne\n",
      "444 lompoc\n",
      "445 pitimbu\n",
      "446 okhotsk\n",
      "447 hvolsvollur\n",
      "448 georgiyevka\n",
      "449 westerly\n",
      "450 kathu\n",
      "451 anton lizardo\n",
      "452 newport\n",
      "453 aykhal\n",
      "454 karratha\n",
      "455 fortuna\n",
      "456 pueblo nuevo\n",
      "457 nishihara\n",
      "458 miracema\n",
      "459 saint-pierre\n",
      "460 adrar\n",
      "461 kapoeta\n",
      "462 shunyi\n",
      "463 bafra\n",
      "464 fukue\n",
      "465 touros\n",
      "466 rocha\n",
      "467 marystown\n",
      "468 goderich\n",
      "469 la ronge\n",
      "470 leshukonskoye\n",
      "471 vangaindrano\n",
      "472 barraute\n",
      "473 lavrentiya\n",
      "474 bireun\n",
      "475 caravelas\n",
      "476 mugumu\n",
      "477 navalmoral de la mata\n",
      "478 khasan\n",
      "479 lanxi\n",
      "480 labuan\n",
      "481 atar\n",
      "482 faya\n",
      "483 vila\n",
      "484 sur\n",
      "485 iqaluit\n",
      "486 tuatapere\n",
      "487 zeven\n",
      "488 wuwei\n",
      "489 antofagasta\n",
      "490 hervey bay\n",
      "491 bronnoysund\n",
      "492 dryden\n",
      "493 shimoda\n",
      "494 brisbane\n",
      "495 santa pola\n",
      "496 maralal\n",
      "497 asau\n",
      "498 kandrian\n",
      "499 vila velha\n",
      "500 maposeni\n",
      "501 awbari\n",
      "502 imeni poliny osipenko\n",
      "503 jalingo\n",
      "504 cooma\n",
      "505 vanimo\n",
      "506 kargopol\n",
      "City not found.\n",
      "508 alta gracia\n",
      "509 paamiut\n",
      "510 santa fe\n",
      "511 nizwa\n",
      "512 negombo\n",
      "513 mehamn\n",
      "514 lagoa\n",
      "515 dukat\n",
      "516 auki\n",
      "517 luohe\n",
      "518 kloulklubed\n",
      "519 vitoria de santo antao\n",
      "520 nome\n",
      "521 mutoko\n",
      "522 santa rosa\n",
      "523 fort frances\n",
      "524 talara\n",
      "525 tigzirt\n",
      "526 jieshi\n",
      "527 nesebar\n",
      "528 klaksvik\n",
      "529 totness\n",
      "530 corinto\n",
      "531 haines junction\n",
      "532 gotsu\n",
      "533 ostrovnoy\n",
      "534 chumikan\n",
      "535 griffith\n",
      "536 tateyama\n",
      "537 kungurtug\n",
      "538 saint-leu\n",
      "539 shaoxing\n",
      "540 pascagoula\n",
      "541 petropolis\n",
      "542 maha sarakham\n",
      "543 akyab\n",
      "544 souillac\n",
      "545 vao\n",
      "546 helena\n",
      "City not found.\n",
      "548 kautokeino\n",
      "549 gua musang\n",
      "550 bathsheba\n",
      "551 gilbues\n",
      "552 luderitz\n",
      "553 catuday\n",
      "554 sangod\n",
      "555 asfi\n",
      "City not found.\n",
      "557 littleton\n",
      "558 nador\n",
      "559 quatre cocos\n",
      "560 swellendam\n",
      "561 port hedland\n",
      "562 melioratorov\n",
      "563 kenai\n",
      "564 barcelos\n",
      "565 puerto colombia\n",
      "566 olinda\n",
      "567 necocli\n",
      "568 mangochi\n",
      "569 qaqortoq\n",
      "570 shiraoi\n",
      "571 los llanos de aridane\n",
      "City not found.\n",
      "573 kahului\n",
      "574 ola\n",
      "575 aras\n",
      "576 kaniama\n",
      "577 sao miguel do araguaia\n",
      "578 kodinsk\n",
      "579 casino\n",
      "580 wanning\n",
      "581 alcudia\n",
      "582 moussoro\n",
      "583 coolidge\n",
      "584 hof\n",
      "585 salinas\n",
      "586 bacabal\n",
      "587 sovetskiy\n",
      "588 yatou\n",
      "589 odesskoye\n",
      "590 wai\n",
      "City not found.\n",
      "592 tsaratanana\n",
      "593 smidovich\n",
      "594 pundaguitan\n",
      "595 yerbogachen\n",
      "596 graham\n",
      "597 vredendal\n",
      "598 batagay-alyta\n",
      "599 santarem\n",
      "600 juneau\n",
      "601 ozark\n",
      "602 sakakah\n",
      "603 ferrol\n",
      "604 ginir\n",
      "605 coahuayana\n",
      "606 sinop\n",
      "607 severnyy\n",
      "City not found.\n",
      "609 graaff-reinet\n",
      "610 inhambane\n",
      "City not found.\n",
      "612 chalmette\n",
      "613 aloleng\n",
      "------------------------------\n",
      "Data Retrieval Complete\n",
      "------------------------------\n"
     ]
    }
   ],
   "source": [
    "data = []\n",
    "counter = 0\n",
    "\n",
    "#For loop\n",
    "for city in cities:\n",
    "    counter=counter+1\n",
    "    \n",
    "    try:\n",
    "        response = requests.get(query_url + city ).json()\n",
    "        temp_max= response[\"main\"][\"temp_max\"]\n",
    "        humidity=response[\"main\"][\"humidity\"]\n",
    "        windspeed=response[\"wind\"][\"speed\"]\n",
    "        cloudy=response[\"clouds\"][\"all\"]\n",
    "        country=response[\"sys\"][\"country\"]\n",
    "        date=response[\"dt\"]\n",
    "        lat=response[\"coord\"][\"lat\"]\n",
    "        lon=response[\"coord\"][\"lon\"]\n",
    "        data.append([date,city, country, lat, lon, temp_max, humidity,windspeed, cloudy])\n",
    "        print(f\"{counter} {city}\")\n",
    "        time.sleep(.2)\n",
    "    except:\n",
    "        print(\"City not found.\")      \n",
    "\n",
    "  \n",
    "print(\"------------------------------\\nData Retrieval Complete\\n------------------------------\")\n"
   ]
  },
  {
   "cell_type": "markdown",
   "metadata": {},
   "source": [
    "### Convert Raw Data to DataFrame\n",
    "* Export the city data into a .csv.\n",
    "* Display the DataFrame"
   ]
  },
  {
   "cell_type": "code",
   "execution_count": 6,
   "metadata": {},
   "outputs": [
    {
     "data": {
      "text/html": [
       "<div>\n",
       "<style scoped>\n",
       "    .dataframe tbody tr th:only-of-type {\n",
       "        vertical-align: middle;\n",
       "    }\n",
       "\n",
       "    .dataframe tbody tr th {\n",
       "        vertical-align: top;\n",
       "    }\n",
       "\n",
       "    .dataframe thead th {\n",
       "        text-align: right;\n",
       "    }\n",
       "</style>\n",
       "<table border=\"1\" class=\"dataframe\">\n",
       "  <thead>\n",
       "    <tr style=\"text-align: right;\">\n",
       "      <th></th>\n",
       "      <th>date</th>\n",
       "      <th>city</th>\n",
       "      <th>country</th>\n",
       "      <th>lat</th>\n",
       "      <th>lon</th>\n",
       "      <th>temp_max</th>\n",
       "      <th>humidity</th>\n",
       "      <th>windspeed</th>\n",
       "      <th>cloudy</th>\n",
       "    </tr>\n",
       "  </thead>\n",
       "  <tbody>\n",
       "    <tr>\n",
       "      <th>0</th>\n",
       "      <td>1614530908</td>\n",
       "      <td>bredasdorp</td>\n",
       "      <td>ZA</td>\n",
       "      <td>-34.5322</td>\n",
       "      <td>20.0403</td>\n",
       "      <td>23.00</td>\n",
       "      <td>73</td>\n",
       "      <td>9.26</td>\n",
       "      <td>0</td>\n",
       "    </tr>\n",
       "    <tr>\n",
       "      <th>1</th>\n",
       "      <td>1614530908</td>\n",
       "      <td>bambous virieux</td>\n",
       "      <td>MU</td>\n",
       "      <td>-20.3428</td>\n",
       "      <td>57.7575</td>\n",
       "      <td>26.67</td>\n",
       "      <td>78</td>\n",
       "      <td>2.57</td>\n",
       "      <td>75</td>\n",
       "    </tr>\n",
       "    <tr>\n",
       "      <th>2</th>\n",
       "      <td>1614530909</td>\n",
       "      <td>dukhovnitskoye</td>\n",
       "      <td>RU</td>\n",
       "      <td>52.4828</td>\n",
       "      <td>48.2137</td>\n",
       "      <td>-15.70</td>\n",
       "      <td>92</td>\n",
       "      <td>3.19</td>\n",
       "      <td>50</td>\n",
       "    </tr>\n",
       "    <tr>\n",
       "      <th>3</th>\n",
       "      <td>1614530909</td>\n",
       "      <td>royan</td>\n",
       "      <td>FR</td>\n",
       "      <td>45.6285</td>\n",
       "      <td>-1.0281</td>\n",
       "      <td>15.00</td>\n",
       "      <td>55</td>\n",
       "      <td>5.14</td>\n",
       "      <td>0</td>\n",
       "    </tr>\n",
       "    <tr>\n",
       "      <th>4</th>\n",
       "      <td>1614530763</td>\n",
       "      <td>ushuaia</td>\n",
       "      <td>AR</td>\n",
       "      <td>-54.8000</td>\n",
       "      <td>-68.3000</td>\n",
       "      <td>9.00</td>\n",
       "      <td>87</td>\n",
       "      <td>8.75</td>\n",
       "      <td>75</td>\n",
       "    </tr>\n",
       "    <tr>\n",
       "      <th>...</th>\n",
       "      <td>...</td>\n",
       "      <td>...</td>\n",
       "      <td>...</td>\n",
       "      <td>...</td>\n",
       "      <td>...</td>\n",
       "      <td>...</td>\n",
       "      <td>...</td>\n",
       "      <td>...</td>\n",
       "      <td>...</td>\n",
       "    </tr>\n",
       "    <tr>\n",
       "      <th>560</th>\n",
       "      <td>1614531108</td>\n",
       "      <td>severnyy</td>\n",
       "      <td>RU</td>\n",
       "      <td>50.6770</td>\n",
       "      <td>36.5532</td>\n",
       "      <td>1.00</td>\n",
       "      <td>86</td>\n",
       "      <td>4.00</td>\n",
       "      <td>75</td>\n",
       "    </tr>\n",
       "    <tr>\n",
       "      <th>561</th>\n",
       "      <td>1614531109</td>\n",
       "      <td>graaff-reinet</td>\n",
       "      <td>ZA</td>\n",
       "      <td>-32.2522</td>\n",
       "      <td>24.5308</td>\n",
       "      <td>30.00</td>\n",
       "      <td>43</td>\n",
       "      <td>4.11</td>\n",
       "      <td>61</td>\n",
       "    </tr>\n",
       "    <tr>\n",
       "      <th>562</th>\n",
       "      <td>1614531109</td>\n",
       "      <td>inhambane</td>\n",
       "      <td>MZ</td>\n",
       "      <td>-23.8650</td>\n",
       "      <td>35.3833</td>\n",
       "      <td>26.00</td>\n",
       "      <td>61</td>\n",
       "      <td>2.57</td>\n",
       "      <td>40</td>\n",
       "    </tr>\n",
       "    <tr>\n",
       "      <th>563</th>\n",
       "      <td>1614531110</td>\n",
       "      <td>chalmette</td>\n",
       "      <td>US</td>\n",
       "      <td>29.9427</td>\n",
       "      <td>-89.9634</td>\n",
       "      <td>27.22</td>\n",
       "      <td>73</td>\n",
       "      <td>5.14</td>\n",
       "      <td>90</td>\n",
       "    </tr>\n",
       "    <tr>\n",
       "      <th>564</th>\n",
       "      <td>1614531110</td>\n",
       "      <td>aloleng</td>\n",
       "      <td>PH</td>\n",
       "      <td>16.1307</td>\n",
       "      <td>119.7824</td>\n",
       "      <td>26.58</td>\n",
       "      <td>78</td>\n",
       "      <td>2.28</td>\n",
       "      <td>60</td>\n",
       "    </tr>\n",
       "  </tbody>\n",
       "</table>\n",
       "<p>565 rows × 9 columns</p>\n",
       "</div>"
      ],
      "text/plain": [
       "           date             city country      lat       lon  temp_max  \\\n",
       "0    1614530908       bredasdorp      ZA -34.5322   20.0403     23.00   \n",
       "1    1614530908  bambous virieux      MU -20.3428   57.7575     26.67   \n",
       "2    1614530909   dukhovnitskoye      RU  52.4828   48.2137    -15.70   \n",
       "3    1614530909            royan      FR  45.6285   -1.0281     15.00   \n",
       "4    1614530763          ushuaia      AR -54.8000  -68.3000      9.00   \n",
       "..          ...              ...     ...      ...       ...       ...   \n",
       "560  1614531108         severnyy      RU  50.6770   36.5532      1.00   \n",
       "561  1614531109    graaff-reinet      ZA -32.2522   24.5308     30.00   \n",
       "562  1614531109        inhambane      MZ -23.8650   35.3833     26.00   \n",
       "563  1614531110        chalmette      US  29.9427  -89.9634     27.22   \n",
       "564  1614531110          aloleng      PH  16.1307  119.7824     26.58   \n",
       "\n",
       "     humidity  windspeed  cloudy  \n",
       "0          73       9.26       0  \n",
       "1          78       2.57      75  \n",
       "2          92       3.19      50  \n",
       "3          55       5.14       0  \n",
       "4          87       8.75      75  \n",
       "..        ...        ...     ...  \n",
       "560        86       4.00      75  \n",
       "561        43       4.11      61  \n",
       "562        61       2.57      40  \n",
       "563        73       5.14      90  \n",
       "564        78       2.28      60  \n",
       "\n",
       "[565 rows x 9 columns]"
      ]
     },
     "execution_count": 6,
     "metadata": {},
     "output_type": "execute_result"
    }
   ],
   "source": [
    "city_df = pd.DataFrame(data,columns=[\"date\",\"city\", \"country\", \"lat\", \"lon\", \"temp_max\", \"humidity\",\"windspeed\", \"cloudy\"])\n",
    "city_df"
   ]
  },
  {
   "cell_type": "markdown",
   "metadata": {},
   "source": [
    "## Inspect the data and remove the cities where the humidity > 100%.\n",
    "----\n",
    "Skip this step if there are no cities that have humidity > 100%. "
   ]
  },
  {
   "cell_type": "code",
   "execution_count": 7,
   "metadata": {},
   "outputs": [
    {
     "data": {
      "text/plain": [
       "Int64Index([], dtype='int64')"
      ]
     },
     "execution_count": 7,
     "metadata": {},
     "output_type": "execute_result"
    }
   ],
   "source": [
    "#  Get the indices of cities that have humidity over 100%.\n",
    "highhumidity = city_df[(city_df[\"humidity\"]>100)].index\n",
    "highhumidity"
   ]
  },
  {
   "cell_type": "code",
   "execution_count": 8,
   "metadata": {},
   "outputs": [
    {
     "data": {
      "text/html": [
       "<div>\n",
       "<style scoped>\n",
       "    .dataframe tbody tr th:only-of-type {\n",
       "        vertical-align: middle;\n",
       "    }\n",
       "\n",
       "    .dataframe tbody tr th {\n",
       "        vertical-align: top;\n",
       "    }\n",
       "\n",
       "    .dataframe thead th {\n",
       "        text-align: right;\n",
       "    }\n",
       "</style>\n",
       "<table border=\"1\" class=\"dataframe\">\n",
       "  <thead>\n",
       "    <tr style=\"text-align: right;\">\n",
       "      <th></th>\n",
       "      <th>date</th>\n",
       "      <th>city</th>\n",
       "      <th>country</th>\n",
       "      <th>lat</th>\n",
       "      <th>lon</th>\n",
       "      <th>temp_max</th>\n",
       "      <th>humidity</th>\n",
       "      <th>windspeed</th>\n",
       "      <th>cloudy</th>\n",
       "    </tr>\n",
       "  </thead>\n",
       "  <tbody>\n",
       "    <tr>\n",
       "      <th>0</th>\n",
       "      <td>1614530908</td>\n",
       "      <td>bredasdorp</td>\n",
       "      <td>ZA</td>\n",
       "      <td>-34.5322</td>\n",
       "      <td>20.0403</td>\n",
       "      <td>23.00</td>\n",
       "      <td>73</td>\n",
       "      <td>9.26</td>\n",
       "      <td>0</td>\n",
       "    </tr>\n",
       "    <tr>\n",
       "      <th>1</th>\n",
       "      <td>1614530908</td>\n",
       "      <td>bambous virieux</td>\n",
       "      <td>MU</td>\n",
       "      <td>-20.3428</td>\n",
       "      <td>57.7575</td>\n",
       "      <td>26.67</td>\n",
       "      <td>78</td>\n",
       "      <td>2.57</td>\n",
       "      <td>75</td>\n",
       "    </tr>\n",
       "    <tr>\n",
       "      <th>2</th>\n",
       "      <td>1614530909</td>\n",
       "      <td>dukhovnitskoye</td>\n",
       "      <td>RU</td>\n",
       "      <td>52.4828</td>\n",
       "      <td>48.2137</td>\n",
       "      <td>-15.70</td>\n",
       "      <td>92</td>\n",
       "      <td>3.19</td>\n",
       "      <td>50</td>\n",
       "    </tr>\n",
       "    <tr>\n",
       "      <th>3</th>\n",
       "      <td>1614530909</td>\n",
       "      <td>royan</td>\n",
       "      <td>FR</td>\n",
       "      <td>45.6285</td>\n",
       "      <td>-1.0281</td>\n",
       "      <td>15.00</td>\n",
       "      <td>55</td>\n",
       "      <td>5.14</td>\n",
       "      <td>0</td>\n",
       "    </tr>\n",
       "    <tr>\n",
       "      <th>4</th>\n",
       "      <td>1614530763</td>\n",
       "      <td>ushuaia</td>\n",
       "      <td>AR</td>\n",
       "      <td>-54.8000</td>\n",
       "      <td>-68.3000</td>\n",
       "      <td>9.00</td>\n",
       "      <td>87</td>\n",
       "      <td>8.75</td>\n",
       "      <td>75</td>\n",
       "    </tr>\n",
       "    <tr>\n",
       "      <th>...</th>\n",
       "      <td>...</td>\n",
       "      <td>...</td>\n",
       "      <td>...</td>\n",
       "      <td>...</td>\n",
       "      <td>...</td>\n",
       "      <td>...</td>\n",
       "      <td>...</td>\n",
       "      <td>...</td>\n",
       "      <td>...</td>\n",
       "    </tr>\n",
       "    <tr>\n",
       "      <th>560</th>\n",
       "      <td>1614531108</td>\n",
       "      <td>severnyy</td>\n",
       "      <td>RU</td>\n",
       "      <td>50.6770</td>\n",
       "      <td>36.5532</td>\n",
       "      <td>1.00</td>\n",
       "      <td>86</td>\n",
       "      <td>4.00</td>\n",
       "      <td>75</td>\n",
       "    </tr>\n",
       "    <tr>\n",
       "      <th>561</th>\n",
       "      <td>1614531109</td>\n",
       "      <td>graaff-reinet</td>\n",
       "      <td>ZA</td>\n",
       "      <td>-32.2522</td>\n",
       "      <td>24.5308</td>\n",
       "      <td>30.00</td>\n",
       "      <td>43</td>\n",
       "      <td>4.11</td>\n",
       "      <td>61</td>\n",
       "    </tr>\n",
       "    <tr>\n",
       "      <th>562</th>\n",
       "      <td>1614531109</td>\n",
       "      <td>inhambane</td>\n",
       "      <td>MZ</td>\n",
       "      <td>-23.8650</td>\n",
       "      <td>35.3833</td>\n",
       "      <td>26.00</td>\n",
       "      <td>61</td>\n",
       "      <td>2.57</td>\n",
       "      <td>40</td>\n",
       "    </tr>\n",
       "    <tr>\n",
       "      <th>563</th>\n",
       "      <td>1614531110</td>\n",
       "      <td>chalmette</td>\n",
       "      <td>US</td>\n",
       "      <td>29.9427</td>\n",
       "      <td>-89.9634</td>\n",
       "      <td>27.22</td>\n",
       "      <td>73</td>\n",
       "      <td>5.14</td>\n",
       "      <td>90</td>\n",
       "    </tr>\n",
       "    <tr>\n",
       "      <th>564</th>\n",
       "      <td>1614531110</td>\n",
       "      <td>aloleng</td>\n",
       "      <td>PH</td>\n",
       "      <td>16.1307</td>\n",
       "      <td>119.7824</td>\n",
       "      <td>26.58</td>\n",
       "      <td>78</td>\n",
       "      <td>2.28</td>\n",
       "      <td>60</td>\n",
       "    </tr>\n",
       "  </tbody>\n",
       "</table>\n",
       "<p>565 rows × 9 columns</p>\n",
       "</div>"
      ],
      "text/plain": [
       "           date             city country      lat       lon  temp_max  \\\n",
       "0    1614530908       bredasdorp      ZA -34.5322   20.0403     23.00   \n",
       "1    1614530908  bambous virieux      MU -20.3428   57.7575     26.67   \n",
       "2    1614530909   dukhovnitskoye      RU  52.4828   48.2137    -15.70   \n",
       "3    1614530909            royan      FR  45.6285   -1.0281     15.00   \n",
       "4    1614530763          ushuaia      AR -54.8000  -68.3000      9.00   \n",
       "..          ...              ...     ...      ...       ...       ...   \n",
       "560  1614531108         severnyy      RU  50.6770   36.5532      1.00   \n",
       "561  1614531109    graaff-reinet      ZA -32.2522   24.5308     30.00   \n",
       "562  1614531109        inhambane      MZ -23.8650   35.3833     26.00   \n",
       "563  1614531110        chalmette      US  29.9427  -89.9634     27.22   \n",
       "564  1614531110          aloleng      PH  16.1307  119.7824     26.58   \n",
       "\n",
       "     humidity  windspeed  cloudy  \n",
       "0          73       9.26       0  \n",
       "1          78       2.57      75  \n",
       "2          92       3.19      50  \n",
       "3          55       5.14       0  \n",
       "4          87       8.75      75  \n",
       "..        ...        ...     ...  \n",
       "560        86       4.00      75  \n",
       "561        43       4.11      61  \n",
       "562        61       2.57      40  \n",
       "563        73       5.14      90  \n",
       "564        78       2.28      60  \n",
       "\n",
       "[565 rows x 9 columns]"
      ]
     },
     "execution_count": 8,
     "metadata": {},
     "output_type": "execute_result"
    }
   ],
   "source": [
    "# Make a new DataFrame equal to the city data to drop all humidity outliers by index.\n",
    "# Passing \"inplace=False\" will make a copy of the city_data DataFrame, which we call \"clean_city_data\".\n",
    "\n",
    "cleancity_df=city_df.drop(highhumidity, inplace=False)\n",
    "cleancity_df\n"
   ]
  },
  {
   "cell_type": "markdown",
   "metadata": {},
   "source": [
    "## Plotting the Data\n",
    "* Use proper labeling of the plots using plot titles (including date of analysis) and axes labels.\n",
    "* Save the plotted figures as .pngs."
   ]
  },
  {
   "cell_type": "markdown",
   "metadata": {},
   "source": [
    "## Latitude vs. Temperature Plot"
   ]
  },
  {
   "cell_type": "code",
   "execution_count": 9,
   "metadata": {
    "scrolled": true
   },
   "outputs": [
    {
     "data": {
      "image/png": "[encoded data removed]",
      "text/plain": [
       "<Figure size 432x288 with 1 Axes>"
      ]
     },
     "metadata": {
      "needs_background": "light"
     },
     "output_type": "display_data"
    },
    {
     "data": {
      "text/plain": [
       "<Figure size 432x288 with 0 Axes>"
      ]
     },
     "metadata": {},
     "output_type": "display_data"
    }
   ],
   "source": [
    "plt.scatter(cleancity_df[\"lat\"],cleancity_df[\"temp_max\"], marker=\"o\", color=\"lightblue\",edgecolor=\"black\")\n",
    "plt.title(\"Temperature in Cities\")\n",
    "plt.ylabel(\"Temperature\")\n",
    "plt.xlabel(\"Latitude\")\n",
    "plt.grid(True)\n",
    "plt.show()\n",
    "\n",
    "#printpng\n",
    "\n",
    "plt.savefig(\"Temp_in_cities.png\")"
   ]
  },
  {
   "cell_type": "markdown",
   "metadata": {},
   "source": [
    "## Latitude vs. Humidity Plot"
   ]
  },
  {
   "cell_type": "code",
   "execution_count": 10,
   "metadata": {},
   "outputs": [
    {
     "data": {
      "image/png": "[encoded data removed]",
      "text/plain": [
       "<Figure size 432x288 with 1 Axes>"
      ]
     },
     "metadata": {
      "needs_background": "light"
     },
     "output_type": "display_data"
    },
    {
     "data": {
      "text/plain": [
       "<Figure size 432x288 with 0 Axes>"
      ]
     },
     "metadata": {},
     "output_type": "display_data"
    }
   ],
   "source": [
    "plt.scatter(cleancity_df[\"lat\"],cleancity_df[\"humidity\"], marker=\"o\", color=\"lightblue\",edgecolor=\"black\")\n",
    "plt.title(\"Humidity in Cities\")\n",
    "plt.ylabel(\"Humidity (%)\")\n",
    "plt.xlabel(\"Latitude\")\n",
    "plt.grid(True)\n",
    "plt.show()\n",
    "\n",
    "\n",
    "#printpng\n",
    "\n",
    "plt.savefig(\"Humid_in_cities.png\")\n",
    "\n"
   ]
  },
  {
   "cell_type": "markdown",
   "metadata": {},
   "source": [
    "## Latitude vs. Cloudiness Plot"
   ]
  },
  {
   "cell_type": "code",
   "execution_count": 11,
   "metadata": {},
   "outputs": [
    {
     "data": {
      "image/png": "[encoded data removed]",
      "text/plain": [
       "<Figure size 432x288 with 1 Axes>"
      ]
     },
     "metadata": {
      "needs_background": "light"
     },
     "output_type": "display_data"
    },
    {
     "data": {
      "text/plain": [
       "<Figure size 432x288 with 0 Axes>"
      ]
     },
     "metadata": {},
     "output_type": "display_data"
    }
   ],
   "source": [
    "plt.scatter(cleancity_df[\"lat\"],cleancity_df[\"cloudy\"], marker=\"o\", color=\"lightblue\",edgecolor=\"black\")\n",
    "plt.title(\"Cloudiness in Cities\")\n",
    "plt.ylabel(\"Cloudiness (%)\")\n",
    "plt.xlabel(\"Latitude\")\n",
    "plt.grid(True)\n",
    "plt.show()\n",
    "\n",
    "\n",
    "#printpng\n",
    "\n",
    "plt.savefig(\"Cloudy_in_cities.png\")\n"
   ]
  },
  {
   "cell_type": "markdown",
   "metadata": {},
   "source": [
    "## Latitude vs. Wind Speed Plot"
   ]
  },
  {
   "cell_type": "code",
   "execution_count": 12,
   "metadata": {},
   "outputs": [
    {
     "data": {
      "image/png": "[encoded data removed]",
      "text/plain": [
       "<Figure size 432x288 with 1 Axes>"
      ]
     },
     "metadata": {
      "needs_background": "light"
     },
     "output_type": "display_data"
    },
    {
     "data": {
      "text/plain": [
       "<Figure size 432x288 with 0 Axes>"
      ]
     },
     "metadata": {},
     "output_type": "display_data"
    }
   ],
   "source": [
    "plt.scatter(cleancity_df[\"lat\"],cleancity_df[\"windspeed\"], marker=\"o\", color=\"lightblue\",edgecolor=\"black\")\n",
    "plt.title(\"Windspeed in Cities\")\n",
    "plt.ylabel(\"Windspeed (mph)\")\n",
    "plt.xlabel(\"Latitude\")\n",
    "plt.grid(True)\n",
    "plt.show()\n",
    "\n",
    "#printpng\n",
    "\n",
    "plt.savefig(\"Windy_in_cities.png\")\n"
   ]
  },
  {
   "cell_type": "markdown",
   "metadata": {},
   "source": [
    "Observation of Scatter Plots\n",
    "\n"
   ]
  },
  {
   "cell_type": "markdown",
   "metadata": {},
   "source": [
    "## Linear Regression"
   ]
  },
  {
   "cell_type": "code",
   "execution_count": 13,
   "metadata": {},
   "outputs": [],
   "source": [
    "northernhem=cleancity_df.loc[cleancity_df[\"lat\"]>=0]\n",
    "southernhem=cleancity_df.loc[cleancity_df[\"lat\"]<=0]"
   ]
  },
  {
   "cell_type": "markdown",
   "metadata": {},
   "source": [
    "####  Northern Hemisphere - Max Temp vs. Latitude Linear Regression"
   ]
  },
  {
   "cell_type": "code",
   "execution_count": 22,
   "metadata": {},
   "outputs": [
    {
     "name": "stdout",
     "output_type": "stream",
     "text": [
      "The r-squared is: 0.7243760241764189\n"
     ]
    },
    {
     "data": {
      "image/png": "[encoded data removed]",
      "text/plain": [
       "<Figure size 432x288 with 1 Axes>"
      ]
     },
     "metadata": {
      "needs_background": "light"
     },
     "output_type": "display_data"
    }
   ],
   "source": [
    "x_values = northernhem[\"lat\"]\n",
    "y_values = northernhem[\"temp_max\"]\n",
    "(slope, intercept, rvalue, pvalue, stderr) = linregress(x_values, y_values)\n",
    "\n",
    "regress_values = x_values * slope + intercept\n",
    "\n",
    "line_eq= f\"y = {round(slope, 2)} x + {round(intercept, 2)}\"\n",
    "\n",
    "plt.scatter(x_values,y_values)\n",
    "plt.plot(x_values,regress_values,\"r-\")\n",
    "plt.annotate(line_eq,(40,30),fontsize=15)\n",
    "plt.title(\"Northern Hemisphere - Temperature vs. Latitude\")\n",
    "plt.xlabel(\"Latitude\")\n",
    "plt.ylabel(\"Temperature\")\n",
    "print(f\"The r-squared is: {rvalue**2}\")\n",
    "plt.show()"
   ]
  },
  {
   "cell_type": "markdown",
   "metadata": {},
   "source": [
    "####  Southern Hemisphere - Max Temp vs. Latitude Linear Regression"
   ]
  },
  {
   "cell_type": "code",
   "execution_count": 15,
   "metadata": {},
   "outputs": [
    {
     "name": "stdout",
     "output_type": "stream",
     "text": [
      "The r-squared is: 0.22017994867524118\n"
     ]
    },
    {
     "data": {
      "image/png": "[encoded data removed]",
      "text/plain": [
       "<Figure size 432x288 with 1 Axes>"
      ]
     },
     "metadata": {
      "needs_background": "light"
     },
     "output_type": "display_data"
    }
   ],
   "source": [
    "x_values = southernhem[\"lat\"]\n",
    "y_values = southernhem[\"temp_max\"]\n",
    "(slope, intercept, rvalue, pvalue, stderr) = linregress(x_values, y_values)\n",
    "\n",
    "regress_values = x_values * slope + intercept\n",
    "\n",
    "line_eq= f\"y = {round(slope, 2)} x + {round(intercept, 2)}\"\n",
    "\n",
    "plt.scatter(x_values,y_values)\n",
    "plt.plot(x_values,regress_values,\"r-\")\n",
    "plt.annotate(line_eq,(-30,12),fontsize=15)\n",
    "plt.title(\"Southern Hemisphere - Temperature vs. Latitude\")\n",
    "plt.xlabel(\"Latitude\")\n",
    "plt.ylabel(\"Temperature\")\n",
    "print(f\"The r-squared is: {rvalue**2}\")\n",
    "plt.show()"
   ]
  },
  {
   "cell_type": "markdown",
   "metadata": {},
   "source": [
    "####  Northern Hemisphere - Humidity (%) vs. Latitude Linear Regression"
   ]
  },
  {
   "cell_type": "code",
   "execution_count": 24,
   "metadata": {},
   "outputs": [
    {
     "name": "stdout",
     "output_type": "stream",
     "text": [
      "The r-squared is: 0.17151579213813886\n"
     ]
    },
    {
     "data": {
      "image/png": "[encoded data removed]",
      "text/plain": [
       "<Figure size 432x288 with 1 Axes>"
      ]
     },
     "metadata": {
      "needs_background": "light"
     },
     "output_type": "display_data"
    }
   ],
   "source": [
    "x_values = northernhem[\"lat\"]\n",
    "y_values = northernhem[\"humidity\"]\n",
    "(slope, intercept, rvalue, pvalue, stderr) = linregress(x_values, y_values)\n",
    "\n",
    "regress_values = x_values * slope + intercept\n",
    "\n",
    "line_eq= f\"y = {round(slope, 2)} x + {round(intercept, 2)}\"\n",
    "\n",
    "plt.scatter(x_values,y_values)\n",
    "plt.plot(x_values,regress_values,\"r-\")\n",
    "plt.annotate(line_eq,(40,20),fontsize=15)\n",
    "plt.title(\"Northern Hemisphere - Humidity vs. Latitude\")\n",
    "plt.xlabel(\"Latitude\")\n",
    "plt.ylabel(\"Humidity (%)\")\n",
    "print(f\"The r-squared is: {rvalue**2}\")\n",
    "plt.show()\n"
   ]
  },
  {
   "cell_type": "markdown",
   "metadata": {},
   "source": [
    "Observation of Temperature\n"
   ]
  },
  {
   "cell_type": "markdown",
   "metadata": {},
   "source": [
    "####  Southern Hemisphere - Humidity (%) vs. Latitude Linear Regression"
   ]
  },
  {
   "cell_type": "code",
   "execution_count": 26,
   "metadata": {},
   "outputs": [
    {
     "name": "stdout",
     "output_type": "stream",
     "text": [
      "The r-squared is: 0.012798888903691494\n"
     ]
    },
    {
     "data": {
      "image/png": "[encoded data removed]",
      "text/plain": [
       "<Figure size 432x288 with 1 Axes>"
      ]
     },
     "metadata": {
      "needs_background": "light"
     },
     "output_type": "display_data"
    },
    {
     "name": "stdout",
     "output_type": "stream",
     "text": [
      "The r-squared is: 0.012798888903691494\n"
     ]
    }
   ],
   "source": [
    "x_values = southernhem[\"lat\"]\n",
    "y_values = southernhem[\"humidity\"]\n",
    "(slope, intercept, rvalue, pvalue, stderr) = linregress(x_values, y_values)\n",
    "\n",
    "regress_values = x_values * slope + intercept\n",
    "\n",
    "line_eq= f\"y = {round(slope, 2)} x + {round(intercept, 2)}\"\n",
    "\n",
    "plt.scatter(x_values,y_values)\n",
    "plt.plot(x_values,regress_values,\"r-\")\n",
    "plt.annotate(line_eq,(-25,30),fontsize=15)\n",
    "plt.title(\"Southern Hemisphere - Humidity vs. Latitude\")\n",
    "plt.xlabel(\"Latitude\")\n",
    "plt.ylabel(\"Humidity (%)\")\n",
    "print(f\"The r-squared is: {rvalue**2}\")\n",
    "plt.show()\n",
    "\n",
    "print(f\"The r-squared is: {rvalue**2}\")\n",
    "plt.show()"
   ]
  },
  {
   "cell_type": "markdown",
   "metadata": {},
   "source": [
    "Observation of Humidity\n",
    "\n"
   ]
  },
  {
   "cell_type": "markdown",
   "metadata": {},
   "source": [
    "####  Northern Hemisphere - Cloudiness (%) vs. Latitude Linear Regression"
   ]
  },
  {
   "cell_type": "code",
   "execution_count": 29,
   "metadata": {},
   "outputs": [
    {
     "name": "stdout",
     "output_type": "stream",
     "text": [
      "The r-squared is: 0.03245493899113595\n"
     ]
    },
    {
     "data": {
      "image/png": "[encoded data removed]",
      "text/plain": [
       "<Figure size 432x288 with 1 Axes>"
      ]
     },
     "metadata": {
      "needs_background": "light"
     },
     "output_type": "display_data"
    }
   ],
   "source": [
    "x_values = northernhem[\"lat\"]\n",
    "y_values = northernhem[\"cloudy\"]\n",
    "(slope, intercept, rvalue, pvalue, stderr) = linregress(x_values, y_values)\n",
    "\n",
    "regress_values = x_values * slope + intercept\n",
    "\n",
    "line_eq= f\"y = {round(slope, 2)} x + {round(intercept, 2)}\"\n",
    "\n",
    "plt.scatter(x_values,y_values)\n",
    "plt.plot(x_values,regress_values,\"r-\")\n",
    "plt.annotate(line_eq,(5,100),fontsize=10)\n",
    "plt.title(\"Northern Hemisphere - Cloudiness vs. Latitude\")\n",
    "plt.xlabel(\"Latitude\")\n",
    "plt.ylabel(\"Cloudiness (%)\")\n",
    "print(f\"The r-squared is: {rvalue**2}\")\n",
    "plt.show()\n"
   ]
  },
  {
   "cell_type": "markdown",
   "metadata": {},
   "source": [
    "####  Southern Hemisphere - Cloudiness (%) vs. Latitude Linear Regression"
   ]
  },
  {
   "cell_type": "code",
   "execution_count": 32,
   "metadata": {},
   "outputs": [
    {
     "name": "stdout",
     "output_type": "stream",
     "text": [
      "The r-squared is: 0.07363189768635767\n"
     ]
    },
    {
     "data": {
      "image/png": "[encoded data removed]",
      "text/plain": [
       "<Figure size 432x288 with 1 Axes>"
      ]
     },
     "metadata": {
      "needs_background": "light"
     },
     "output_type": "display_data"
    }
   ],
   "source": [
    "x_values = southernhem[\"lat\"]\n",
    "y_values = southernhem[\"cloudy\"]\n",
    "(slope, intercept, rvalue, pvalue, stderr) = linregress(x_values, y_values)\n",
    "\n",
    "regress_values = x_values * slope + intercept\n",
    "\n",
    "line_eq= f\"y = {round(slope, 2)} x + {round(intercept, 2)}\"\n",
    "\n",
    "plt.scatter(x_values,y_values)\n",
    "plt.plot(x_values,regress_values,\"r-\")\n",
    "plt.annotate(line_eq,(-55,50),fontsize=10)\n",
    "plt.title(\"Southern Hemisphere - Cloudiness vs. Latitude\")\n",
    "plt.xlabel(\"Latitude\")\n",
    "plt.ylabel(\"Cloudiness (%)\")\n",
    "print(f\"The r-squared is: {rvalue**2}\")\n",
    "plt.show()"
   ]
  },
  {
   "cell_type": "markdown",
   "metadata": {},
   "source": [
    "Observation of Cloudiness"
   ]
  },
  {
   "cell_type": "markdown",
   "metadata": {},
   "source": [
    "####  Northern Hemisphere - Wind Speed (mph) vs. Latitude Linear Regression"
   ]
  },
  {
   "cell_type": "code",
   "execution_count": 33,
   "metadata": {},
   "outputs": [
    {
     "name": "stdout",
     "output_type": "stream",
     "text": [
      "The r-squared is: 0.02533818739579754\n"
     ]
    },
    {
     "data": {
      "image/png": "[encoded data removed]",
      "text/plain": [
       "<Figure size 432x288 with 1 Axes>"
      ]
     },
     "metadata": {
      "needs_background": "light"
     },
     "output_type": "display_data"
    }
   ],
   "source": [
    "x_values = northernhem[\"lat\"]\n",
    "y_values = northernhem[\"windspeed\"]\n",
    "(slope, intercept, rvalue, pvalue, stderr) = linregress(x_values, y_values)\n",
    "\n",
    "regress_values = x_values * slope + intercept\n",
    "\n",
    "line_eq= f\"y = {round(slope, 2)} x + {round(intercept, 2)}\"\n",
    "\n",
    "plt.scatter(x_values,y_values)\n",
    "plt.plot(x_values,regress_values,\"r-\")\n",
    "plt.annotate(line_eq,(0,15),fontsize=15)\n",
    "plt.title(\"Northern Hemisphere - Windspeed vs. Latitude\")\n",
    "plt.xlabel(\"Latitude\")\n",
    "plt.ylabel(\"Windspeed(mph)\")\n",
    "print(f\"The r-squared is: {rvalue**2}\")\n",
    "plt.show()"
   ]
  },
  {
   "cell_type": "markdown",
   "metadata": {},
   "source": [
    "####  Southern Hemisphere - Wind Speed (mph) vs. Latitude Linear Regression"
   ]
  },
  {
   "cell_type": "code",
   "execution_count": 34,
   "metadata": {},
   "outputs": [
    {
     "name": "stdout",
     "output_type": "stream",
     "text": [
      "The r-squared is: 0.05928487337284611\n"
     ]
    },
    {
     "data": {
      "image/png": "[encoded data removed]",
      "text/plain": [
       "<Figure size 432x288 with 1 Axes>"
      ]
     },
     "metadata": {
      "needs_background": "light"
     },
     "output_type": "display_data"
    }
   ],
   "source": [
    "x_values = southernhem[\"lat\"]\n",
    "y_values = southernhem[\"windspeed\"]\n",
    "(slope, intercept, rvalue, pvalue, stderr) = linregress(x_values, y_values)\n",
    "\n",
    "regress_values = x_values * slope + intercept\n",
    "\n",
    "line_eq= f\"y = {round(slope, 2)} x + {round(intercept, 2)}\"\n",
    "\n",
    "plt.scatter(x_values,y_values)\n",
    "plt.plot(x_values,regress_values,\"r-\")\n",
    "plt.annotate(line_eq,(-25,9),fontsize=15)\n",
    "plt.title(\"Southern Hemisphere - Windspeed vs. Latitude\")\n",
    "plt.xlabel(\"Latitude\")\n",
    "plt.ylabel(\"Windspeed(mph)\")\n",
    "print(f\"The r-squared is: {rvalue**2}\")\n",
    "plt.show()"
   ]
  },
  {
   "cell_type": "markdown",
   "metadata": {},
   "source": [
    "Observation of Windspeed\n",
    "\n"
   ]
  }
 ],
 "metadata": {
  "anaconda-cloud": {},
  "kernel_info": {
   "name": "python3"
  },
  "kernelspec": {
   "display_name": "Python 3",
   "language": "python",
   "name": "python3"
  },
  "language_info": {
   "codemirror_mode": {
    "name": "ipython",
    "version": 3
   },
   "file_extension": ".py",
   "mimetype": "text/x-python",
   "name": "python",
   "nbconvert_exporter": "python",
   "pygments_lexer": "ipython3",
   "version": "3.7.9"
  },
  "latex_envs": {
   "LaTeX_envs_menu_present": true,
   "autoclose": false,
   "autocomplete": true,
   "bibliofile": "biblio.bib",
   "cite_by": "apalike",
   "current_citInitial": 1,
   "eqLabelWithNumbers": true,
   "eqNumInitial": 1,
   "hotkeys": {
    "equation": "Ctrl-E",
    "itemize": "Ctrl-I"
   },
   "labels_anchors": false,
   "latex_user_defs": false,
   "report_style_numbering": false,
   "user_envs_cfg": false
  },
  "nteract": {
   "version": "0.12.3"
  }
 },
 "nbformat": 4,
 "nbformat_minor": 2
}
